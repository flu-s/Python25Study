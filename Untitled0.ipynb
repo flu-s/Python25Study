{
  "nbformat": 4,
  "nbformat_minor": 0,
  "metadata": {
    "colab": {
      "provenance": [],
      "authorship_tag": "ABX9TyMdGZqsbB1LRMNmvkPHswQk",
      "include_colab_link": true
    },
    "kernelspec": {
      "name": "python3",
      "display_name": "Python 3"
    },
    "language_info": {
      "name": "python"
    }
  },
  "cells": [
    {
      "cell_type": "markdown",
      "metadata": {
        "id": "view-in-github",
        "colab_type": "text"
      },
      "source": [
        "<a href=\"https://colab.research.google.com/github/flu-s/Python25Study/blob/main/Untitled0.ipynb\" target=\"_parent\"><img src=\"https://colab.research.google.com/assets/colab-badge.svg\" alt=\"Open In Colab\"/></a>"
      ]
    },
    {
      "cell_type": "code",
      "execution_count": 9,
      "metadata": {
        "colab": {
          "base_uri": "https://localhost:8080/"
        },
        "id": "MeRtGhfGwaco",
        "outputId": "4115303f-75f5-4606-bb28-7b2990462c12"
      },
      "outputs": [
        {
          "output_type": "stream",
          "name": "stdout",
          "text": [
            "7\n"
          ]
        }
      ],
      "source": [
        "# 함수 학습하기\n",
        "\n",
        "# def는 함수를 만들 때 사용하는 예약어\n",
        "# 함수 이름은 함수를 만드는 사람이 임의로 만들 수 있다\n",
        "# 함수 이름 뒤 괄호 안의 매개변수는 이 함수에 입력으로 전달되는 값을 받는 변수\n",
        "# if, while, for문들과 마찬가지로 함수에서 수행할 문장을 입력한다\n",
        "\n",
        "# 함수 기본 형태\n",
        "\n",
        "# def 함수_이름(매개변수):\n",
        "#   수행할_문장\n",
        "#   return 반환값\n",
        "\n",
        "def add(a,b):\n",
        "  result = a + b\n",
        "  return result\n",
        "\n",
        "def add(a,b):  # a,b는 매개변수\n",
        "    return a + b\n",
        "\n",
        "\n",
        "a = 3\n",
        "b = 4\n",
        "c = add(a,b)\n",
        "print(c) # print(add(3,4)) 3, 4는 인수\n",
        "\n",
        "# 입력값과 반환값이 있는 함수의 사용법\n",
        "# 반환값을_반을_변수 = 함수_이름(입력_인수1, 입력_인수2, ...)\n",
        "\n"
      ]
    },
    {
      "cell_type": "code",
      "source": [
        "# 입력 값이 없는 ㅁ수\n",
        "\n",
        "def say():\n",
        "  return 'HI'\n",
        "\n",
        "a = say()\n",
        "print(a)"
      ],
      "metadata": {
        "colab": {
          "base_uri": "https://localhost:8080/"
        },
        "id": "1TGVXdQGxH-T",
        "outputId": "f957585c-ac78-40e5-e9db-7c81ba78f4fc"
      },
      "execution_count": 15,
      "outputs": [
        {
          "output_type": "stream",
          "name": "stdout",
          "text": [
            "HI\n"
          ]
        }
      ]
    },
    {
      "cell_type": "code",
      "source": [
        "# 입력값이 없고 반환값만 있는 함수\n",
        "# 반환값을_받을_변수 = 함수_이름()\n",
        "\n",
        "def add(a,b):\n",
        "  print(\"%d, %d의 합은 %d입니다\"% (a, b, a+b))\n",
        "\n",
        "# 반환값이 없는 함수는 호출해도 반환되는 값이 없기 때문에 아래와 같이 사용한다\n",
        "\n",
        "add(3,4)\n",
        "\n",
        "# 반환값이 없는 함수 기본형태\n",
        "# 함수_이름(입력_인수1, 입력_인수2, ...)\n",
        "\n",
        "a = add(3,4)\n",
        "print(a) # 반환값 = None 반환한다는 반환값이 없다는 것\n",
        "\n",
        "# 입력값, 반환값없는 함수\n",
        "\n",
        "def say():\n",
        "    print('Hi')\n",
        "say()\n",
        "\n",
        "# 입력값, 반환값없는 함수 기본형태\n",
        "# 함수_이름\n",
        "\n"
      ],
      "metadata": {
        "colab": {
          "base_uri": "https://localhost:8080/"
        },
        "id": "dlGNTiQcycio",
        "outputId": "780c9121-02f0-4fc9-c103-bc602a5b095f"
      },
      "execution_count": 25,
      "outputs": [
        {
          "output_type": "stream",
          "name": "stdout",
          "text": [
            "3, 4의 합은 7입니다\n",
            "3, 4의 합은 7입니다\n",
            "None\n",
            "Hi\n"
          ]
        }
      ]
    },
    {
      "cell_type": "code",
      "source": [
        "# 매개변수 지정하여 호출\n",
        "\n",
        "result = sub(a=7, b=3)  # a에 7, b에 3을 전달\n",
        "print(result)"
      ],
      "metadata": {
        "colab": {
          "base_uri": "https://localhost:8080/",
          "height": 240
        },
        "id": "7b56rtMwzia4",
        "outputId": "3fd54021-9274-4ccf-e529-005dd8490db9"
      },
      "execution_count": 30,
      "outputs": [
        {
          "output_type": "error",
          "ename": "NameError",
          "evalue": "name 'sub' is not defined",
          "traceback": [
            "\u001b[0;31m---------------------------------------------------------------------------\u001b[0m",
            "\u001b[0;31mNameError\u001b[0m                                 Traceback (most recent call last)",
            "\u001b[0;32m/tmp/ipython-input-2201999394.py\u001b[0m in \u001b[0;36m<cell line: 0>\u001b[0;34m()\u001b[0m\n\u001b[1;32m      1\u001b[0m \u001b[0;31m# 매개변수 지정하여 호출\u001b[0m\u001b[0;34m\u001b[0m\u001b[0;34m\u001b[0m\u001b[0m\n\u001b[1;32m      2\u001b[0m \u001b[0;34m\u001b[0m\u001b[0m\n\u001b[0;32m----> 3\u001b[0;31m \u001b[0mresult\u001b[0m \u001b[0;34m=\u001b[0m \u001b[0msub\u001b[0m\u001b[0;34m(\u001b[0m\u001b[0ma\u001b[0m\u001b[0;34m=\u001b[0m\u001b[0;36m7\u001b[0m\u001b[0;34m,\u001b[0m \u001b[0mb\u001b[0m\u001b[0;34m=\u001b[0m\u001b[0;36m3\u001b[0m\u001b[0;34m)\u001b[0m  \u001b[0;31m# a에 7, b에 3을 전달\u001b[0m\u001b[0;34m\u001b[0m\u001b[0;34m\u001b[0m\u001b[0m\n\u001b[0m\u001b[1;32m      4\u001b[0m \u001b[0mprint\u001b[0m\u001b[0;34m(\u001b[0m\u001b[0mresult\u001b[0m\u001b[0;34m)\u001b[0m\u001b[0;34m\u001b[0m\u001b[0;34m\u001b[0m\u001b[0m\n",
            "\u001b[0;31mNameError\u001b[0m: name 'sub' is not defined"
          ]
        }
      ]
    },
    {
      "cell_type": "code",
      "source": [
        "# 입력값이 몇 개가 될지 모를 때\n",
        "# def 함수_이름(*매개변수):\n",
        "#      수행할_문장\n",
        "\n",
        "def add_many(*args):\n",
        "    result = 0\n",
        "    for i in args:\n",
        "        result = result + i\n",
        "    return result\n",
        "\n",
        "\n",
        "result = add_many(1,2,3)\n",
        "print(result)\n",
        "result = add_many(1,2,3,4,5,6,7,8,9,10)\n",
        "print(result)\n",
        "\n",
        "def add_mul(choice, *args):\n",
        "    if choice == \"add\": #매개변수 choice에 \"add\"를 입력 받았을 때\n",
        "      result = 0\n",
        "      for i in args:\n",
        "          result = result + i\n",
        "    elif choice == \"mul\": # 매개변수 choice에 \"mul\"을 입력 받았을 때\n",
        "        result = 1\n",
        "        for i in args:\n",
        "          result = result + i\n",
        "    return result\n",
        "\n",
        "result = add_mul('add',1,2,3,4,5)\n",
        "print(result)\n",
        "\n",
        "result = add_mul('mul',1,2,3,4,5)\n",
        "print(result)"
      ],
      "metadata": {
        "colab": {
          "base_uri": "https://localhost:8080/"
        },
        "id": "PcugaEvB0CTo",
        "outputId": "071f40c2-f5f6-44ea-afd5-3a123f27a290"
      },
      "execution_count": 44,
      "outputs": [
        {
          "output_type": "stream",
          "name": "stdout",
          "text": [
            "6\n",
            "55\n",
            "15\n",
            "16\n"
          ]
        }
      ]
    },
    {
      "cell_type": "code",
      "source": [
        "# 키워드 매개변수, kwargs\n",
        "# 키워드 = 값 형태로 전달하는 매개변수를 받을 때 사용\n",
        "# 키워드 매개변수를 사용할 때는 매개변수 앞에 별 2개( ** )를 붙인다\n",
        "\n",
        "def print_kwargs(**kwargs):\n",
        "  print(kwargs)\n",
        "\n",
        "print_kwargs(a=1)\n",
        "print_kwargs(name='foo', age=3)\n",
        "print_kwargs(name='홍길동', age=25, city='서울', job='개발자')\n",
        "\n",
        "def create_profile(**info):\n",
        "    print(\"===프로필정보===\")\n",
        "    for key, value in info.items():\n",
        "        print(f\"{key}:{value}\")"
      ],
      "metadata": {
        "colab": {
          "base_uri": "https://localhost:8080/"
        },
        "id": "vdeP4sHI1xXJ",
        "outputId": "0651d614-b3ce-4406-f200-3591ddd3a0e0"
      },
      "execution_count": 70,
      "outputs": [
        {
          "output_type": "stream",
          "name": "stdout",
          "text": [
            "{'a': 1}\n",
            "{'name': 'foo', 'age': 3}\n",
            "{'name': '홍길동', 'age': 25, 'city': '서울', 'job': '개발자'}\n"
          ]
        }
      ]
    },
    {
      "cell_type": "code",
      "source": [
        "def create_profile(**info):\n",
        "    print(\"===프로필정보===\")\n",
        "    for key, value in info.items():\n",
        "        print(f\"{key}:{value}\")\n",
        "create_profile(이름='김철수', 나이=30, 직업='프로그래머', 취미='독서')"
      ],
      "metadata": {
        "colab": {
          "base_uri": "https://localhost:8080/"
        },
        "id": "7-jWJrWo22ww",
        "outputId": "3fc66dff-d890-40f3-f575-11bb011a177f"
      },
      "execution_count": 73,
      "outputs": [
        {
          "output_type": "stream",
          "name": "stdout",
          "text": [
            "===프로필정보===\n",
            "이름:김철수\n",
            "나이:30\n",
            "직업:프로그래머\n",
            "취미:독서\n"
          ]
        }
      ]
    },
    {
      "cell_type": "code",
      "source": [
        "# 일반 매개변수, 가변 매개변수(*args), 키워드 매개변수(**kwargs) 모두 함께 사용 가능\n",
        "# 순서는 아래와 같이 사용해야 됨\n",
        "\n",
        "def mixed_function(name,*args,**kwargs):\n",
        "  print(f\"이름:{name}\")\n",
        "  print(f\"추가 인수들:{args}\")\n",
        "  print(f\"키워드 인수들:{kwargs}\")\n",
        "\n",
        "mixed_function('홍길동', 1,2,3, age=25, city='서울')"
      ],
      "metadata": {
        "colab": {
          "base_uri": "https://localhost:8080/"
        },
        "id": "R8ioT8T68a-I",
        "outputId": "15050842-2b6d-4683-df2e-3eafc6315885"
      },
      "execution_count": 75,
      "outputs": [
        {
          "output_type": "stream",
          "name": "stdout",
          "text": [
            "이름:홍길동\n",
            "추가 인수들:(1, 2, 3)\n",
            "키워드 인수들:{'age': 25, 'city': '서울'}\n"
          ]
        }
      ]
    },
    {
      "cell_type": "code",
      "source": [
        "# 함수의 반환값은 하나\n",
        "\n",
        "def add_and_mul(a,b):\n",
        "    return a+b, a*b\n",
        "result1, result2 = add_and_mul(3,4)\n",
        "print(result)\n"
      ],
      "metadata": {
        "colab": {
          "base_uri": "https://localhost:8080/"
        },
        "id": "cmRCWRzs899n",
        "outputId": "664dfded-0d5d-48f6-df09-ab455844e01f"
      },
      "execution_count": 84,
      "outputs": [
        {
          "output_type": "stream",
          "name": "stdout",
          "text": [
            "(7, 12)\n"
          ]
        }
      ]
    },
    {
      "cell_type": "code",
      "source": [
        "# return의 다른 쓰임새\n",
        "# 특별한 상황일 때 함수를 빠져나가고 싶다면 return 단독으로 써서 함수를 즉시 빠져나갈 수 잇다\n",
        "\n",
        "def say_nick(nick):\n",
        "    if nick == \"바보\":\n",
        "      return\n",
        "    print(\"나의 별명은 %s입니다.\"%nick)\n",
        "say_nick('야호')\n",
        "say_nick('바보')"
      ],
      "metadata": {
        "colab": {
          "base_uri": "https://localhost:8080/"
        },
        "id": "oV0euVoV9HdC",
        "outputId": "12fab55e-e990-41e8-ae1d-f04d0948ea8d"
      },
      "execution_count": 89,
      "outputs": [
        {
          "output_type": "stream",
          "name": "stdout",
          "text": [
            "나의 별명은 야호입니다.\n"
          ]
        }
      ]
    },
    {
      "cell_type": "code",
      "source": [
        "# 매개변수에 초깃값 미리 설정하기\n",
        "\n",
        "def say_myself(name, age, man=True):\n",
        "    print(\"나의 이름은 %s 입니다.\" % name)\n",
        "    print(\"나이는 %d살입니다.\" % age)\n",
        "    if man:\n",
        "        print(\"남자입니다.\")\n",
        "    else:\n",
        "        print(\"여자입니다.\")\n",
        "\n",
        "#say_myself\n",
        "\n",
        "say_myself(\"박응용\", 27)\n",
        "say_myself(\"박응용\", 27, True)\n",
        "\n",
        "# man이라는 변수에는 입력값을 주지 않았지만, man의 초깃값 True를 갖게된다"
      ],
      "metadata": {
        "colab": {
          "base_uri": "https://localhost:8080/"
        },
        "id": "G2GX07gS9Exv",
        "outputId": "ac9dc799-6050-4b16-c392-3bba0e90cff8"
      },
      "execution_count": 91,
      "outputs": [
        {
          "output_type": "stream",
          "name": "stdout",
          "text": [
            "나의 이름은 박응용 입니다.\n",
            "나이는 27살입니다.\n",
            "남자입니다.\n",
            "나의 이름은 박응용 입니다.\n",
            "나이는 27살입니다.\n",
            "남자입니다.\n"
          ]
        }
      ]
    },
    {
      "cell_type": "code",
      "source": [
        "# 함수 안에서 선언한 변수의 효력 범위\n",
        "\n",
        "a = 1\n",
        "def vartest(a):\n",
        "    a = a +1\n",
        "vartest(a)\n",
        "print(a)\n",
        "\n",
        "# 함수 안에서 사용하는 매개변수는 함수 안에서만 사용하는 ' 함수만의 변수'이기 때문에 함수 밖의 변수 a와 전혀 상관없다\n",
        "\n",
        "# 함수 안에서 함수 밖의 변수를 변경하는 방법\n",
        "\n",
        "# return사용하기\n",
        "\n",
        "a = 1\n",
        "def vartest(a):\n",
        "    a = a +1\n",
        "    return a\n",
        "a = vartest(a)\n",
        "print(a)\n",
        "\n",
        "# global 명령어 사용하기\n",
        "\n",
        "a = 1\n",
        "def vartest():\n",
        "    global a\n",
        "    a = a + 1\n",
        "\n",
        "vartest()\n",
        "print(a)\n",
        "\n",
        "# 리스트나 딕셔너리는 함수에서 변경 가능\n",
        "# 리스트나 딕셔너리를 함수에 전달할 때는 원본이 변경될 수 있다\n",
        "\n",
        "def change_list(my_list):\n",
        "    my_list.append(4)  # 리스트에 값을 추가\n",
        "a = [1, 2, 3]\n",
        "change_list(a)\n",
        "print(a)"
      ],
      "metadata": {
        "colab": {
          "base_uri": "https://localhost:8080/"
        },
        "id": "lsYryZgP-fd4",
        "outputId": "973a9620-0339-4e02-e3aa-217461f033ad"
      },
      "execution_count": 96,
      "outputs": [
        {
          "output_type": "stream",
          "name": "stdout",
          "text": [
            "1\n",
            "2\n",
            "2\n",
            "[1, 2, 3, 4]\n"
          ]
        }
      ]
    },
    {
      "cell_type": "code",
      "source": [
        "# lambda 예약어\n",
        "\n",
        "# 함수를 생성할 때 사용하는 예약어 def와 동일한 역할을 한다\n",
        "# 함수를 한 줄로 간결하게 만들 때 사용\n",
        "# def를 사용할 수 없는 곳에 주로 쓰인다\n",
        "\n",
        "# lambda 기본 형식\n",
        "# 함수_이름 = lambda 매개변수1, 매개변수2, ... : 매개변수를_이용한_표현식\n",
        "\n",
        "add = lambda a,b: a+b\n",
        "result = add(3,4)\n",
        "print(result)"
      ],
      "metadata": {
        "colab": {
          "base_uri": "https://localhost:8080/"
        },
        "id": "r48WhMK7_5sH",
        "outputId": "026d5ed2-4473-4ae1-9b00-80eadcbe1adc"
      },
      "execution_count": 98,
      "outputs": [
        {
          "output_type": "stream",
          "name": "stdout",
          "text": [
            "7\n"
          ]
        }
      ]
    },
    {
      "cell_type": "code",
      "source": [
        "# 함수의 독스트링(Docstring)\n",
        "# 함수에 대한 설명을 문서화하는 방법\n",
        "# 함수의 첫번째 줄에 삼중 따옴표를 둘러싼 문자열을 작성하면 된다\n",
        "\n",
        "def add(a,b):\n",
        "  \"\"\"\n",
        "  두 숫자를 더하는 함수\n",
        "\n",
        "  Parameters:\n",
        "  a (int, float): 첫번째 숫자\n",
        "  b (int, float): 두번째 숫자\n",
        "\n",
        "  Returns:\n",
        "  int, float: 두 숫자의 합\n",
        "  \"\"\"\n",
        "  return a + b\n",
        "\n",
        "  #독스트링 확인하기\n",
        "print(add.__doc__)"
      ],
      "metadata": {
        "colab": {
          "base_uri": "https://localhost:8080/"
        },
        "id": "yhe0PHn_AZVH",
        "outputId": "0a295e84-da16-4545-84be-c4dc426c3af5"
      },
      "execution_count": 101,
      "outputs": [
        {
          "output_type": "stream",
          "name": "stdout",
          "text": [
            "\n",
            "  두 숫자를 더하는 함수\n",
            "\n",
            "  Parameters:\n",
            "  a (int, float): 첫번째 숫자\n",
            "  b (int, float): 두번째 숫자\n",
            "\n",
            "  Returns:\n",
            "  int, float: 두 숫자의 합\n",
            "  \n"
          ]
        }
      ]
    },
    {
      "cell_type": "code",
      "source": [
        "# 사용자 입출력\n",
        "\n",
        "# input 사용하기\n",
        "\n",
        "a = input()\n",
        "a\n",
        "\n",
        "# 프롬프트를 띄워 사용자 입력받기\n",
        "# input(\"안내_문구\")\n",
        "\n",
        "number = input(\"숫자를 입력하세요\")\n",
        "print(number)\n",
        "\n",
        "type(number)"
      ],
      "metadata": {
        "colab": {
          "base_uri": "https://localhost:8080/",
          "height": 504
        },
        "id": "MUIT1XRgBBaP",
        "outputId": "ee4f1486-8cc2-4974-87a8-bd977472be2a"
      },
      "execution_count": 106,
      "outputs": [
        {
          "output_type": "error",
          "ename": "KeyboardInterrupt",
          "evalue": "Interrupted by user",
          "traceback": [
            "\u001b[0;31m---------------------------------------------------------------------------\u001b[0m",
            "\u001b[0;31mKeyboardInterrupt\u001b[0m                         Traceback (most recent call last)",
            "\u001b[0;32m/tmp/ipython-input-3067835669.py\u001b[0m in \u001b[0;36m<cell line: 0>\u001b[0;34m()\u001b[0m\n\u001b[1;32m      3\u001b[0m \u001b[0;31m# input 사용하기\u001b[0m\u001b[0;34m\u001b[0m\u001b[0;34m\u001b[0m\u001b[0m\n\u001b[1;32m      4\u001b[0m \u001b[0;34m\u001b[0m\u001b[0m\n\u001b[0;32m----> 5\u001b[0;31m \u001b[0ma\u001b[0m \u001b[0;34m=\u001b[0m \u001b[0minput\u001b[0m\u001b[0;34m(\u001b[0m\u001b[0;34m)\u001b[0m\u001b[0;34m\u001b[0m\u001b[0;34m\u001b[0m\u001b[0m\n\u001b[0m\u001b[1;32m      6\u001b[0m \u001b[0ma\u001b[0m\u001b[0;34m\u001b[0m\u001b[0;34m\u001b[0m\u001b[0m\n\u001b[1;32m      7\u001b[0m \u001b[0;34m\u001b[0m\u001b[0m\n",
            "\u001b[0;32m/usr/local/lib/python3.12/dist-packages/ipykernel/kernelbase.py\u001b[0m in \u001b[0;36mraw_input\u001b[0;34m(self, prompt)\u001b[0m\n\u001b[1;32m   1175\u001b[0m                 \u001b[0;34m\"raw_input was called, but this frontend does not support input requests.\"\u001b[0m\u001b[0;34m\u001b[0m\u001b[0;34m\u001b[0m\u001b[0m\n\u001b[1;32m   1176\u001b[0m             )\n\u001b[0;32m-> 1177\u001b[0;31m         return self._input_request(\n\u001b[0m\u001b[1;32m   1178\u001b[0m             \u001b[0mstr\u001b[0m\u001b[0;34m(\u001b[0m\u001b[0mprompt\u001b[0m\u001b[0;34m)\u001b[0m\u001b[0;34m,\u001b[0m\u001b[0;34m\u001b[0m\u001b[0;34m\u001b[0m\u001b[0m\n\u001b[1;32m   1179\u001b[0m             \u001b[0mself\u001b[0m\u001b[0;34m.\u001b[0m\u001b[0m_parent_ident\u001b[0m\u001b[0;34m[\u001b[0m\u001b[0;34m\"shell\"\u001b[0m\u001b[0;34m]\u001b[0m\u001b[0;34m,\u001b[0m\u001b[0;34m\u001b[0m\u001b[0;34m\u001b[0m\u001b[0m\n",
            "\u001b[0;32m/usr/local/lib/python3.12/dist-packages/ipykernel/kernelbase.py\u001b[0m in \u001b[0;36m_input_request\u001b[0;34m(self, prompt, ident, parent, password)\u001b[0m\n\u001b[1;32m   1217\u001b[0m             \u001b[0;32mexcept\u001b[0m \u001b[0mKeyboardInterrupt\u001b[0m\u001b[0;34m:\u001b[0m\u001b[0;34m\u001b[0m\u001b[0;34m\u001b[0m\u001b[0m\n\u001b[1;32m   1218\u001b[0m                 \u001b[0;31m# re-raise KeyboardInterrupt, to truncate traceback\u001b[0m\u001b[0;34m\u001b[0m\u001b[0;34m\u001b[0m\u001b[0m\n\u001b[0;32m-> 1219\u001b[0;31m                 \u001b[0;32mraise\u001b[0m \u001b[0mKeyboardInterrupt\u001b[0m\u001b[0;34m(\u001b[0m\u001b[0;34m\"Interrupted by user\"\u001b[0m\u001b[0;34m)\u001b[0m \u001b[0;32mfrom\u001b[0m \u001b[0;32mNone\u001b[0m\u001b[0;34m\u001b[0m\u001b[0;34m\u001b[0m\u001b[0m\n\u001b[0m\u001b[1;32m   1220\u001b[0m             \u001b[0;32mexcept\u001b[0m \u001b[0mException\u001b[0m\u001b[0;34m:\u001b[0m\u001b[0;34m\u001b[0m\u001b[0;34m\u001b[0m\u001b[0m\n\u001b[1;32m   1221\u001b[0m                 \u001b[0mself\u001b[0m\u001b[0;34m.\u001b[0m\u001b[0mlog\u001b[0m\u001b[0;34m.\u001b[0m\u001b[0mwarning\u001b[0m\u001b[0;34m(\u001b[0m\u001b[0;34m\"Invalid Message:\"\u001b[0m\u001b[0;34m,\u001b[0m \u001b[0mexc_info\u001b[0m\u001b[0;34m=\u001b[0m\u001b[0;32mTrue\u001b[0m\u001b[0;34m)\u001b[0m\u001b[0;34m\u001b[0m\u001b[0;34m\u001b[0m\u001b[0m\n",
            "\u001b[0;31mKeyboardInterrupt\u001b[0m: Interrupted by user"
          ]
        }
      ]
    },
    {
      "cell_type": "code",
      "source": [
        "# 입력값을 숫자로 변환하기\n",
        "# input 함수는 항상 문자열을 반환\n",
        "# 숫자로 계산하려면 적절한 자료형으로 변환해야 한다\n",
        "\n",
        "# 정수로 변환하기\n",
        "\n",
        "age = input(\"나이를 입력하세요 :\")\n",
        "age = int(age)\n",
        "print(age+1)"
      ],
      "metadata": {
        "colab": {
          "base_uri": "https://localhost:8080/"
        },
        "id": "CIj_F2RLBgL_",
        "outputId": "788122af-455a-4c5c-e701-ea1d3db7e227"
      },
      "execution_count": 108,
      "outputs": [
        {
          "output_type": "stream",
          "name": "stdout",
          "text": [
            "나이를 입력하세요 :3\n",
            "4\n"
          ]
        }
      ]
    },
    {
      "cell_type": "code",
      "source": [
        "# 실수로 변환하기\n",
        "height = input(\"키를 입력하세요(cm):\")\n",
        "height = float(height) # 문자열을 실수로 변환\n",
        "print(height / 100) # 미터 단위로 변환\n"
      ],
      "metadata": {
        "colab": {
          "base_uri": "https://localhost:8080/"
        },
        "id": "4ohBXeVCB0fP",
        "outputId": "6e0567ed-d9ea-484a-a5fd-1442f6bccedd"
      },
      "execution_count": 110,
      "outputs": [
        {
          "output_type": "stream",
          "name": "stdout",
          "text": [
            "키를 입력하세요(cm):175\n",
            "1.75\n"
          ]
        }
      ]
    },
    {
      "cell_type": "code",
      "source": [
        "# 한 번에 변환하기\n",
        "\n",
        "age = int(input(\"나이를 입력하세요 :\"))\n",
        "print(type(age))"
      ],
      "metadata": {
        "colab": {
          "base_uri": "https://localhost:8080/"
        },
        "id": "maN8xhsYCGg_",
        "outputId": "7087c222-d176-4786-db11-dd38947a21e2"
      },
      "execution_count": 112,
      "outputs": [
        {
          "output_type": "stream",
          "name": "stdout",
          "text": [
            "나이를 입력하세요 :25\n",
            "<class 'int'>\n"
          ]
        }
      ]
    },
    {
      "cell_type": "code",
      "source": [
        "# 큰 따옴표로 둘러싸인 문자열은 + 연산과 동일\n",
        "\n",
        "print(\"life\"\"is\"\"too short\") # 1번\n",
        "print(\"life\" + \"is\" + \"too short\") # 2번\n",
        "\n",
        "# 문자열 띄어쓰기는 쉼표로 한다\n",
        "print(\"life\", \"is\",\"too short\")\n",
        "\n",
        "# sep 매개변수로 구분자 설정하기\n",
        "# 출력할 값들 사이의 구분자를 지정할 수 있다\n",
        "# sep 매개변수의 기본값은 공백('')\n",
        "print(\"2025\",\"08\",\"17\", sep=\"-\")\n",
        "print(\"점프\",\"투\",\"파이썬\", sep=\"TO\")\n",
        "\n",
        "# 한 줄에 결괏값 출력하기\n",
        "# end 매개변수의 기본값은 줄바꿈(\\n)\n",
        "for i in range(10):\n",
        "    print(i, end='')"
      ],
      "metadata": {
        "colab": {
          "base_uri": "https://localhost:8080/"
        },
        "id": "3EAkvDCdCc5H",
        "outputId": "a4ee9fd1-7473-4b80-d208-5e32ced40bc9"
      },
      "execution_count": 119,
      "outputs": [
        {
          "output_type": "stream",
          "name": "stdout",
          "text": [
            "lifeistoo short\n",
            "lifeistoo short\n",
            "life is too short\n",
            "2025-08-17\n",
            "점프TO투TO파이썬\n",
            "0123456789"
          ]
        }
      ]
    },
    {
      "cell_type": "code",
      "source": [
        "# 계산기 만들기\n",
        "\n",
        "print(\"=== 간단한 계산기 ===\")\n",
        "\n",
        "# 사용자로부터 두 숫자 입력받기\n",
        "num1 = float(input(\"첫 번째 숫자를 입력하세요: \"))\n",
        "num2 = float(input(\"두 번째 숫자를 입력하세요: \"))\n",
        "\n",
        "# 계산 결과 출력\n",
        "print(f\"{num1} + {num2} = {num1 + num2}\")\n",
        "print(f\"{num1} - {num2} = {num1 - num2}\")\n",
        "print(f\"{num1} * {num2} = {num1 * num2}\")\n",
        "\n",
        "if num2 != 0:\n",
        "    print(f\"{num1} / {num2} = {num1 / num2}\")\n",
        "else:\n",
        "    print(\"0으로 나눌 수 없습니다.\")\n"
      ],
      "metadata": {
        "colab": {
          "base_uri": "https://localhost:8080/"
        },
        "id": "4WHBh1OmDbLv",
        "outputId": "164b510d-0c73-40d9-b79d-d2b1929b5acf"
      },
      "execution_count": 120,
      "outputs": [
        {
          "output_type": "stream",
          "name": "stdout",
          "text": [
            "=== 간단한 계산기 ===\n",
            "첫 번째 숫자를 입력하세요: 21\n",
            "두 번째 숫자를 입력하세요: 20\n",
            "21.0 + 20.0 = 41.0\n",
            "21.0 - 20.0 = 1.0\n",
            "21.0 * 20.0 = 420.0\n",
            "21.0 / 20.0 = 1.05\n"
          ]
        }
      ]
    },
    {
      "cell_type": "code",
      "source": [
        "# 파일 읽고 쓰기\n",
        "\n",
        "# 파일 생성하기\n",
        "# 파일_객체 = open(파일_이름, 파일_열기_모드)\n",
        "\n",
        "# 파일 열기 모드\n",
        "# r = 읽기 모드 : 파일읽기만 할 때\n",
        "# w = 쓰기 모드 : 파일에 내용을 쓸 때\n",
        "# a = 추가 모드 : 파일의 마지막에 새로운 내용을 추가할 때 사용\n",
        "\n",
        "f = open(\"새파일.txt\", 'w')\n",
        "f.close()\n",
        "\n",
        "# f.close()는 생략해도 된다 = 프로그램을 종료할 때 파이썬 프로그램이 열려있는 파일의 개체를 자동으로 닫아줌\n",
        "# 쓰기모드로 열었던 파일을 닫지 않고 다시 사용하려고 하면 오류가 발생하기 때무넹 파일을 직접 닫아주는 것이 좋다"
      ],
      "metadata": {
        "id": "5CkhV1geDjCz"
      },
      "execution_count": null,
      "outputs": []
    },
    {
      "cell_type": "code",
      "source": [
        "# 파일 경로와 슬래시(\\)\n",
        "# 파이썬 코드에서 파일 경로를 표시할 때 슬래시(/)를 사용할 수 있다\n",
        "# 역슬래시(\\)를 사용하거나 역슬랙시(\\)를 2개 사용할 때는 문자열 앞에 r문자(raw string) 덧붙여 사용해야 한다\n"
      ],
      "metadata": {
        "id": "tGZKo4BFDoSu"
      },
      "execution_count": 121,
      "outputs": []
    },
    {
      "cell_type": "code",
      "source": [
        "# 파일 쓰기 모드로 열어 내용 쓰기\n",
        "\n",
        "f = open(\"새파일.txt\", 'w')\n",
        "for i in range(1, 11):\n",
        "    data = \"%d번째 줄입니다.\\n\" % i\n",
        "    f.write(data)\n",
        "f.close()\n",
        "\n",
        "#파일에 데이터를 적는 방법\n",
        "\n",
        "for i in range(1,11):\n",
        "    data = \"%d번째 줄입니다.\\n\"%i\n",
        "    print(data)\n",
        "\n",
        "# 모니터 화면에 데이터를 출력하는 방법"
      ],
      "metadata": {
        "colab": {
          "base_uri": "https://localhost:8080/"
        },
        "id": "x4rAjp4dIfWH",
        "outputId": "a8c27544-40b2-412c-85b1-dbbfd615aaba"
      },
      "execution_count": 125,
      "outputs": [
        {
          "output_type": "stream",
          "name": "stdout",
          "text": [
            "1번째 줄입니다.\n",
            "\n",
            "2번째 줄입니다.\n",
            "\n",
            "3번째 줄입니다.\n",
            "\n",
            "4번째 줄입니다.\n",
            "\n",
            "5번째 줄입니다.\n",
            "\n",
            "6번째 줄입니다.\n",
            "\n",
            "7번째 줄입니다.\n",
            "\n",
            "8번째 줄입니다.\n",
            "\n",
            "9번째 줄입니다.\n",
            "\n",
            "10번째 줄입니다.\n",
            "\n"
          ]
        }
      ]
    },
    {
      "cell_type": "code",
      "source": [
        "from inspect import Traceback\n",
        "# readline 함수\n",
        "# 파일의 첫번째 줄을 읽어 출력하는 예제\n",
        "f = open(\"새파일.txt\", 'r')\n",
        "line = f.readline()\n",
        "print(line)\n",
        "f.close()\n",
        "\n",
        "# 모든 줄을 읽어 화면에 출력할 때\n",
        "f = open(\"새파일.txt\",'r')\n",
        "while True:\n",
        "  line = f.readline()\n",
        "  if not line : break\n",
        "  print(line)\n",
        "f.close()\n",
        "\n",
        "while True:\n",
        "    data = input()\n",
        "    if not data: break\n",
        "    print(data)"
      ],
      "metadata": {
        "colab": {
          "base_uri": "https://localhost:8080/",
          "height": 910
        },
        "id": "8T1A8cBmJV7X",
        "outputId": "b8cd0ea4-5a85-4599-be14-8eb7e85b4972"
      },
      "execution_count": 130,
      "outputs": [
        {
          "output_type": "stream",
          "name": "stdout",
          "text": [
            "1번째 줄입니다.\n",
            "\n",
            "1번째 줄입니다.\n",
            "\n",
            "2번째 줄입니다.\n",
            "\n",
            "3번째 줄입니다.\n",
            "\n",
            "4번째 줄입니다.\n",
            "\n",
            "5번째 줄입니다.\n",
            "\n",
            "6번째 줄입니다.\n",
            "\n",
            "7번째 줄입니다.\n",
            "\n",
            "8번째 줄입니다.\n",
            "\n",
            "9번째 줄입니다.\n",
            "\n",
            "10번째 줄입니다.\n",
            "\n"
          ]
        },
        {
          "output_type": "error",
          "ename": "KeyboardInterrupt",
          "evalue": "Interrupted by user",
          "traceback": [
            "\u001b[0;31m---------------------------------------------------------------------------\u001b[0m",
            "\u001b[0;31mKeyboardInterrupt\u001b[0m                         Traceback (most recent call last)",
            "\u001b[0;32m/tmp/ipython-input-4174281524.py\u001b[0m in \u001b[0;36m<cell line: 0>\u001b[0;34m()\u001b[0m\n\u001b[1;32m     16\u001b[0m \u001b[0;34m\u001b[0m\u001b[0m\n\u001b[1;32m     17\u001b[0m \u001b[0;32mwhile\u001b[0m \u001b[0;32mTrue\u001b[0m\u001b[0;34m:\u001b[0m\u001b[0;34m\u001b[0m\u001b[0;34m\u001b[0m\u001b[0m\n\u001b[0;32m---> 18\u001b[0;31m     \u001b[0mdata\u001b[0m \u001b[0;34m=\u001b[0m \u001b[0minput\u001b[0m\u001b[0;34m(\u001b[0m\u001b[0;34m)\u001b[0m\u001b[0;34m\u001b[0m\u001b[0;34m\u001b[0m\u001b[0m\n\u001b[0m\u001b[1;32m     19\u001b[0m     \u001b[0;32mif\u001b[0m \u001b[0;32mnot\u001b[0m \u001b[0mdata\u001b[0m\u001b[0;34m:\u001b[0m \u001b[0;32mbreak\u001b[0m\u001b[0;34m\u001b[0m\u001b[0;34m\u001b[0m\u001b[0m\n\u001b[1;32m     20\u001b[0m     \u001b[0mprint\u001b[0m\u001b[0;34m(\u001b[0m\u001b[0mdata\u001b[0m\u001b[0;34m)\u001b[0m\u001b[0;34m\u001b[0m\u001b[0;34m\u001b[0m\u001b[0m\n",
            "\u001b[0;32m/usr/local/lib/python3.12/dist-packages/ipykernel/kernelbase.py\u001b[0m in \u001b[0;36mraw_input\u001b[0;34m(self, prompt)\u001b[0m\n\u001b[1;32m   1175\u001b[0m                 \u001b[0;34m\"raw_input was called, but this frontend does not support input requests.\"\u001b[0m\u001b[0;34m\u001b[0m\u001b[0;34m\u001b[0m\u001b[0m\n\u001b[1;32m   1176\u001b[0m             )\n\u001b[0;32m-> 1177\u001b[0;31m         return self._input_request(\n\u001b[0m\u001b[1;32m   1178\u001b[0m             \u001b[0mstr\u001b[0m\u001b[0;34m(\u001b[0m\u001b[0mprompt\u001b[0m\u001b[0;34m)\u001b[0m\u001b[0;34m,\u001b[0m\u001b[0;34m\u001b[0m\u001b[0;34m\u001b[0m\u001b[0m\n\u001b[1;32m   1179\u001b[0m             \u001b[0mself\u001b[0m\u001b[0;34m.\u001b[0m\u001b[0m_parent_ident\u001b[0m\u001b[0;34m[\u001b[0m\u001b[0;34m\"shell\"\u001b[0m\u001b[0;34m]\u001b[0m\u001b[0;34m,\u001b[0m\u001b[0;34m\u001b[0m\u001b[0;34m\u001b[0m\u001b[0m\n",
            "\u001b[0;32m/usr/local/lib/python3.12/dist-packages/ipykernel/kernelbase.py\u001b[0m in \u001b[0;36m_input_request\u001b[0;34m(self, prompt, ident, parent, password)\u001b[0m\n\u001b[1;32m   1217\u001b[0m             \u001b[0;32mexcept\u001b[0m \u001b[0mKeyboardInterrupt\u001b[0m\u001b[0;34m:\u001b[0m\u001b[0;34m\u001b[0m\u001b[0;34m\u001b[0m\u001b[0m\n\u001b[1;32m   1218\u001b[0m                 \u001b[0;31m# re-raise KeyboardInterrupt, to truncate traceback\u001b[0m\u001b[0;34m\u001b[0m\u001b[0;34m\u001b[0m\u001b[0m\n\u001b[0;32m-> 1219\u001b[0;31m                 \u001b[0;32mraise\u001b[0m \u001b[0mKeyboardInterrupt\u001b[0m\u001b[0;34m(\u001b[0m\u001b[0;34m\"Interrupted by user\"\u001b[0m\u001b[0;34m)\u001b[0m \u001b[0;32mfrom\u001b[0m \u001b[0;32mNone\u001b[0m\u001b[0;34m\u001b[0m\u001b[0;34m\u001b[0m\u001b[0m\n\u001b[0m\u001b[1;32m   1220\u001b[0m             \u001b[0;32mexcept\u001b[0m \u001b[0mException\u001b[0m\u001b[0;34m:\u001b[0m\u001b[0;34m\u001b[0m\u001b[0;34m\u001b[0m\u001b[0m\n\u001b[1;32m   1221\u001b[0m                 \u001b[0mself\u001b[0m\u001b[0;34m.\u001b[0m\u001b[0mlog\u001b[0m\u001b[0;34m.\u001b[0m\u001b[0mwarning\u001b[0m\u001b[0;34m(\u001b[0m\u001b[0;34m\"Invalid Message:\"\u001b[0m\u001b[0;34m,\u001b[0m \u001b[0mexc_info\u001b[0m\u001b[0;34m=\u001b[0m\u001b[0;32mTrue\u001b[0m\u001b[0;34m)\u001b[0m\u001b[0;34m\u001b[0m\u001b[0;34m\u001b[0m\u001b[0m\n",
            "\u001b[0;31mKeyboardInterrupt\u001b[0m: Interrupted by user"
          ]
        }
      ]
    },
    {
      "cell_type": "code",
      "source": [
        "# readlines 함수 사용하기\n",
        "\n",
        "f = open(\"새파일.txt\",'r')\n",
        "lines = f.readlines()\n",
        "for line in lines:\n",
        "    print(line)\n",
        "f.close()\n",
        "\n",
        "# 줄바꿈(\\n)제거 - strip\n",
        "\n",
        "f = open(\"새파일.txt\",'r')\n",
        "lines = f.readlines()\n",
        "for line in lines:\n",
        "    line = line.strip() # 줄 끝의 줄 바꿈 문자를 제거한다\n",
        "    print(line)\n",
        "f.close()"
      ],
      "metadata": {
        "colab": {
          "base_uri": "https://localhost:8080/"
        },
        "id": "jOLSMVoqKWom",
        "outputId": "e14766b4-1490-46e0-b974-69e6c681a8d1"
      },
      "execution_count": 133,
      "outputs": [
        {
          "output_type": "stream",
          "name": "stdout",
          "text": [
            "1번째 줄입니다.\n",
            "\n",
            "2번째 줄입니다.\n",
            "\n",
            "3번째 줄입니다.\n",
            "\n",
            "4번째 줄입니다.\n",
            "\n",
            "5번째 줄입니다.\n",
            "\n",
            "6번째 줄입니다.\n",
            "\n",
            "7번째 줄입니다.\n",
            "\n",
            "8번째 줄입니다.\n",
            "\n",
            "9번째 줄입니다.\n",
            "\n",
            "10번째 줄입니다.\n",
            "\n",
            "1번째 줄입니다.\n",
            "2번째 줄입니다.\n",
            "3번째 줄입니다.\n",
            "4번째 줄입니다.\n",
            "5번째 줄입니다.\n",
            "6번째 줄입니다.\n",
            "7번째 줄입니다.\n",
            "8번째 줄입니다.\n",
            "9번째 줄입니다.\n",
            "10번째 줄입니다.\n"
          ]
        }
      ]
    },
    {
      "cell_type": "code",
      "source": [
        "# read 함수 사용하기\n",
        "\n",
        "f = open(\"새파일.txt\",'r')\n",
        "for lien in f:\n",
        "    print(line)\n",
        "f.close()\n",
        "\n",
        "# 파일 객체를 for문과 함께 사용하기\n",
        "\n",
        "f = open(\"새파일.txt\",'r')\n",
        "for line in f:\n",
        "  print(line)\n",
        "f.close()"
      ],
      "metadata": {
        "colab": {
          "base_uri": "https://localhost:8080/"
        },
        "id": "gvaHd5p3K-52",
        "outputId": "7ab8bbef-d293-49e4-ca5b-30cb1ed78ac6"
      },
      "execution_count": 138,
      "outputs": [
        {
          "output_type": "stream",
          "name": "stdout",
          "text": [
            "10번째 줄입니다.\n",
            "\n",
            "10번째 줄입니다.\n",
            "\n",
            "10번째 줄입니다.\n",
            "\n",
            "10번째 줄입니다.\n",
            "\n",
            "10번째 줄입니다.\n",
            "\n",
            "10번째 줄입니다.\n",
            "\n",
            "10번째 줄입니다.\n",
            "\n",
            "10번째 줄입니다.\n",
            "\n",
            "10번째 줄입니다.\n",
            "\n",
            "10번째 줄입니다.\n",
            "\n",
            "1번째 줄입니다.\n",
            "\n",
            "2번째 줄입니다.\n",
            "\n",
            "3번째 줄입니다.\n",
            "\n",
            "4번째 줄입니다.\n",
            "\n",
            "5번째 줄입니다.\n",
            "\n",
            "6번째 줄입니다.\n",
            "\n",
            "7번째 줄입니다.\n",
            "\n",
            "8번째 줄입니다.\n",
            "\n",
            "9번째 줄입니다.\n",
            "\n",
            "10번째 줄입니다.\n",
            "\n"
          ]
        }
      ]
    },
    {
      "cell_type": "code",
      "source": [
        "# 파일에 새로운 내용 추가하기 - w\n",
        "# 쓰기모드('w')로 파일을 열 때 이미 존재하는 파일을 열면 그 파일의 내용이 모두 사라지게 된다\n",
        "# 원래 값을 유지하면서 새로운 값만 추가해야할 경우 = a\n",
        "\n",
        "f = open(\"새파일.txt\",'a')\n",
        "for i in range(11,20):\n",
        "    data = \"%d번째 줄입니다.\\n\"%i\n",
        "    f.write(data)\n",
        "f.close()\n",
        "\n",
        "# with문과 함께 사용하기\n",
        "# 자동으로 f.close()된다\n",
        "\n",
        "f = open(\"새파일.txt\",'w')\n",
        "f.write(\"LIfe is too short, you need python\")\n",
        "f.close()\n",
        "\n",
        "# with 사용할 때 r/w/a (\" \")로 쓰기\n",
        "with open(\"새파일.txt\",\"w\") as f:\n",
        "    f.write(\"Life is too short, you need python\")"
      ],
      "metadata": {
        "id": "7MMB-2EgLaDW"
      },
      "execution_count": 147,
      "outputs": []
    },
    {
      "cell_type": "code",
      "source": [
        "# with문과 스코프(Scope)규칙\n",
        "\n",
        "# 함수 스코르 = 함수 안에서 선언된 변수는 함수 밖에서 접근할 수 없다\n",
        "def my_function():\n",
        "    func_var = \"함수 안의 변수\"\n",
        "\n",
        "my_function()\n",
        "# my_function(func_var) # 오류 ! 함수 밖에서는 접근 불가\n",
        "\n",
        "# 블록 스코프 = if, for, while, with등의 블록 안에서 선언된 ㅂㄴ수는 블록 밖에서도 접근할 수 있다\n",
        "\n",
        "# if문 블록 예\n",
        "if True:\n",
        "    if_var = \"if 블록 안의 변수\"\n",
        "\n",
        "print(if_var)  # 정상 작동 ! \"if 블록 안의 변수\" 출력\n",
        "\n",
        "# for문 블록의 예\n",
        "for i in range(3):\n",
        "    loop_var = \"반복문 안의 변수\"\n",
        "\n",
        "print(i) # 정상 작동 ! 2출력\n",
        "print(loop_var) # 정상 작동 ! \"반복문 안의 변수\"     출력\n",
        "\n",
        "# with문에서 변수 사용 예\n",
        "\n",
        "with open(\"새파일.txt\",\"w\") as f:\n",
        "    content = \"Hello, Python!\" # with  블록 내에서 변수 선언\n",
        "    f.write(content)\n",
        "\n",
        "# with 블록을 벗어난 후에도 변수 접근 가능\n",
        "print(content) # \"Hello, Python!\" 출력"
      ],
      "metadata": {
        "colab": {
          "base_uri": "https://localhost:8080/"
        },
        "id": "_6m5t9alMTe_",
        "outputId": "21e6ee06-2c22-42b8-8f5d-0c7e087b62a4"
      },
      "execution_count": 144,
      "outputs": [
        {
          "output_type": "stream",
          "name": "stdout",
          "text": [
            "if 블록 안의 변수\n",
            "2\n",
            "반복문 안의 변수\n",
            "Hello, Python!\n"
          ]
        }
      ]
    },
    {
      "cell_type": "code",
      "source": [
        "# 파일 처리시 주의사항\n",
        "\n",
        "# 한글 파일 쓰기\n",
        "with open(\"새파일.txt\",\"w\", encoding=\"utf-8\") as f:\n",
        "    f. write(\"안녕하세요, 파이썬!\")\n",
        "\n",
        "# 한글 파일 읽기\n",
        "with open(\"새파일.txt\",\"r\", encoding=\"utf-8\") as f:\n",
        "    content = f.read()\n",
        "    print(content)"
      ],
      "metadata": {
        "colab": {
          "base_uri": "https://localhost:8080/"
        },
        "id": "Eow0qqiUN3Xe",
        "outputId": "c70e809d-46ca-48fa-ed9d-a0f375f8675f"
      },
      "execution_count": 145,
      "outputs": [
        {
          "output_type": "stream",
          "name": "stdout",
          "text": [
            "안녕하세요, 파이썬!\n"
          ]
        }
      ]
    }
  ]
}