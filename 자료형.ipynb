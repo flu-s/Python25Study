{
  "nbformat": 4,
  "nbformat_minor": 0,
  "metadata": {
    "colab": {
      "provenance": [],
      "authorship_tag": "ABX9TyO/J/9whjC7ChTQvBQR//Ze",
      "include_colab_link": true
    },
    "kernelspec": {
      "name": "python3",
      "display_name": "Python 3"
    },
    "language_info": {
      "name": "python"
    }
  },
  "cells": [
    {
      "cell_type": "markdown",
      "metadata": {
        "id": "view-in-github",
        "colab_type": "text"
      },
      "source": [
        "<a href=\"https://colab.research.google.com/github/flu-s/Python25Study/blob/main/%EC%9E%90%EB%A3%8C%ED%98%95.ipynb\" target=\"_parent\"><img src=\"https://colab.research.google.com/assets/colab-badge.svg\" alt=\"Open In Colab\"/></a>"
      ]
    },
    {
      "cell_type": "code",
      "execution_count": 96,
      "metadata": {
        "colab": {
          "base_uri": "https://localhost:8080/"
        },
        "id": "lkfNT5uIy1Sc",
        "outputId": "7f6afe25-0061-4be7-ff57-fc1ec4ee913e"
      },
      "outputs": [
        {
          "output_type": "stream",
          "name": "stdout",
          "text": [
            "123\n"
          ]
        }
      ],
      "source": [
        "# 숫자형\n",
        "# Number 타입 : 정수, 실수, 8진수, 16진수, 2진수 등을 표현한다.\n",
        "\n",
        "a = 123\n",
        "print(a)"
      ]
    },
    {
      "cell_type": "code",
      "source": [
        "# 실수형\n",
        "\n",
        "a = 1.2\n",
        "b = -3.45\n",
        "c = 4.24E10\n",
        "d = 4.24e-10\n",
        "\n",
        "print(a)\n",
        "print(b)\n",
        "print(c)\n",
        "print(d)"
      ],
      "metadata": {
        "colab": {
          "base_uri": "https://localhost:8080/"
        },
        "id": "k-dAd7uk1vhU",
        "outputId": "2c8005c5-ce93-4b89-98b5-3083013ec50e"
      },
      "execution_count": 97,
      "outputs": [
        {
          "output_type": "stream",
          "name": "stdout",
          "text": [
            "1.2\n",
            "-3.45\n",
            "42400000000.0\n",
            "4.24e-10\n"
          ]
        }
      ]
    },
    {
      "cell_type": "code",
      "source": [
        "# 8진수\n",
        "\n",
        "a = 0x8ff\n",
        "b = 0xABC\n",
        "\n",
        "print(b)"
      ],
      "metadata": {
        "colab": {
          "base_uri": "https://localhost:8080/"
        },
        "id": "-T4l-H6K4jqC",
        "outputId": "4e56dad5-f918-4fae-9967-2de7a750a7e9"
      },
      "execution_count": 98,
      "outputs": [
        {
          "output_type": "stream",
          "name": "stdout",
          "text": [
            "2748\n"
          ]
        }
      ]
    },
    {
      "cell_type": "code",
      "source": [
        "# 사칙연산\n",
        "\n",
        "a = 3\n",
        "b = 4\n",
        "\n",
        "print(a+b)\n",
        "print(a-b)\n",
        "print(a*b)\n",
        "print(a/b)"
      ],
      "metadata": {
        "colab": {
          "base_uri": "https://localhost:8080/"
        },
        "id": "5J_fSrXK4-d0",
        "outputId": "c3781560-ee29-415a-f0cf-e6034a7885a7"
      },
      "execution_count": 99,
      "outputs": [
        {
          "output_type": "stream",
          "name": "stdout",
          "text": [
            "7\n",
            "-1\n",
            "12\n",
            "0.75\n"
          ]
        }
      ]
    },
    {
      "cell_type": "code",
      "source": [
        "# x의 y제곱을 나타내는 ** 연산자\n",
        "# ** 연산자는 x ** y처럼 사용했을때 x의 y제곱 값을 반환한다.\n",
        "\n",
        "a = 3\n",
        "b = 4\n",
        "\n",
        "print(a**b)\n"
      ],
      "metadata": {
        "colab": {
          "base_uri": "https://localhost:8080/"
        },
        "id": "Xaa6NB8K5NrJ",
        "outputId": "d3e5e83a-230b-4af6-ded9-b6cdc00aa3b0"
      },
      "execution_count": 100,
      "outputs": [
        {
          "output_type": "stream",
          "name": "stdout",
          "text": [
            "81\n"
          ]
        }
      ]
    },
    {
      "cell_type": "code",
      "source": [
        "# 나눗셈 후 나머지를 반환하는 % 연산자\n",
        "# 나눗셈의 나머지 값을 반환하는 연산자\n",
        "\n",
        "7 % 3\n",
        "\n",
        "3 % 7"
      ],
      "metadata": {
        "colab": {
          "base_uri": "https://localhost:8080/"
        },
        "id": "KA2HFia35cyL",
        "outputId": "e9fafa18-5059-4af8-e1b0-890d0c6dfb16"
      },
      "execution_count": 101,
      "outputs": [
        {
          "output_type": "execute_result",
          "data": {
            "text/plain": [
              "3"
            ]
          },
          "metadata": {},
          "execution_count": 101
        }
      ]
    },
    {
      "cell_type": "code",
      "source": [
        "# 나눗셈 후 몫을 반환하는 // 연산자\n",
        "\n",
        "#나눗셈 후 몫을 반환하는 연산자를 사용했을 때\n",
        "7//4"
      ],
      "metadata": {
        "colab": {
          "base_uri": "https://localhost:8080/"
        },
        "id": "SwlfSYbZ5pbc",
        "outputId": "7baa9018-d181-462a-c4fb-c3f52169a88f"
      },
      "execution_count": 102,
      "outputs": [
        {
          "output_type": "execute_result",
          "data": {
            "text/plain": [
              "1"
            ]
          },
          "metadata": {},
          "execution_count": 102
        }
      ]
    },
    {
      "cell_type": "code",
      "source": [
        "#복합 연산자\n",
        "\n",
        "a =1\n",
        "a = a +1\n",
        "print(a)\n",
        "\n",
        "b = 1\n",
        "b -=1\n",
        "print(b)"
      ],
      "metadata": {
        "colab": {
          "base_uri": "https://localhost:8080/"
        },
        "id": "vqOiH_jC6AiV",
        "outputId": "7648ff67-e23e-4914-d447-4fae42648036"
      },
      "execution_count": 103,
      "outputs": [
        {
          "output_type": "stream",
          "name": "stdout",
          "text": [
            "2\n",
            "0\n"
          ]
        }
      ]
    },
    {
      "cell_type": "code",
      "source": [
        "# 문자열\n",
        "# 문자열에 작은 따옴표 포함하기\n",
        "\n",
        "food = \"Python's favorite food is perl\"\n",
        "food"
      ],
      "metadata": {
        "colab": {
          "base_uri": "https://localhost:8080/",
          "height": 35
        },
        "id": "G3D58HDK6M8U",
        "outputId": "9a2a1793-e228-4954-b298-4bc23b4707d8"
      },
      "execution_count": 104,
      "outputs": [
        {
          "output_type": "execute_result",
          "data": {
            "text/plain": [
              "\"Python's favorite food is perl\""
            ],
            "application/vnd.google.colaboratory.intrinsic+json": {
              "type": "string"
            }
          },
          "metadata": {},
          "execution_count": 104
        }
      ]
    },
    {
      "cell_type": "code",
      "source": [
        "# 문자열에 큰따옴표 포함하기\n",
        "\n",
        "say = '\"Python is very easy.\" he says.'\n",
        "# 작은 따옴표 안에 사용된 큰 따옴표는 문자열을 만드는 기호로 인식되지 않음"
      ],
      "metadata": {
        "id": "xouL2oud6n82"
      },
      "execution_count": 105,
      "outputs": []
    },
    {
      "cell_type": "code",
      "source": [
        "# 역슬래시를 사용해서 작은 따옴표, 큰타옴표를 문자열에 포함하기\n",
        "\n",
        "food = 'Python\\'s favorite food is perl'\n",
        "say = \"\\Python is very easy.\\\" he says.\"\n"
      ],
      "metadata": {
        "id": "YG3POyLt65U4",
        "colab": {
          "base_uri": "https://localhost:8080/"
        },
        "outputId": "08eaa780-f44a-476e-81e7-e26b2e5332c3"
      },
      "execution_count": 106,
      "outputs": [
        {
          "output_type": "stream",
          "name": "stderr",
          "text": [
            "<>:4: SyntaxWarning: invalid escape sequence '\\P'\n",
            "<>:4: SyntaxWarning: invalid escape sequence '\\P'\n",
            "/tmp/ipython-input-2050608747.py:4: SyntaxWarning: invalid escape sequence '\\P'\n",
            "  say = \"\\Python is very easy.\\\" he says.\"\n"
          ]
        }
      ]
    },
    {
      "cell_type": "code",
      "source": [
        "#여러 줄인 문자열을 변수에 대입하고 싶을 때\n",
        "# Life is too short\n",
        "# You need python\n",
        "\n",
        "MULTILINE = \" Life is too short\\nYou need python\""
      ],
      "metadata": {
        "id": "V1PHNcro9brs"
      },
      "execution_count": 107,
      "outputs": []
    },
    {
      "cell_type": "code",
      "source": [
        "# 문자열이 여러 줄인 경우 따옴표 3개를 사용하는 것이 훨씬 깔끔함\n",
        "# 연속된 작은 따옴표 3개 사용하기\n",
        "\n",
        "MULTILINE ='''\n",
        "Life is too short\n",
        "You need python\n",
        "'''\n",
        "\n",
        "print(MULTILINE)\n",
        "\n",
        "# 연속된 큰따옴표 3개 사용하기\n",
        "\n",
        "\n",
        "MULTILINE2 = \"\"\"\n",
        "Life is too short\n",
        "You need python\n",
        "\"\"\"\n",
        "\n",
        "print(MULTILINE2)"
      ],
      "metadata": {
        "colab": {
          "base_uri": "https://localhost:8080/"
        },
        "id": "Gok8y8l19jA7",
        "outputId": "52c8cb39-6a11-4e4e-cac9-54008c3ccfe9"
      },
      "execution_count": 108,
      "outputs": [
        {
          "output_type": "stream",
          "name": "stdout",
          "text": [
            "\n",
            "Life is too short\n",
            "You need python\n",
            "\n",
            "\n",
            "Life is too short\n",
            "You need python\n",
            "\n"
          ]
        }
      ]
    },
    {
      "cell_type": "code",
      "source": [
        "# 이스케이프 코드란\n",
        "# 프로그래밍할 때 사용할 수 있도록 미리 정의해 둔 '문자조합'\n",
        "# 주로 출력물을 보기 좋게 정렬하는 용도로 사용한다\n",
        "\n",
        "# \\n = 문자열 안에서 줄을 바꿀 때 사용\n",
        "# \\t = 문자열 사이에 탭 간격을 줄 때 사용\n",
        "# \\\\ = \\를 그대로 표현할 때 사용\n",
        "# \\' = 작은 따옴표( ' )를 그대로 표현할 때 사용\n",
        "# \\\" = 큰 따옴표( \" )를 그대로 표현할 때 사용\n",
        "# \\r = 캐리지 리턴(줄 바꿈 문자, 커서를 현재 줄의 가장 앞으로 이동)\n",
        "# \\f = 폼 피드(줄 바꿈 문자, 커서를 현재 줄의 다음 줄로 이동)\n",
        "# \\a = 벨소리(출력할 때 PC 스피커에서 '삑'소리가 난다)\n",
        "# \\b = 백 스페이스\n",
        "# \\000 = 널 문자"
      ],
      "metadata": {
        "id": "RhT-9NbI-6Gx"
      },
      "execution_count": 109,
      "outputs": []
    },
    {
      "cell_type": "code",
      "source": [
        "# 문자열 연산\n",
        "\n",
        "head = \"Python\"\n",
        "tail = \"is fun!\"\n",
        "head + tail"
      ],
      "metadata": {
        "colab": {
          "base_uri": "https://localhost:8080/",
          "height": 35
        },
        "id": "akNuOBhC_dPa",
        "outputId": "f2132040-64dd-42ba-d42f-fe78053da8fd"
      },
      "execution_count": 110,
      "outputs": [
        {
          "output_type": "execute_result",
          "data": {
            "text/plain": [
              "'Pythonis fun!'"
            ],
            "application/vnd.google.colaboratory.intrinsic+json": {
              "type": "string"
            }
          },
          "metadata": {},
          "execution_count": 110
        }
      ]
    },
    {
      "cell_type": "code",
      "source": [
        "# 문자열 곱하기\n",
        "\n",
        "a = \"python\"\n",
        "a * 2"
      ],
      "metadata": {
        "colab": {
          "base_uri": "https://localhost:8080/",
          "height": 35
        },
        "id": "AHRL0SfFAEJe",
        "outputId": "cade26c3-26bc-4fd3-ff8e-7b0130832c0b"
      },
      "execution_count": 111,
      "outputs": [
        {
          "output_type": "execute_result",
          "data": {
            "text/plain": [
              "'pythonpython'"
            ],
            "application/vnd.google.colaboratory.intrinsic+json": {
              "type": "string"
            }
          },
          "metadata": {},
          "execution_count": 111
        }
      ]
    },
    {
      "cell_type": "code",
      "source": [
        "# 문자열 곱하기 응용\n",
        "\n",
        "print(\"=\" * 50)\n",
        "print(\"My Program\")\n",
        "print(\"=\" * 50)"
      ],
      "metadata": {
        "colab": {
          "base_uri": "https://localhost:8080/"
        },
        "id": "ab1uKNYmAIv5",
        "outputId": "b56963bd-82c2-4207-f2eb-117b81e6b3fc"
      },
      "execution_count": 112,
      "outputs": [
        {
          "output_type": "stream",
          "name": "stdout",
          "text": [
            "==================================================\n",
            "My Program\n",
            "==================================================\n"
          ]
        }
      ]
    },
    {
      "cell_type": "code",
      "source": [
        "# 문자열 길이 구하기 len\n",
        "# 문자열의 길이에는 공백 문자도 포함\n",
        "\n",
        "a = \"Life is too short\"\n",
        "len(a)\n"
      ],
      "metadata": {
        "colab": {
          "base_uri": "https://localhost:8080/"
        },
        "id": "5GHZcnjbAZ1y",
        "outputId": "d518a180-36f1-46b2-e27f-5938c35bad1e"
      },
      "execution_count": 113,
      "outputs": [
        {
          "output_type": "execute_result",
          "data": {
            "text/plain": [
              "17"
            ]
          },
          "metadata": {},
          "execution_count": 113
        }
      ]
    },
    {
      "cell_type": "code",
      "source": [
        "# 문자열 인덱싱\n",
        "# 인덱싱 = 무엇인가를'가리킨다'라는 의미\n",
        "# 문자열 안의 특정한 값을 뽑아내는 역할\n",
        "#a[-1] = 문자열을 뒤에서부터 읽는다\n",
        "\n",
        "a = \"Life is too short, You need Python\"\n",
        "a[3]\n",
        "a[12]\n",
        "a[-1]\n"
      ],
      "metadata": {
        "colab": {
          "base_uri": "https://localhost:8080/",
          "height": 35
        },
        "id": "8ElwsTczAk4u",
        "outputId": "654c9033-f111-491b-cf97-39f0bd222656"
      },
      "execution_count": 114,
      "outputs": [
        {
          "output_type": "execute_result",
          "data": {
            "text/plain": [
              "'n'"
            ],
            "application/vnd.google.colaboratory.intrinsic+json": {
              "type": "string"
            }
          },
          "metadata": {},
          "execution_count": 114
        }
      ]
    },
    {
      "cell_type": "code",
      "source": [
        "# 문자열 슬라이싱\n",
        "# 슬라이싱 = 무엇인가를'잘라낸다'라는 의미\n",
        "\n",
        "a = \"Life is too short, You need Python\"\n",
        "b = a[0] + a[1] + a[2] + a[3]\n",
        "b"
      ],
      "metadata": {
        "colab": {
          "base_uri": "https://localhost:8080/",
          "height": 35
        },
        "id": "hPLetfOTAx7d",
        "outputId": "e0e5eff1-ae11-4381-a25a-27894051df3b"
      },
      "execution_count": 115,
      "outputs": [
        {
          "output_type": "execute_result",
          "data": {
            "text/plain": [
              "'Life'"
            ],
            "application/vnd.google.colaboratory.intrinsic+json": {
              "type": "string"
            }
          },
          "metadata": {},
          "execution_count": 115
        }
      ]
    },
    {
      "cell_type": "code",
      "source": [
        "a = \"Life is too short, You need Python\"\n",
        "a[0:4]\n",
        "\n",
        "b = \"Life is too short, You need Python\"\n",
        "b[5:7]\n",
        "\n",
        "c = \"Life is too short, You need Python\"\n",
        "c[19:]\n",
        "\n",
        "d = \"Life is too short, You need Python\"\n",
        "d[:17]\n",
        "\n",
        "e = \"Life is too short, You need Python\"\n",
        "e[:]\n",
        "\n",
        "f = \"Life is too short, You need Python\"\n",
        "f[19:-7]"
      ],
      "metadata": {
        "colab": {
          "base_uri": "https://localhost:8080/",
          "height": 35
        },
        "id": "p5ulaQJbBbXe",
        "outputId": "79d9cad2-e736-48e2-8c02-c1546c8865dd"
      },
      "execution_count": 116,
      "outputs": [
        {
          "output_type": "execute_result",
          "data": {
            "text/plain": [
              "'You need'"
            ],
            "application/vnd.google.colaboratory.intrinsic+json": {
              "type": "string"
            }
          },
          "metadata": {},
          "execution_count": 116
        }
      ]
    },
    {
      "cell_type": "code",
      "source": [
        "# 슬라이싱으로 문자열 나누기\n",
        "\n",
        "a = \"20251030Rainy\"\n",
        "date = a[:8]\n",
        "weather = a[8:]\n",
        "\n",
        "date\n",
        "weather\n",
        "\n"
      ],
      "metadata": {
        "id": "0O2I89haB6jA",
        "colab": {
          "base_uri": "https://localhost:8080/",
          "height": 35
        },
        "outputId": "f1c4c571-370f-4869-d580-53e482a6ef58"
      },
      "execution_count": 117,
      "outputs": [
        {
          "output_type": "execute_result",
          "data": {
            "text/plain": [
              "'Rainy'"
            ],
            "application/vnd.google.colaboratory.intrinsic+json": {
              "type": "string"
            }
          },
          "metadata": {},
          "execution_count": 117
        }
      ]
    },
    {
      "cell_type": "code",
      "source": [
        "a = \"20251030Rainy\"\n",
        "\n",
        "year = a[:4]\n",
        "day = a[4:8]\n",
        "weather = a[8:]"
      ],
      "metadata": {
        "id": "MKg8p7_NCQys"
      },
      "execution_count": 118,
      "outputs": []
    },
    {
      "cell_type": "code",
      "source": [
        "# 문자열 수정\n",
        "\n",
        "a = \"Pithon\"\n",
        "a[:1] + 'y' + a[2:]"
      ],
      "metadata": {
        "colab": {
          "base_uri": "https://localhost:8080/",
          "height": 35
        },
        "id": "C-hs62G1Ctz4",
        "outputId": "aced3433-3a75-4d45-de86-545f5e817788"
      },
      "execution_count": 119,
      "outputs": [
        {
          "output_type": "execute_result",
          "data": {
            "text/plain": [
              "'Python'"
            ],
            "application/vnd.google.colaboratory.intrinsic+json": {
              "type": "string"
            }
          },
          "metadata": {},
          "execution_count": 119
        }
      ]
    },
    {
      "cell_type": "code",
      "source": [
        "# 문자열 포매팅\n",
        "# 숫자 바로 대입\n",
        "\n",
        "\"I eat %d apples.\" %3"
      ],
      "metadata": {
        "colab": {
          "base_uri": "https://localhost:8080/",
          "height": 35
        },
        "id": "4pRCS2qcC_00",
        "outputId": "f2da4c57-e3e2-4ffc-a781-3ba12e941a1f"
      },
      "execution_count": 120,
      "outputs": [
        {
          "output_type": "execute_result",
          "data": {
            "text/plain": [
              "'I eat 3 apples.'"
            ],
            "application/vnd.google.colaboratory.intrinsic+json": {
              "type": "string"
            }
          },
          "metadata": {},
          "execution_count": 120
        }
      ]
    },
    {
      "cell_type": "code",
      "source": [
        "# 문자열 바로 대입\n",
        "\"I eat %s apples.\" %\"five\""
      ],
      "metadata": {
        "colab": {
          "base_uri": "https://localhost:8080/",
          "height": 35
        },
        "id": "323qbuIDDIHj",
        "outputId": "5aaebcc1-5b66-4a6e-8051-5393d839582a"
      },
      "execution_count": 121,
      "outputs": [
        {
          "output_type": "execute_result",
          "data": {
            "text/plain": [
              "'I eat five apples.'"
            ],
            "application/vnd.google.colaboratory.intrinsic+json": {
              "type": "string"
            }
          },
          "metadata": {},
          "execution_count": 121
        }
      ]
    },
    {
      "cell_type": "code",
      "source": [
        "# 숫자 값을 나타내는 변수로 대입\n",
        "\n",
        "number = 3\n",
        "\n",
        "\"I eat %d apples.\" %number"
      ],
      "metadata": {
        "colab": {
          "base_uri": "https://localhost:8080/",
          "height": 35
        },
        "id": "vgZ2vdm_DQtV",
        "outputId": "9cfc4366-7e1b-4f07-e42b-1e93294b35fa"
      },
      "execution_count": 122,
      "outputs": [
        {
          "output_type": "execute_result",
          "data": {
            "text/plain": [
              "'I eat 3 apples.'"
            ],
            "application/vnd.google.colaboratory.intrinsic+json": {
              "type": "string"
            }
          },
          "metadata": {},
          "execution_count": 122
        }
      ]
    },
    {
      "cell_type": "code",
      "source": [
        "# 2개 이상의 값 넣기\n",
        "\n",
        "number = 10\n",
        "day = \"three\"\n",
        "\n",
        "\"I ate %d apples. so I was sick for %s days\"%(number, day)"
      ],
      "metadata": {
        "colab": {
          "base_uri": "https://localhost:8080/",
          "height": 35
        },
        "id": "9V-NN9hGDdF4",
        "outputId": "b993a698-f62b-4e21-bfb6-02b6c8f7eb37"
      },
      "execution_count": 123,
      "outputs": [
        {
          "output_type": "execute_result",
          "data": {
            "text/plain": [
              "'I ate 10 apples. so I was sick for three days'"
            ],
            "application/vnd.google.colaboratory.intrinsic+json": {
              "type": "string"
            }
          },
          "metadata": {},
          "execution_count": 123
        }
      ]
    },
    {
      "cell_type": "code",
      "source": [
        "# 문자열 포맷 코드\n",
        "# %s = 문자열 (String)\n",
        "# %c = 문자 1개 (Character)\n",
        "# %d = 정수 (Integer)\n",
        "# %f = 부동소수(floating-point)\n",
        "# %o = 8진수\n",
        "# %x = 16진수\n",
        "# %% = Literal % (문자%자체)"
      ],
      "metadata": {
        "id": "Xm9r-qh9DrrM"
      },
      "execution_count": 124,
      "outputs": []
    },
    {
      "cell_type": "code",
      "source": [
        "\"I have  %s apples\" %3\n",
        "\n",
        "\"rate is %s\" %3.234"
      ],
      "metadata": {
        "colab": {
          "base_uri": "https://localhost:8080/",
          "height": 35
        },
        "id": "heVxAqTYEJS-",
        "outputId": "dff1adf2-8bf6-432e-bab9-8d944efaca0c"
      },
      "execution_count": 125,
      "outputs": [
        {
          "output_type": "execute_result",
          "data": {
            "text/plain": [
              "'rate is 3.234'"
            ],
            "application/vnd.google.colaboratory.intrinsic+json": {
              "type": "string"
            }
          },
          "metadata": {},
          "execution_count": 125
        }
      ]
    },
    {
      "cell_type": "code",
      "source": [
        "# 포매팅 연산자 %d와 %를 같이 쓸 때는 %%를 쓴다\n",
        "\n",
        "\"Error is%d%%\" %98"
      ],
      "metadata": {
        "colab": {
          "base_uri": "https://localhost:8080/",
          "height": 35
        },
        "id": "hRybZLToEZgl",
        "outputId": "b8390abe-f53b-45c6-b444-5b5bd233f876"
      },
      "execution_count": 126,
      "outputs": [
        {
          "output_type": "execute_result",
          "data": {
            "text/plain": [
              "'Error is98%'"
            ],
            "application/vnd.google.colaboratory.intrinsic+json": {
              "type": "string"
            }
          },
          "metadata": {},
          "execution_count": 126
        }
      ]
    },
    {
      "cell_type": "code",
      "source": [
        "# 포맷 코드와 숫자 함께 사용하기\n",
        "# 정렬과 공백\n",
        "\n",
        "\"%10s\" %\"hi\""
      ],
      "metadata": {
        "colab": {
          "base_uri": "https://localhost:8080/",
          "height": 35
        },
        "id": "D7Y-rNlaEiuZ",
        "outputId": "65af59e7-aabf-4052-f311-5008c12cf610"
      },
      "execution_count": 127,
      "outputs": [
        {
          "output_type": "execute_result",
          "data": {
            "text/plain": [
              "'        hi'"
            ],
            "application/vnd.google.colaboratory.intrinsic+json": {
              "type": "string"
            }
          },
          "metadata": {},
          "execution_count": 127
        }
      ]
    },
    {
      "cell_type": "code",
      "source": [
        "\"%-10sjane.\" %'hi'"
      ],
      "metadata": {
        "colab": {
          "base_uri": "https://localhost:8080/",
          "height": 35
        },
        "id": "WdVgeSQVEp23",
        "outputId": "6e134591-76d1-444f-bdbc-6a80064ae241"
      },
      "execution_count": 128,
      "outputs": [
        {
          "output_type": "execute_result",
          "data": {
            "text/plain": [
              "'hi        jane.'"
            ],
            "application/vnd.google.colaboratory.intrinsic+json": {
              "type": "string"
            }
          },
          "metadata": {},
          "execution_count": 128
        }
      ]
    },
    {
      "cell_type": "code",
      "source": [
        "# 소수점 표현하기\n",
        "# ' . '은 소수점 포인트,  그 뒤의 숫자 4는 소수점 뒤에 나올 숫자의 개수\n",
        "\n",
        "\"%0.4f\" %3.42134234"
      ],
      "metadata": {
        "colab": {
          "base_uri": "https://localhost:8080/",
          "height": 35
        },
        "id": "9tM8s9peEyR9",
        "outputId": "162c3dd0-cab1-4ce8-f9fa-447a20c7e46c"
      },
      "execution_count": 129,
      "outputs": [
        {
          "output_type": "execute_result",
          "data": {
            "text/plain": [
              "'3.4213'"
            ],
            "application/vnd.google.colaboratory.intrinsic+json": {
              "type": "string"
            }
          },
          "metadata": {},
          "execution_count": 129
        }
      ]
    },
    {
      "cell_type": "code",
      "source": [
        "# format 함수를 사용한 포매팅\n",
        "\n",
        "\"I eat {0} apples\".format(3)"
      ],
      "metadata": {
        "colab": {
          "base_uri": "https://localhost:8080/",
          "height": 35
        },
        "id": "h5KQl4fSFDVv",
        "outputId": "a1ab8684-0a7c-4677-cb89-787da0d1d68c"
      },
      "execution_count": 130,
      "outputs": [
        {
          "output_type": "execute_result",
          "data": {
            "text/plain": [
              "'I eat 3 apples'"
            ],
            "application/vnd.google.colaboratory.intrinsic+json": {
              "type": "string"
            }
          },
          "metadata": {},
          "execution_count": 130
        }
      ]
    },
    {
      "cell_type": "code",
      "source": [
        "# 문자열에 바로 대입하기\n",
        "\n",
        "\"I eat {0} apples\".format(\"five\")"
      ],
      "metadata": {
        "colab": {
          "base_uri": "https://localhost:8080/",
          "height": 35
        },
        "id": "8BKcJX6jFRC9",
        "outputId": "f4658362-ae5a-41b4-e52d-3d0b7254d89e"
      },
      "execution_count": 131,
      "outputs": [
        {
          "output_type": "execute_result",
          "data": {
            "text/plain": [
              "'I eat five apples'"
            ],
            "application/vnd.google.colaboratory.intrinsic+json": {
              "type": "string"
            }
          },
          "metadata": {},
          "execution_count": 131
        }
      ]
    },
    {
      "cell_type": "code",
      "source": [
        "# 숫자 값을 가진 변수로 대입하기\n",
        "\n",
        "number = 3\n",
        "\n",
        "\"I eat {0} apples\".format(number)"
      ],
      "metadata": {
        "colab": {
          "base_uri": "https://localhost:8080/",
          "height": 35
        },
        "id": "n7nyLWkcFYzJ",
        "outputId": "22272283-8e15-4508-c8c6-494ed9628610"
      },
      "execution_count": 132,
      "outputs": [
        {
          "output_type": "execute_result",
          "data": {
            "text/plain": [
              "'I eat 3 apples'"
            ],
            "application/vnd.google.colaboratory.intrinsic+json": {
              "type": "string"
            }
          },
          "metadata": {},
          "execution_count": 132
        }
      ]
    },
    {
      "cell_type": "code",
      "source": [
        "# 2개 이상의 값 넣기\n",
        "\n",
        "number = 10\n",
        "day = \"three\"\n",
        "\n",
        "\"I ate {0} apples. so I was sick for {1} days\".format(number, day)"
      ],
      "metadata": {
        "colab": {
          "base_uri": "https://localhost:8080/",
          "height": 35
        },
        "id": "Z6P1syYhFgox",
        "outputId": "d527bbd9-dd58-47db-bb85-6f85e239021d"
      },
      "execution_count": 133,
      "outputs": [
        {
          "output_type": "execute_result",
          "data": {
            "text/plain": [
              "'I ate 10 apples. so I was sick for three days'"
            ],
            "application/vnd.google.colaboratory.intrinsic+json": {
              "type": "string"
            }
          },
          "metadata": {},
          "execution_count": 133
        }
      ]
    },
    {
      "cell_type": "code",
      "source": [
        "# 이름으로 넣기\n",
        "\n",
        "\"I ate {number} apples. so I was sick for {day} days.\".format(number=10, day=3)"
      ],
      "metadata": {
        "colab": {
          "base_uri": "https://localhost:8080/",
          "height": 35
        },
        "id": "be0I9TCEFu7p",
        "outputId": "786f52c2-8fc5-4b6c-94b1-7af43e0fc5e3"
      },
      "execution_count": 134,
      "outputs": [
        {
          "output_type": "execute_result",
          "data": {
            "text/plain": [
              "'I ate 10 apples. so I was sick for 3 days.'"
            ],
            "application/vnd.google.colaboratory.intrinsic+json": {
              "type": "string"
            }
          },
          "metadata": {},
          "execution_count": 134
        }
      ]
    },
    {
      "cell_type": "code",
      "source": [
        "# 인덱스와 이름 혼용\n",
        "\n",
        "\"I ate {0} apples. so I was sick for {day} days.\".format(10, day=3)"
      ],
      "metadata": {
        "colab": {
          "base_uri": "https://localhost:8080/",
          "height": 35
        },
        "id": "H0K4jSt_F7c7",
        "outputId": "a7061725-9396-46e0-b4ea-29d2d87a5cf9"
      },
      "execution_count": 135,
      "outputs": [
        {
          "output_type": "execute_result",
          "data": {
            "text/plain": [
              "'I ate 10 apples. so I was sick for 3 days.'"
            ],
            "application/vnd.google.colaboratory.intrinsic+json": {
              "type": "string"
            }
          },
          "metadata": {},
          "execution_count": 135
        }
      ]
    },
    {
      "cell_type": "code",
      "source": [
        "# 왼쪽 정렬\n",
        "\n",
        "\"{0:<10}\".format(\"hi\")"
      ],
      "metadata": {
        "colab": {
          "base_uri": "https://localhost:8080/",
          "height": 35
        },
        "id": "DGlZYkmnGC-x",
        "outputId": "251528cd-f5c5-4c28-c76d-ce7a137e1140"
      },
      "execution_count": 136,
      "outputs": [
        {
          "output_type": "execute_result",
          "data": {
            "text/plain": [
              "'hi        '"
            ],
            "application/vnd.google.colaboratory.intrinsic+json": {
              "type": "string"
            }
          },
          "metadata": {},
          "execution_count": 136
        }
      ]
    },
    {
      "cell_type": "code",
      "source": [
        "# 오른쪽 정렬\n",
        "\n",
        "\"{0:>10}\".format(\"hi\")"
      ],
      "metadata": {
        "colab": {
          "base_uri": "https://localhost:8080/",
          "height": 35
        },
        "id": "a0GTO7ztGIjt",
        "outputId": "d5c0b9fc-4aaa-460c-e24f-5b7bbaf3d299"
      },
      "execution_count": 137,
      "outputs": [
        {
          "output_type": "execute_result",
          "data": {
            "text/plain": [
              "'        hi'"
            ],
            "application/vnd.google.colaboratory.intrinsic+json": {
              "type": "string"
            }
          },
          "metadata": {},
          "execution_count": 137
        }
      ]
    },
    {
      "cell_type": "code",
      "source": [
        "# 가운데 정렬\n",
        "\n",
        "\"{0:^10}\".format(\"hi\")"
      ],
      "metadata": {
        "colab": {
          "base_uri": "https://localhost:8080/",
          "height": 35
        },
        "id": "ju530wFNGOSz",
        "outputId": "c2d073cd-be04-431f-87ab-2a0989dc36e0"
      },
      "execution_count": 138,
      "outputs": [
        {
          "output_type": "execute_result",
          "data": {
            "text/plain": [
              "'    hi    '"
            ],
            "application/vnd.google.colaboratory.intrinsic+json": {
              "type": "string"
            }
          },
          "metadata": {},
          "execution_count": 138
        }
      ]
    },
    {
      "cell_type": "code",
      "source": [
        "# 공백 채우기\n",
        "\n",
        "\"{0:=^10}\".format(\"hi\")\n",
        "\"{0:!^10}\".format(\"hi\")"
      ],
      "metadata": {
        "colab": {
          "base_uri": "https://localhost:8080/",
          "height": 35
        },
        "id": "aRpO9z-zGSf9",
        "outputId": "650c8c16-bb0c-4652-81f8-694eba2ca25d"
      },
      "execution_count": 139,
      "outputs": [
        {
          "output_type": "execute_result",
          "data": {
            "text/plain": [
              "'!!!!hi!!!!'"
            ],
            "application/vnd.google.colaboratory.intrinsic+json": {
              "type": "string"
            }
          },
          "metadata": {},
          "execution_count": 139
        }
      ]
    },
    {
      "cell_type": "code",
      "source": [
        "# 소수점 표현하기\n",
        "\n",
        "y = 3.42134234\n",
        "\"{0:0.4f}\".format(y)"
      ],
      "metadata": {
        "colab": {
          "base_uri": "https://localhost:8080/",
          "height": 35
        },
        "id": "EVt8qfObGb4r",
        "outputId": "7ee34dc9-0a75-4a44-df82-393d9986a687"
      },
      "execution_count": 140,
      "outputs": [
        {
          "output_type": "execute_result",
          "data": {
            "text/plain": [
              "'3.4213'"
            ],
            "application/vnd.google.colaboratory.intrinsic+json": {
              "type": "string"
            }
          },
          "metadata": {},
          "execution_count": 140
        }
      ]
    },
    {
      "cell_type": "code",
      "source": [
        "# { 또는 } 문자 표현하기\n",
        "\n",
        "\"{{and}}\".format()"
      ],
      "metadata": {
        "colab": {
          "base_uri": "https://localhost:8080/",
          "height": 35
        },
        "id": "gkYLQydnGlO3",
        "outputId": "215ecd00-77a9-4b0a-c4e4-5a34830644b7"
      },
      "execution_count": 141,
      "outputs": [
        {
          "output_type": "execute_result",
          "data": {
            "text/plain": [
              "'{and}'"
            ],
            "application/vnd.google.colaboratory.intrinsic+json": {
              "type": "string"
            }
          },
          "metadata": {},
          "execution_count": 141
        }
      ]
    },
    {
      "cell_type": "code",
      "source": [
        "# f 문자열 포매팅\n",
        "# f접두사를 붙이면 f 문자열 포매팅 기능을 사용할 수 있다\n",
        "\n",
        "name = '홍길동'\n",
        "age = 30\n",
        "\n",
        "f'나의 이름은{name}입니다. 나이는 {age}입니다'"
      ],
      "metadata": {
        "colab": {
          "base_uri": "https://localhost:8080/",
          "height": 35
        },
        "id": "Ab5bqVGMGsIz",
        "outputId": "620f0a02-cea5-4207-a0b4-cb57ad35e617"
      },
      "execution_count": 142,
      "outputs": [
        {
          "output_type": "execute_result",
          "data": {
            "text/plain": [
              "'나의 이름은홍길동입니다. 나이는 30입니다'"
            ],
            "application/vnd.google.colaboratory.intrinsic+json": {
              "type": "string"
            }
          },
          "metadata": {},
          "execution_count": 142
        }
      ]
    },
    {
      "cell_type": "code",
      "source": [
        "d = {'name' : '홍길동', 'age' : '30'}\n",
        "f'나의 이름은 {d[\"name\"]}입니다. 나이는 {d[\"age\"]}입니다'"
      ],
      "metadata": {
        "colab": {
          "base_uri": "https://localhost:8080/",
          "height": 35
        },
        "id": "P0tgI4jtG_Cn",
        "outputId": "67051426-f45a-41f2-c052-77006dea2dec"
      },
      "execution_count": 143,
      "outputs": [
        {
          "output_type": "execute_result",
          "data": {
            "text/plain": [
              "'나의 이름은 홍길동입니다. 나이는 30입니다'"
            ],
            "application/vnd.google.colaboratory.intrinsic+json": {
              "type": "string"
            }
          },
          "metadata": {},
          "execution_count": 143
        }
      ]
    },
    {
      "cell_type": "code",
      "source": [
        "# f문자열을 사용하여 금액에 콤마(,) 삽입하기\n",
        "\n",
        "f\"난 {1500000:,}원이 필요해\""
      ],
      "metadata": {
        "colab": {
          "base_uri": "https://localhost:8080/",
          "height": 35
        },
        "id": "iGo5GrygHUZ_",
        "outputId": "0972cded-66eb-4772-a108-a4ce90d0dcac"
      },
      "execution_count": 144,
      "outputs": [
        {
          "output_type": "execute_result",
          "data": {
            "text/plain": [
              "'난 1,500,000원이 필요해'"
            ],
            "application/vnd.google.colaboratory.intrinsic+json": {
              "type": "string"
            }
          },
          "metadata": {},
          "execution_count": 144
        }
      ]
    },
    {
      "cell_type": "code",
      "source": [
        "# 문자 개수 세기 - count\n",
        "\n",
        "a = \"hobby\"\n",
        "a.count('b')"
      ],
      "metadata": {
        "colab": {
          "base_uri": "https://localhost:8080/"
        },
        "id": "-9Dhoq5AHhPB",
        "outputId": "d39c5cff-453f-4ac2-c390-2f4daba08c40"
      },
      "execution_count": 145,
      "outputs": [
        {
          "output_type": "execute_result",
          "data": {
            "text/plain": [
              "2"
            ]
          },
          "metadata": {},
          "execution_count": 145
        }
      ]
    },
    {
      "cell_type": "code",
      "source": [
        "# 위치 알려주기 1 -find\n",
        "# 문자나 문자열이 존재하지 않으면 -1을 반환함\n",
        "\n",
        "a = \"Python is the best choice\"\n",
        "a.find('b')\n"
      ],
      "metadata": {
        "colab": {
          "base_uri": "https://localhost:8080/"
        },
        "id": "urr9_G4bHmnn",
        "outputId": "d7f36b13-ca59-4413-806c-9f249540bd48"
      },
      "execution_count": 146,
      "outputs": [
        {
          "output_type": "execute_result",
          "data": {
            "text/plain": [
              "14"
            ]
          },
          "metadata": {},
          "execution_count": 146
        }
      ]
    },
    {
      "cell_type": "code",
      "source": [
        "# 위치 알려주기 2 - index\n",
        "# 문자나 문자열이 존재하지 않으면 오류 발생함\n",
        "\n",
        "a = \"Life is too short\"\n",
        "a.index('t')"
      ],
      "metadata": {
        "colab": {
          "base_uri": "https://localhost:8080/"
        },
        "id": "WV4L0GnlH2C0",
        "outputId": "c40d8465-5cbf-41e6-b080-6af3e83ec336"
      },
      "execution_count": 147,
      "outputs": [
        {
          "output_type": "execute_result",
          "data": {
            "text/plain": [
              "8"
            ]
          },
          "metadata": {},
          "execution_count": 147
        }
      ]
    },
    {
      "cell_type": "code",
      "source": [
        "# 문자열 삽입 - join\n",
        "\n",
        "\",\".join('abcd')"
      ],
      "metadata": {
        "colab": {
          "base_uri": "https://localhost:8080/",
          "height": 35
        },
        "id": "GP4x94t1IFt7",
        "outputId": "6bf5a34d-8437-4c24-95c1-4147d09ce1f4"
      },
      "execution_count": 148,
      "outputs": [
        {
          "output_type": "execute_result",
          "data": {
            "text/plain": [
              "'a,b,c,d'"
            ],
            "application/vnd.google.colaboratory.intrinsic+json": {
              "type": "string"
            }
          },
          "metadata": {},
          "execution_count": 148
        }
      ]
    },
    {
      "cell_type": "code",
      "source": [
        "# 소문자를 대문자로 바꾸기 - upper\n",
        "\n",
        "a = \"hi\"\n",
        "a.upper()"
      ],
      "metadata": {
        "colab": {
          "base_uri": "https://localhost:8080/",
          "height": 35
        },
        "id": "QjOIXIt0IRX7",
        "outputId": "e1d80e85-f00f-4d04-b730-de9850ea3130"
      },
      "execution_count": 149,
      "outputs": [
        {
          "output_type": "execute_result",
          "data": {
            "text/plain": [
              "'HI'"
            ],
            "application/vnd.google.colaboratory.intrinsic+json": {
              "type": "string"
            }
          },
          "metadata": {},
          "execution_count": 149
        }
      ]
    },
    {
      "cell_type": "code",
      "source": [
        "# 대문자를 소문자로 바꾸기 - lower\n",
        "\n",
        "a = \"HI\"\n",
        "a.lower()"
      ],
      "metadata": {
        "colab": {
          "base_uri": "https://localhost:8080/",
          "height": 35
        },
        "id": "0Z4dCXZeKRuX",
        "outputId": "0bb4d80c-e490-4c4b-f171-6c38c7bb894f"
      },
      "execution_count": 150,
      "outputs": [
        {
          "output_type": "execute_result",
          "data": {
            "text/plain": [
              "'hi'"
            ],
            "application/vnd.google.colaboratory.intrinsic+json": {
              "type": "string"
            }
          },
          "metadata": {},
          "execution_count": 150
        }
      ]
    },
    {
      "cell_type": "code",
      "source": [
        "# 오른쪽 공백 지우기 - rstrip\n",
        "\n",
        "a = \" hi \"\n",
        "a.rstrip()"
      ],
      "metadata": {
        "id": "MGOQKjT2KYnf",
        "colab": {
          "base_uri": "https://localhost:8080/",
          "height": 35
        },
        "outputId": "ad7116b6-efbd-40cd-ac11-2448b27bd3cc"
      },
      "execution_count": 151,
      "outputs": [
        {
          "output_type": "execute_result",
          "data": {
            "text/plain": [
              "' hi'"
            ],
            "application/vnd.google.colaboratory.intrinsic+json": {
              "type": "string"
            }
          },
          "metadata": {},
          "execution_count": 151
        }
      ]
    },
    {
      "cell_type": "code",
      "source": [
        "# 양쪽 공백 지우기 - strip\n",
        "\n",
        "a = \" hi \"\n",
        "a.strip()"
      ],
      "metadata": {
        "id": "8QDgtNNyKdXO",
        "colab": {
          "base_uri": "https://localhost:8080/",
          "height": 35
        },
        "outputId": "35138fe0-ddda-4562-c5d6-3871f7ae5fe1"
      },
      "execution_count": 152,
      "outputs": [
        {
          "output_type": "execute_result",
          "data": {
            "text/plain": [
              "'hi'"
            ],
            "application/vnd.google.colaboratory.intrinsic+json": {
              "type": "string"
            }
          },
          "metadata": {},
          "execution_count": 152
        }
      ]
    },
    {
      "cell_type": "code",
      "source": [
        "# 문자열 바꾸기 - replace\n",
        "\n",
        "a = \"Life is too short\"\n",
        "a.replace(\"Life\", \"Your leg\")"
      ],
      "metadata": {
        "id": "p58v6ECOKha7",
        "colab": {
          "base_uri": "https://localhost:8080/",
          "height": 35
        },
        "outputId": "5bda9d59-c9d4-4223-8899-0b13d1b0c78a"
      },
      "execution_count": 153,
      "outputs": [
        {
          "output_type": "execute_result",
          "data": {
            "text/plain": [
              "'Your leg is too short'"
            ],
            "application/vnd.google.colaboratory.intrinsic+json": {
              "type": "string"
            }
          },
          "metadata": {},
          "execution_count": 153
        }
      ]
    },
    {
      "cell_type": "code",
      "source": [
        "# 문자열 나누기 - split\n",
        "\n",
        "a = \"Life is too short\"\n",
        "a.split()\n",
        "\n",
        "b = \"a:b:c:d\"\n",
        "b.split(':')\n"
      ],
      "metadata": {
        "colab": {
          "base_uri": "https://localhost:8080/"
        },
        "id": "gSfRBCNRKlMJ",
        "outputId": "a11a14e1-3852-464c-a6ea-9a2ec8e6ec44"
      },
      "execution_count": 154,
      "outputs": [
        {
          "output_type": "execute_result",
          "data": {
            "text/plain": [
              "['a', 'b', 'c', 'd']"
            ]
          },
          "metadata": {},
          "execution_count": 154
        }
      ]
    },
    {
      "cell_type": "code",
      "source": [
        "# 문자열이 알파벳으로만 구성되어 있는지 확인하기 - isalpha\n",
        "# Python3은 숫자 포함되어 있어서 false 반환\n",
        "# hello world는 공백문자가 포함되어있어서 false 반환\n",
        "\n",
        "s = \"Python\"\n",
        "s.isalpha()\n",
        "\n",
        "s = \"Python3\"\n",
        "s.isalpha()\n",
        "\n",
        "s = \"Hello World\"\n",
        "s.isalpha()"
      ],
      "metadata": {
        "colab": {
          "base_uri": "https://localhost:8080/"
        },
        "id": "GekZ0bhUKvUp",
        "outputId": "397139d4-295d-4d1c-c21e-d63c1665be9b"
      },
      "execution_count": 155,
      "outputs": [
        {
          "output_type": "execute_result",
          "data": {
            "text/plain": [
              "False"
            ]
          },
          "metadata": {},
          "execution_count": 155
        }
      ]
    },
    {
      "cell_type": "code",
      "source": [
        "# 문자열이 숫자로만 구성되어 있는지 확인하기 - isdigit\n",
        "# \"1234a\"는 알파벳 a 포함되어있어 false 반환\n",
        "# \"12 34\"는 숫자 사이에 공백이 있어 false 반환\n",
        "\n",
        "s = \"12345\"\n",
        "s.isdigit()\n",
        "\n",
        "s = \"1234a\"\n",
        "s.isdigit()\n",
        "\n",
        "s = \"12 34\"\n",
        "s.isdigit()"
      ],
      "metadata": {
        "id": "2D9SedUJK0N_",
        "colab": {
          "base_uri": "https://localhost:8080/"
        },
        "outputId": "66c90d59-97f5-4933-b0d5-79f890bbc1e1"
      },
      "execution_count": 156,
      "outputs": [
        {
          "output_type": "execute_result",
          "data": {
            "text/plain": [
              "False"
            ]
          },
          "metadata": {},
          "execution_count": 156
        }
      ]
    },
    {
      "cell_type": "code",
      "source": [
        "# 문자열이 특정 문자(열)로 시작하는지 확인하기 - startswith\n",
        "# 지정한 문자열을 시작하면 true / 그렇지 않으면 false\n",
        "\n",
        "s = \"Life is too short\"\n",
        "s.startswith(\"Life\")\n",
        "\n",
        "s.startswith(\"short\")"
      ],
      "metadata": {
        "id": "4bkwtZgHK3jr",
        "colab": {
          "base_uri": "https://localhost:8080/"
        },
        "outputId": "822fd689-14b6-496b-f99c-9463d362e4dc"
      },
      "execution_count": 157,
      "outputs": [
        {
          "output_type": "execute_result",
          "data": {
            "text/plain": [
              "False"
            ]
          },
          "metadata": {},
          "execution_count": 157
        }
      ]
    },
    {
      "cell_type": "markdown",
      "source": [],
      "metadata": {
        "id": "5GbYH2_cnIK-"
      }
    },
    {
      "cell_type": "code",
      "source": [
        "# 문자열이 특정 문자(열)로 끝나는지 확인하기 - endswith\n",
        "# 지정한 문자열을 시작하면 true / 그렇지 않으면 false\n",
        "\n",
        "s = \"Life is too short\"\n",
        "s.endswith(\"short\")\n",
        "\n",
        "s.endswith(\"too\")"
      ],
      "metadata": {
        "id": "uuplr-nyK66p",
        "colab": {
          "base_uri": "https://localhost:8080/"
        },
        "outputId": "9bbe623c-ffff-4f7a-9679-24627a0807e9"
      },
      "execution_count": 158,
      "outputs": [
        {
          "output_type": "execute_result",
          "data": {
            "text/plain": [
              "False"
            ]
          },
          "metadata": {},
          "execution_count": 158
        }
      ]
    },
    {
      "cell_type": "code",
      "source": [
        "# 착각하기 쉬운 문자열 함수\n",
        "# 문자열은 자체의 값을 변경할 수 없는 immutable 자료형이기 때문에\n",
        "# 값을 바꾸고 싶으면 대입문을 사용해야 한다\n",
        "# upper뿐만 아니라 lower, join, lstrip, rstrip, strip, replace, split 함수 모두 적용됨\n",
        "\n",
        "a = a.upper()\n",
        "a"
      ],
      "metadata": {
        "id": "6BT5h-l_MIQR",
        "colab": {
          "base_uri": "https://localhost:8080/",
          "height": 35
        },
        "outputId": "f4df25e7-ef02-4625-b177-d22d108c5021"
      },
      "execution_count": 159,
      "outputs": [
        {
          "output_type": "execute_result",
          "data": {
            "text/plain": [
              "'LIFE IS TOO SHORT'"
            ],
            "application/vnd.google.colaboratory.intrinsic+json": {
              "type": "string"
            }
          },
          "metadata": {},
          "execution_count": 159
        }
      ]
    }
  ]
}