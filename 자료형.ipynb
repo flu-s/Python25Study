{
  "nbformat": 4,
  "nbformat_minor": 0,
  "metadata": {
    "colab": {
      "provenance": [],
      "authorship_tag": "ABX9TyOCjYk7rjXxxMggJKBZBrO5",
      "include_colab_link": true
    },
    "kernelspec": {
      "name": "python3",
      "display_name": "Python 3"
    },
    "language_info": {
      "name": "python"
    }
  },
  "cells": [
    {
      "cell_type": "markdown",
      "metadata": {
        "id": "view-in-github",
        "colab_type": "text"
      },
      "source": [
        "<a href=\"https://colab.research.google.com/github/flu-s/Python25Study/blob/main/%EC%9E%90%EB%A3%8C%ED%98%95.ipynb\" target=\"_parent\"><img src=\"https://colab.research.google.com/assets/colab-badge.svg\" alt=\"Open In Colab\"/></a>"
      ]
    },
    {
      "cell_type": "code",
      "execution_count": 96,
      "metadata": {
        "colab": {
          "base_uri": "https://localhost:8080/"
        },
        "id": "lkfNT5uIy1Sc",
        "outputId": "7f6afe25-0061-4be7-ff57-fc1ec4ee913e"
      },
      "outputs": [
        {
          "output_type": "stream",
          "name": "stdout",
          "text": [
            "123\n"
          ]
        }
      ],
      "source": [
        "# 숫자형\n",
        "# Number 타입 : 정수, 실수, 8진수, 16진수, 2진수 등을 표현한다.\n",
        "\n",
        "a = 123\n",
        "print(a)"
      ]
    },
    {
      "cell_type": "code",
      "source": [
        "# 실수형\n",
        "\n",
        "a = 1.2\n",
        "b = -3.45\n",
        "c = 4.24E10\n",
        "d = 4.24e-10\n",
        "\n",
        "print(a)\n",
        "print(b)\n",
        "print(c)\n",
        "print(d)"
      ],
      "metadata": {
        "colab": {
          "base_uri": "https://localhost:8080/"
        },
        "id": "k-dAd7uk1vhU",
        "outputId": "2c8005c5-ce93-4b89-98b5-3083013ec50e"
      },
      "execution_count": 97,
      "outputs": [
        {
          "output_type": "stream",
          "name": "stdout",
          "text": [
            "1.2\n",
            "-3.45\n",
            "42400000000.0\n",
            "4.24e-10\n"
          ]
        }
      ]
    },
    {
      "cell_type": "code",
      "source": [
        "# 8진수\n",
        "\n",
        "a = 0x8ff\n",
        "b = 0xABC\n",
        "\n",
        "print(b)"
      ],
      "metadata": {
        "colab": {
          "base_uri": "https://localhost:8080/"
        },
        "id": "-T4l-H6K4jqC",
        "outputId": "4e56dad5-f918-4fae-9967-2de7a750a7e9"
      },
      "execution_count": 98,
      "outputs": [
        {
          "output_type": "stream",
          "name": "stdout",
          "text": [
            "2748\n"
          ]
        }
      ]
    },
    {
      "cell_type": "code",
      "source": [
        "# 사칙연산\n",
        "\n",
        "a = 3\n",
        "b = 4\n",
        "\n",
        "print(a+b)\n",
        "print(a-b)\n",
        "print(a*b)\n",
        "print(a/b)"
      ],
      "metadata": {
        "colab": {
          "base_uri": "https://localhost:8080/"
        },
        "id": "5J_fSrXK4-d0",
        "outputId": "c3781560-ee29-415a-f0cf-e6034a7885a7"
      },
      "execution_count": 99,
      "outputs": [
        {
          "output_type": "stream",
          "name": "stdout",
          "text": [
            "7\n",
            "-1\n",
            "12\n",
            "0.75\n"
          ]
        }
      ]
    },
    {
      "cell_type": "code",
      "source": [
        "# x의 y제곱을 나타내는 ** 연산자\n",
        "# ** 연산자는 x ** y처럼 사용했을때 x의 y제곱 값을 반환한다.\n",
        "\n",
        "a = 3\n",
        "b = 4\n",
        "\n",
        "print(a**b)\n"
      ],
      "metadata": {
        "colab": {
          "base_uri": "https://localhost:8080/"
        },
        "id": "Xaa6NB8K5NrJ",
        "outputId": "d3e5e83a-230b-4af6-ded9-b6cdc00aa3b0"
      },
      "execution_count": 100,
      "outputs": [
        {
          "output_type": "stream",
          "name": "stdout",
          "text": [
            "81\n"
          ]
        }
      ]
    },
    {
      "cell_type": "code",
      "source": [
        "# 나눗셈 후 나머지를 반환하는 % 연산자\n",
        "# 나눗셈의 나머지 값을 반환하는 연산자\n",
        "\n",
        "7 % 3\n",
        "\n",
        "3 % 7"
      ],
      "metadata": {
        "colab": {
          "base_uri": "https://localhost:8080/"
        },
        "id": "KA2HFia35cyL",
        "outputId": "e9fafa18-5059-4af8-e1b0-890d0c6dfb16"
      },
      "execution_count": 101,
      "outputs": [
        {
          "output_type": "execute_result",
          "data": {
            "text/plain": [
              "3"
            ]
          },
          "metadata": {},
          "execution_count": 101
        }
      ]
    },
    {
      "cell_type": "code",
      "source": [
        "# 나눗셈 후 몫을 반환하는 // 연산자\n",
        "\n",
        "#나눗셈 후 몫을 반환하는 연산자를 사용했을 때\n",
        "7//4"
      ],
      "metadata": {
        "colab": {
          "base_uri": "https://localhost:8080/"
        },
        "id": "SwlfSYbZ5pbc",
        "outputId": "7baa9018-d181-462a-c4fb-c3f52169a88f"
      },
      "execution_count": 102,
      "outputs": [
        {
          "output_type": "execute_result",
          "data": {
            "text/plain": [
              "1"
            ]
          },
          "metadata": {},
          "execution_count": 102
        }
      ]
    },
    {
      "cell_type": "code",
      "source": [
        "#복합 연산자\n",
        "\n",
        "a =1\n",
        "a = a +1\n",
        "print(a)\n",
        "\n",
        "b = 1\n",
        "b -=1\n",
        "print(b)"
      ],
      "metadata": {
        "colab": {
          "base_uri": "https://localhost:8080/"
        },
        "id": "vqOiH_jC6AiV",
        "outputId": "7648ff67-e23e-4914-d447-4fae42648036"
      },
      "execution_count": 103,
      "outputs": [
        {
          "output_type": "stream",
          "name": "stdout",
          "text": [
            "2\n",
            "0\n"
          ]
        }
      ]
    },
    {
      "cell_type": "code",
      "source": [
        "# 문자열\n",
        "# 문자열에 작은 따옴표 포함하기\n",
        "\n",
        "food = \"Python's favorite food is perl\"\n",
        "food"
      ],
      "metadata": {
        "colab": {
          "base_uri": "https://localhost:8080/",
          "height": 35
        },
        "id": "G3D58HDK6M8U",
        "outputId": "9a2a1793-e228-4954-b298-4bc23b4707d8"
      },
      "execution_count": 104,
      "outputs": [
        {
          "output_type": "execute_result",
          "data": {
            "text/plain": [
              "\"Python's favorite food is perl\""
            ],
            "application/vnd.google.colaboratory.intrinsic+json": {
              "type": "string"
            }
          },
          "metadata": {},
          "execution_count": 104
        }
      ]
    },
    {
      "cell_type": "code",
      "source": [
        "# 문자열에 큰따옴표 포함하기\n",
        "\n",
        "say = '\"Python is very easy.\" he says.'\n",
        "# 작은 따옴표 안에 사용된 큰 따옴표는 문자열을 만드는 기호로 인식되지 않음"
      ],
      "metadata": {
        "id": "xouL2oud6n82"
      },
      "execution_count": 105,
      "outputs": []
    },
    {
      "cell_type": "code",
      "source": [
        "# 역슬래시를 사용해서 작은 따옴표, 큰타옴표를 문자열에 포함하기\n",
        "\n",
        "food = 'Python\\'s favorite food is perl'\n",
        "say = \"\\Python is very easy.\\\" he says.\"\n"
      ],
      "metadata": {
        "id": "YG3POyLt65U4",
        "colab": {
          "base_uri": "https://localhost:8080/"
        },
        "outputId": "08eaa780-f44a-476e-81e7-e26b2e5332c3"
      },
      "execution_count": 106,
      "outputs": [
        {
          "output_type": "stream",
          "name": "stderr",
          "text": [
            "<>:4: SyntaxWarning: invalid escape sequence '\\P'\n",
            "<>:4: SyntaxWarning: invalid escape sequence '\\P'\n",
            "/tmp/ipython-input-2050608747.py:4: SyntaxWarning: invalid escape sequence '\\P'\n",
            "  say = \"\\Python is very easy.\\\" he says.\"\n"
          ]
        }
      ]
    },
    {
      "cell_type": "code",
      "source": [
        "#여러 줄인 문자열을 변수에 대입하고 싶을 때\n",
        "# Life is too short\n",
        "# You need python\n",
        "\n",
        "MULTILINE = \" Life is too short\\nYou need python\""
      ],
      "metadata": {
        "id": "V1PHNcro9brs"
      },
      "execution_count": 107,
      "outputs": []
    },
    {
      "cell_type": "code",
      "source": [
        "# 문자열이 여러 줄인 경우 따옴표 3개를 사용하는 것이 훨씬 깔끔함\n",
        "# 연속된 작은 따옴표 3개 사용하기\n",
        "\n",
        "MULTILINE ='''\n",
        "Life is too short\n",
        "You need python\n",
        "'''\n",
        "\n",
        "print(MULTILINE)\n",
        "\n",
        "# 연속된 큰따옴표 3개 사용하기\n",
        "\n",
        "\n",
        "MULTILINE2 = \"\"\"\n",
        "Life is too short\n",
        "You need python\n",
        "\"\"\"\n",
        "\n",
        "print(MULTILINE2)"
      ],
      "metadata": {
        "colab": {
          "base_uri": "https://localhost:8080/"
        },
        "id": "Gok8y8l19jA7",
        "outputId": "52c8cb39-6a11-4e4e-cac9-54008c3ccfe9"
      },
      "execution_count": 108,
      "outputs": [
        {
          "output_type": "stream",
          "name": "stdout",
          "text": [
            "\n",
            "Life is too short\n",
            "You need python\n",
            "\n",
            "\n",
            "Life is too short\n",
            "You need python\n",
            "\n"
          ]
        }
      ]
    },
    {
      "cell_type": "code",
      "source": [
        "# 이스케이프 코드란\n",
        "# 프로그래밍할 때 사용할 수 있도록 미리 정의해 둔 '문자조합'\n",
        "# 주로 출력물을 보기 좋게 정렬하는 용도로 사용한다\n",
        "\n",
        "# \\n = 문자열 안에서 줄을 바꿀 때 사용\n",
        "# \\t = 문자열 사이에 탭 간격을 줄 때 사용\n",
        "# \\\\ = \\를 그대로 표현할 때 사용\n",
        "# \\' = 작은 따옴표( ' )를 그대로 표현할 때 사용\n",
        "# \\\" = 큰 따옴표( \" )를 그대로 표현할 때 사용\n",
        "# \\r = 캐리지 리턴(줄 바꿈 문자, 커서를 현재 줄의 가장 앞으로 이동)\n",
        "# \\f = 폼 피드(줄 바꿈 문자, 커서를 현재 줄의 다음 줄로 이동)\n",
        "# \\a = 벨소리(출력할 때 PC 스피커에서 '삑'소리가 난다)\n",
        "# \\b = 백 스페이스\n",
        "# \\000 = 널 문자"
      ],
      "metadata": {
        "id": "RhT-9NbI-6Gx"
      },
      "execution_count": 109,
      "outputs": []
    },
    {
      "cell_type": "code",
      "source": [
        "# 문자열 연산\n",
        "\n",
        "head = \"Python\"\n",
        "tail = \"is fun!\"\n",
        "head + tail"
      ],
      "metadata": {
        "colab": {
          "base_uri": "https://localhost:8080/",
          "height": 35
        },
        "id": "akNuOBhC_dPa",
        "outputId": "f2132040-64dd-42ba-d42f-fe78053da8fd"
      },
      "execution_count": 110,
      "outputs": [
        {
          "output_type": "execute_result",
          "data": {
            "text/plain": [
              "'Pythonis fun!'"
            ],
            "application/vnd.google.colaboratory.intrinsic+json": {
              "type": "string"
            }
          },
          "metadata": {},
          "execution_count": 110
        }
      ]
    },
    {
      "cell_type": "code",
      "source": [
        "# 문자열 곱하기\n",
        "\n",
        "a = \"python\"\n",
        "a * 2"
      ],
      "metadata": {
        "colab": {
          "base_uri": "https://localhost:8080/",
          "height": 35
        },
        "id": "AHRL0SfFAEJe",
        "outputId": "cade26c3-26bc-4fd3-ff8e-7b0130832c0b"
      },
      "execution_count": 111,
      "outputs": [
        {
          "output_type": "execute_result",
          "data": {
            "text/plain": [
              "'pythonpython'"
            ],
            "application/vnd.google.colaboratory.intrinsic+json": {
              "type": "string"
            }
          },
          "metadata": {},
          "execution_count": 111
        }
      ]
    },
    {
      "cell_type": "code",
      "source": [
        "# 문자열 곱하기 응용\n",
        "\n",
        "print(\"=\" * 50)\n",
        "print(\"My Program\")\n",
        "print(\"=\" * 50)"
      ],
      "metadata": {
        "colab": {
          "base_uri": "https://localhost:8080/"
        },
        "id": "ab1uKNYmAIv5",
        "outputId": "b56963bd-82c2-4207-f2eb-117b81e6b3fc"
      },
      "execution_count": 112,
      "outputs": [
        {
          "output_type": "stream",
          "name": "stdout",
          "text": [
            "==================================================\n",
            "My Program\n",
            "==================================================\n"
          ]
        }
      ]
    },
    {
      "cell_type": "code",
      "source": [
        "# 문자열 길이 구하기 len\n",
        "# 문자열의 길이에는 공백 문자도 포함\n",
        "\n",
        "a = \"Life is too short\"\n",
        "len(a)\n"
      ],
      "metadata": {
        "colab": {
          "base_uri": "https://localhost:8080/"
        },
        "id": "5GHZcnjbAZ1y",
        "outputId": "d518a180-36f1-46b2-e27f-5938c35bad1e"
      },
      "execution_count": 113,
      "outputs": [
        {
          "output_type": "execute_result",
          "data": {
            "text/plain": [
              "17"
            ]
          },
          "metadata": {},
          "execution_count": 113
        }
      ]
    },
    {
      "cell_type": "code",
      "source": [
        "# 문자열 인덱싱\n",
        "# 인덱싱 = 무엇인가를'가리킨다'라는 의미\n",
        "# 문자열 안의 특정한 값을 뽑아내는 역할\n",
        "#a[-1] = 문자열을 뒤에서부터 읽는다\n",
        "\n",
        "a = \"Life is too short, You need Python\"\n",
        "a[3]\n",
        "a[12]\n",
        "a[-1]\n"
      ],
      "metadata": {
        "colab": {
          "base_uri": "https://localhost:8080/",
          "height": 35
        },
        "id": "8ElwsTczAk4u",
        "outputId": "654c9033-f111-491b-cf97-39f0bd222656"
      },
      "execution_count": 114,
      "outputs": [
        {
          "output_type": "execute_result",
          "data": {
            "text/plain": [
              "'n'"
            ],
            "application/vnd.google.colaboratory.intrinsic+json": {
              "type": "string"
            }
          },
          "metadata": {},
          "execution_count": 114
        }
      ]
    },
    {
      "cell_type": "code",
      "source": [
        "# 문자열 슬라이싱\n",
        "# 슬라이싱 = 무엇인가를'잘라낸다'라는 의미\n",
        "\n",
        "a = \"Life is too short, You need Python\"\n",
        "b = a[0] + a[1] + a[2] + a[3]\n",
        "b"
      ],
      "metadata": {
        "colab": {
          "base_uri": "https://localhost:8080/",
          "height": 35
        },
        "id": "hPLetfOTAx7d",
        "outputId": "e0e5eff1-ae11-4381-a25a-27894051df3b"
      },
      "execution_count": 115,
      "outputs": [
        {
          "output_type": "execute_result",
          "data": {
            "text/plain": [
              "'Life'"
            ],
            "application/vnd.google.colaboratory.intrinsic+json": {
              "type": "string"
            }
          },
          "metadata": {},
          "execution_count": 115
        }
      ]
    },
    {
      "cell_type": "code",
      "source": [
        "a = \"Life is too short, You need Python\"\n",
        "a[0:4]\n",
        "\n",
        "b = \"Life is too short, You need Python\"\n",
        "b[5:7]\n",
        "\n",
        "c = \"Life is too short, You need Python\"\n",
        "c[19:]\n",
        "\n",
        "d = \"Life is too short, You need Python\"\n",
        "d[:17]\n",
        "\n",
        "e = \"Life is too short, You need Python\"\n",
        "e[:]\n",
        "\n",
        "f = \"Life is too short, You need Python\"\n",
        "f[19:-7]"
      ],
      "metadata": {
        "colab": {
          "base_uri": "https://localhost:8080/",
          "height": 35
        },
        "id": "p5ulaQJbBbXe",
        "outputId": "79d9cad2-e736-48e2-8c02-c1546c8865dd"
      },
      "execution_count": 116,
      "outputs": [
        {
          "output_type": "execute_result",
          "data": {
            "text/plain": [
              "'You need'"
            ],
            "application/vnd.google.colaboratory.intrinsic+json": {
              "type": "string"
            }
          },
          "metadata": {},
          "execution_count": 116
        }
      ]
    },
    {
      "cell_type": "code",
      "source": [
        "# 슬라이싱으로 문자열 나누기\n",
        "\n",
        "a = \"20251030Rainy\"\n",
        "date = a[:8]\n",
        "weather = a[8:]\n",
        "\n",
        "date\n",
        "weather\n",
        "\n"
      ],
      "metadata": {
        "id": "0O2I89haB6jA",
        "colab": {
          "base_uri": "https://localhost:8080/",
          "height": 35
        },
        "outputId": "f1c4c571-370f-4869-d580-53e482a6ef58"
      },
      "execution_count": 117,
      "outputs": [
        {
          "output_type": "execute_result",
          "data": {
            "text/plain": [
              "'Rainy'"
            ],
            "application/vnd.google.colaboratory.intrinsic+json": {
              "type": "string"
            }
          },
          "metadata": {},
          "execution_count": 117
        }
      ]
    },
    {
      "cell_type": "code",
      "source": [
        "a = \"20251030Rainy\"\n",
        "\n",
        "year = a[:4]\n",
        "day = a[4:8]\n",
        "weather = a[8:]"
      ],
      "metadata": {
        "id": "MKg8p7_NCQys"
      },
      "execution_count": 118,
      "outputs": []
    },
    {
      "cell_type": "code",
      "source": [
        "# 문자열 수정\n",
        "\n",
        "a = \"Pithon\"\n",
        "a[:1] + 'y' + a[2:]"
      ],
      "metadata": {
        "colab": {
          "base_uri": "https://localhost:8080/",
          "height": 35
        },
        "id": "C-hs62G1Ctz4",
        "outputId": "aced3433-3a75-4d45-de86-545f5e817788"
      },
      "execution_count": 119,
      "outputs": [
        {
          "output_type": "execute_result",
          "data": {
            "text/plain": [
              "'Python'"
            ],
            "application/vnd.google.colaboratory.intrinsic+json": {
              "type": "string"
            }
          },
          "metadata": {},
          "execution_count": 119
        }
      ]
    },
    {
      "cell_type": "code",
      "source": [
        "# 문자열 포매팅\n",
        "# 숫자 바로 대입\n",
        "\n",
        "\"I eat %d apples.\" %3"
      ],
      "metadata": {
        "colab": {
          "base_uri": "https://localhost:8080/",
          "height": 35
        },
        "id": "4pRCS2qcC_00",
        "outputId": "f2da4c57-e3e2-4ffc-a781-3ba12e941a1f"
      },
      "execution_count": 120,
      "outputs": [
        {
          "output_type": "execute_result",
          "data": {
            "text/plain": [
              "'I eat 3 apples.'"
            ],
            "application/vnd.google.colaboratory.intrinsic+json": {
              "type": "string"
            }
          },
          "metadata": {},
          "execution_count": 120
        }
      ]
    },
    {
      "cell_type": "code",
      "source": [
        "# 문자열 바로 대입\n",
        "\"I eat %s apples.\" %\"five\""
      ],
      "metadata": {
        "colab": {
          "base_uri": "https://localhost:8080/",
          "height": 35
        },
        "id": "323qbuIDDIHj",
        "outputId": "5aaebcc1-5b66-4a6e-8051-5393d839582a"
      },
      "execution_count": 121,
      "outputs": [
        {
          "output_type": "execute_result",
          "data": {
            "text/plain": [
              "'I eat five apples.'"
            ],
            "application/vnd.google.colaboratory.intrinsic+json": {
              "type": "string"
            }
          },
          "metadata": {},
          "execution_count": 121
        }
      ]
    },
    {
      "cell_type": "code",
      "source": [
        "# 숫자 값을 나타내는 변수로 대입\n",
        "\n",
        "number = 3\n",
        "\n",
        "\"I eat %d apples.\" %number"
      ],
      "metadata": {
        "colab": {
          "base_uri": "https://localhost:8080/",
          "height": 35
        },
        "id": "vgZ2vdm_DQtV",
        "outputId": "9cfc4366-7e1b-4f07-e42b-1e93294b35fa"
      },
      "execution_count": 122,
      "outputs": [
        {
          "output_type": "execute_result",
          "data": {
            "text/plain": [
              "'I eat 3 apples.'"
            ],
            "application/vnd.google.colaboratory.intrinsic+json": {
              "type": "string"
            }
          },
          "metadata": {},
          "execution_count": 122
        }
      ]
    },
    {
      "cell_type": "code",
      "source": [
        "# 2개 이상의 값 넣기\n",
        "\n",
        "number = 10\n",
        "day = \"three\"\n",
        "\n",
        "\"I ate %d apples. so I was sick for %s days\"%(number, day)"
      ],
      "metadata": {
        "colab": {
          "base_uri": "https://localhost:8080/",
          "height": 35
        },
        "id": "9V-NN9hGDdF4",
        "outputId": "b993a698-f62b-4e21-bfb6-02b6c8f7eb37"
      },
      "execution_count": 123,
      "outputs": [
        {
          "output_type": "execute_result",
          "data": {
            "text/plain": [
              "'I ate 10 apples. so I was sick for three days'"
            ],
            "application/vnd.google.colaboratory.intrinsic+json": {
              "type": "string"
            }
          },
          "metadata": {},
          "execution_count": 123
        }
      ]
    },
    {
      "cell_type": "code",
      "source": [
        "# 문자열 포맷 코드\n",
        "# %s = 문자열 (String)\n",
        "# %c = 문자 1개 (Character)\n",
        "# %d = 정수 (Integer)\n",
        "# %f = 부동소수(floating-point)\n",
        "# %o = 8진수\n",
        "# %x = 16진수\n",
        "# %% = Literal % (문자%자체)"
      ],
      "metadata": {
        "id": "Xm9r-qh9DrrM"
      },
      "execution_count": 124,
      "outputs": []
    },
    {
      "cell_type": "code",
      "source": [
        "\"I have  %s apples\" %3\n",
        "\n",
        "\"rate is %s\" %3.234"
      ],
      "metadata": {
        "colab": {
          "base_uri": "https://localhost:8080/",
          "height": 35
        },
        "id": "heVxAqTYEJS-",
        "outputId": "dff1adf2-8bf6-432e-bab9-8d944efaca0c"
      },
      "execution_count": 125,
      "outputs": [
        {
          "output_type": "execute_result",
          "data": {
            "text/plain": [
              "'rate is 3.234'"
            ],
            "application/vnd.google.colaboratory.intrinsic+json": {
              "type": "string"
            }
          },
          "metadata": {},
          "execution_count": 125
        }
      ]
    },
    {
      "cell_type": "code",
      "source": [
        "# 포매팅 연산자 %d와 %를 같이 쓸 때는 %%를 쓴다\n",
        "\n",
        "\"Error is%d%%\" %98"
      ],
      "metadata": {
        "colab": {
          "base_uri": "https://localhost:8080/",
          "height": 35
        },
        "id": "hRybZLToEZgl",
        "outputId": "b8390abe-f53b-45c6-b444-5b5bd233f876"
      },
      "execution_count": 126,
      "outputs": [
        {
          "output_type": "execute_result",
          "data": {
            "text/plain": [
              "'Error is98%'"
            ],
            "application/vnd.google.colaboratory.intrinsic+json": {
              "type": "string"
            }
          },
          "metadata": {},
          "execution_count": 126
        }
      ]
    },
    {
      "cell_type": "code",
      "source": [
        "# 포맷 코드와 숫자 함께 사용하기\n",
        "# 정렬과 공백\n",
        "\n",
        "\"%10s\" %\"hi\""
      ],
      "metadata": {
        "colab": {
          "base_uri": "https://localhost:8080/",
          "height": 35
        },
        "id": "D7Y-rNlaEiuZ",
        "outputId": "65af59e7-aabf-4052-f311-5008c12cf610"
      },
      "execution_count": 127,
      "outputs": [
        {
          "output_type": "execute_result",
          "data": {
            "text/plain": [
              "'        hi'"
            ],
            "application/vnd.google.colaboratory.intrinsic+json": {
              "type": "string"
            }
          },
          "metadata": {},
          "execution_count": 127
        }
      ]
    },
    {
      "cell_type": "code",
      "source": [
        "\"%-10sjane.\" %'hi'"
      ],
      "metadata": {
        "colab": {
          "base_uri": "https://localhost:8080/",
          "height": 35
        },
        "id": "WdVgeSQVEp23",
        "outputId": "6e134591-76d1-444f-bdbc-6a80064ae241"
      },
      "execution_count": 128,
      "outputs": [
        {
          "output_type": "execute_result",
          "data": {
            "text/plain": [
              "'hi        jane.'"
            ],
            "application/vnd.google.colaboratory.intrinsic+json": {
              "type": "string"
            }
          },
          "metadata": {},
          "execution_count": 128
        }
      ]
    },
    {
      "cell_type": "code",
      "source": [
        "# 소수점 표현하기\n",
        "# ' . '은 소수점 포인트,  그 뒤의 숫자 4는 소수점 뒤에 나올 숫자의 개수\n",
        "\n",
        "\"%0.4f\" %3.42134234"
      ],
      "metadata": {
        "colab": {
          "base_uri": "https://localhost:8080/",
          "height": 35
        },
        "id": "9tM8s9peEyR9",
        "outputId": "162c3dd0-cab1-4ce8-f9fa-447a20c7e46c"
      },
      "execution_count": 129,
      "outputs": [
        {
          "output_type": "execute_result",
          "data": {
            "text/plain": [
              "'3.4213'"
            ],
            "application/vnd.google.colaboratory.intrinsic+json": {
              "type": "string"
            }
          },
          "metadata": {},
          "execution_count": 129
        }
      ]
    },
    {
      "cell_type": "code",
      "source": [
        "# format 함수를 사용한 포매팅\n",
        "\n",
        "\"I eat {0} apples\".format(3)"
      ],
      "metadata": {
        "colab": {
          "base_uri": "https://localhost:8080/",
          "height": 35
        },
        "id": "h5KQl4fSFDVv",
        "outputId": "a1ab8684-0a7c-4677-cb89-787da0d1d68c"
      },
      "execution_count": 130,
      "outputs": [
        {
          "output_type": "execute_result",
          "data": {
            "text/plain": [
              "'I eat 3 apples'"
            ],
            "application/vnd.google.colaboratory.intrinsic+json": {
              "type": "string"
            }
          },
          "metadata": {},
          "execution_count": 130
        }
      ]
    },
    {
      "cell_type": "code",
      "source": [
        "# 문자열에 바로 대입하기\n",
        "\n",
        "\"I eat {0} apples\".format(\"five\")"
      ],
      "metadata": {
        "colab": {
          "base_uri": "https://localhost:8080/",
          "height": 35
        },
        "id": "8BKcJX6jFRC9",
        "outputId": "f4658362-ae5a-41b4-e52d-3d0b7254d89e"
      },
      "execution_count": 131,
      "outputs": [
        {
          "output_type": "execute_result",
          "data": {
            "text/plain": [
              "'I eat five apples'"
            ],
            "application/vnd.google.colaboratory.intrinsic+json": {
              "type": "string"
            }
          },
          "metadata": {},
          "execution_count": 131
        }
      ]
    },
    {
      "cell_type": "code",
      "source": [
        "# 숫자 값을 가진 변수로 대입하기\n",
        "\n",
        "number = 3\n",
        "\n",
        "\"I eat {0} apples\".format(number)"
      ],
      "metadata": {
        "colab": {
          "base_uri": "https://localhost:8080/",
          "height": 35
        },
        "id": "n7nyLWkcFYzJ",
        "outputId": "22272283-8e15-4508-c8c6-494ed9628610"
      },
      "execution_count": 132,
      "outputs": [
        {
          "output_type": "execute_result",
          "data": {
            "text/plain": [
              "'I eat 3 apples'"
            ],
            "application/vnd.google.colaboratory.intrinsic+json": {
              "type": "string"
            }
          },
          "metadata": {},
          "execution_count": 132
        }
      ]
    },
    {
      "cell_type": "code",
      "source": [
        "# 2개 이상의 값 넣기\n",
        "\n",
        "number = 10\n",
        "day = \"three\"\n",
        "\n",
        "\"I ate {0} apples. so I was sick for {1} days\".format(number, day)"
      ],
      "metadata": {
        "colab": {
          "base_uri": "https://localhost:8080/",
          "height": 35
        },
        "id": "Z6P1syYhFgox",
        "outputId": "d527bbd9-dd58-47db-bb85-6f85e239021d"
      },
      "execution_count": 133,
      "outputs": [
        {
          "output_type": "execute_result",
          "data": {
            "text/plain": [
              "'I ate 10 apples. so I was sick for three days'"
            ],
            "application/vnd.google.colaboratory.intrinsic+json": {
              "type": "string"
            }
          },
          "metadata": {},
          "execution_count": 133
        }
      ]
    },
    {
      "cell_type": "code",
      "source": [
        "# 이름으로 넣기\n",
        "\n",
        "\"I ate {number} apples. so I was sick for {day} days.\".format(number=10, day=3)"
      ],
      "metadata": {
        "colab": {
          "base_uri": "https://localhost:8080/",
          "height": 35
        },
        "id": "be0I9TCEFu7p",
        "outputId": "786f52c2-8fc5-4b6c-94b1-7af43e0fc5e3"
      },
      "execution_count": 134,
      "outputs": [
        {
          "output_type": "execute_result",
          "data": {
            "text/plain": [
              "'I ate 10 apples. so I was sick for 3 days.'"
            ],
            "application/vnd.google.colaboratory.intrinsic+json": {
              "type": "string"
            }
          },
          "metadata": {},
          "execution_count": 134
        }
      ]
    },
    {
      "cell_type": "code",
      "source": [
        "# 인덱스와 이름 혼용\n",
        "\n",
        "\"I ate {0} apples. so I was sick for {day} days.\".format(10, day=3)"
      ],
      "metadata": {
        "colab": {
          "base_uri": "https://localhost:8080/",
          "height": 35
        },
        "id": "H0K4jSt_F7c7",
        "outputId": "a7061725-9396-46e0-b4ea-29d2d87a5cf9"
      },
      "execution_count": 135,
      "outputs": [
        {
          "output_type": "execute_result",
          "data": {
            "text/plain": [
              "'I ate 10 apples. so I was sick for 3 days.'"
            ],
            "application/vnd.google.colaboratory.intrinsic+json": {
              "type": "string"
            }
          },
          "metadata": {},
          "execution_count": 135
        }
      ]
    },
    {
      "cell_type": "code",
      "source": [
        "# 왼쪽 정렬\n",
        "\n",
        "\"{0:<10}\".format(\"hi\")"
      ],
      "metadata": {
        "colab": {
          "base_uri": "https://localhost:8080/",
          "height": 35
        },
        "id": "DGlZYkmnGC-x",
        "outputId": "251528cd-f5c5-4c28-c76d-ce7a137e1140"
      },
      "execution_count": 136,
      "outputs": [
        {
          "output_type": "execute_result",
          "data": {
            "text/plain": [
              "'hi        '"
            ],
            "application/vnd.google.colaboratory.intrinsic+json": {
              "type": "string"
            }
          },
          "metadata": {},
          "execution_count": 136
        }
      ]
    },
    {
      "cell_type": "code",
      "source": [
        "# 오른쪽 정렬\n",
        "\n",
        "\"{0:>10}\".format(\"hi\")"
      ],
      "metadata": {
        "colab": {
          "base_uri": "https://localhost:8080/",
          "height": 35
        },
        "id": "a0GTO7ztGIjt",
        "outputId": "d5c0b9fc-4aaa-460c-e24f-5b7bbaf3d299"
      },
      "execution_count": 137,
      "outputs": [
        {
          "output_type": "execute_result",
          "data": {
            "text/plain": [
              "'        hi'"
            ],
            "application/vnd.google.colaboratory.intrinsic+json": {
              "type": "string"
            }
          },
          "metadata": {},
          "execution_count": 137
        }
      ]
    },
    {
      "cell_type": "code",
      "source": [
        "# 가운데 정렬\n",
        "\n",
        "\"{0:^10}\".format(\"hi\")"
      ],
      "metadata": {
        "colab": {
          "base_uri": "https://localhost:8080/",
          "height": 35
        },
        "id": "ju530wFNGOSz",
        "outputId": "c2d073cd-be04-431f-87ab-2a0989dc36e0"
      },
      "execution_count": 138,
      "outputs": [
        {
          "output_type": "execute_result",
          "data": {
            "text/plain": [
              "'    hi    '"
            ],
            "application/vnd.google.colaboratory.intrinsic+json": {
              "type": "string"
            }
          },
          "metadata": {},
          "execution_count": 138
        }
      ]
    },
    {
      "cell_type": "code",
      "source": [
        "# 공백 채우기\n",
        "\n",
        "\"{0:=^10}\".format(\"hi\")\n",
        "\"{0:!^10}\".format(\"hi\")"
      ],
      "metadata": {
        "colab": {
          "base_uri": "https://localhost:8080/",
          "height": 35
        },
        "id": "aRpO9z-zGSf9",
        "outputId": "650c8c16-bb0c-4652-81f8-694eba2ca25d"
      },
      "execution_count": 139,
      "outputs": [
        {
          "output_type": "execute_result",
          "data": {
            "text/plain": [
              "'!!!!hi!!!!'"
            ],
            "application/vnd.google.colaboratory.intrinsic+json": {
              "type": "string"
            }
          },
          "metadata": {},
          "execution_count": 139
        }
      ]
    },
    {
      "cell_type": "code",
      "source": [
        "# 소수점 표현하기\n",
        "\n",
        "y = 3.42134234\n",
        "\"{0:0.4f}\".format(y)"
      ],
      "metadata": {
        "colab": {
          "base_uri": "https://localhost:8080/",
          "height": 35
        },
        "id": "EVt8qfObGb4r",
        "outputId": "7ee34dc9-0a75-4a44-df82-393d9986a687"
      },
      "execution_count": 140,
      "outputs": [
        {
          "output_type": "execute_result",
          "data": {
            "text/plain": [
              "'3.4213'"
            ],
            "application/vnd.google.colaboratory.intrinsic+json": {
              "type": "string"
            }
          },
          "metadata": {},
          "execution_count": 140
        }
      ]
    },
    {
      "cell_type": "code",
      "source": [
        "# { 또는 } 문자 표현하기\n",
        "\n",
        "\"{{and}}\".format()"
      ],
      "metadata": {
        "colab": {
          "base_uri": "https://localhost:8080/",
          "height": 35
        },
        "id": "gkYLQydnGlO3",
        "outputId": "215ecd00-77a9-4b0a-c4e4-5a34830644b7"
      },
      "execution_count": 141,
      "outputs": [
        {
          "output_type": "execute_result",
          "data": {
            "text/plain": [
              "'{and}'"
            ],
            "application/vnd.google.colaboratory.intrinsic+json": {
              "type": "string"
            }
          },
          "metadata": {},
          "execution_count": 141
        }
      ]
    },
    {
      "cell_type": "code",
      "source": [
        "# f 문자열 포매팅\n",
        "# f접두사를 붙이면 f 문자열 포매팅 기능을 사용할 수 있다\n",
        "\n",
        "name = '홍길동'\n",
        "age = 30\n",
        "\n",
        "f'나의 이름은{name}입니다. 나이는 {age}입니다'"
      ],
      "metadata": {
        "colab": {
          "base_uri": "https://localhost:8080/",
          "height": 35
        },
        "id": "Ab5bqVGMGsIz",
        "outputId": "620f0a02-cea5-4207-a0b4-cb57ad35e617"
      },
      "execution_count": 142,
      "outputs": [
        {
          "output_type": "execute_result",
          "data": {
            "text/plain": [
              "'나의 이름은홍길동입니다. 나이는 30입니다'"
            ],
            "application/vnd.google.colaboratory.intrinsic+json": {
              "type": "string"
            }
          },
          "metadata": {},
          "execution_count": 142
        }
      ]
    },
    {
      "cell_type": "code",
      "source": [
        "d = {'name' : '홍길동', 'age' : '30'}\n",
        "f'나의 이름은 {d[\"name\"]}입니다. 나이는 {d[\"age\"]}입니다'"
      ],
      "metadata": {
        "colab": {
          "base_uri": "https://localhost:8080/",
          "height": 35
        },
        "id": "P0tgI4jtG_Cn",
        "outputId": "67051426-f45a-41f2-c052-77006dea2dec"
      },
      "execution_count": 143,
      "outputs": [
        {
          "output_type": "execute_result",
          "data": {
            "text/plain": [
              "'나의 이름은 홍길동입니다. 나이는 30입니다'"
            ],
            "application/vnd.google.colaboratory.intrinsic+json": {
              "type": "string"
            }
          },
          "metadata": {},
          "execution_count": 143
        }
      ]
    },
    {
      "cell_type": "code",
      "source": [
        "# f문자열을 사용하여 금액에 콤마(,) 삽입하기\n",
        "\n",
        "f\"난 {1500000:,}원이 필요해\""
      ],
      "metadata": {
        "colab": {
          "base_uri": "https://localhost:8080/",
          "height": 35
        },
        "id": "iGo5GrygHUZ_",
        "outputId": "0972cded-66eb-4772-a108-a4ce90d0dcac"
      },
      "execution_count": 144,
      "outputs": [
        {
          "output_type": "execute_result",
          "data": {
            "text/plain": [
              "'난 1,500,000원이 필요해'"
            ],
            "application/vnd.google.colaboratory.intrinsic+json": {
              "type": "string"
            }
          },
          "metadata": {},
          "execution_count": 144
        }
      ]
    },
    {
      "cell_type": "code",
      "source": [
        "# 문자 개수 세기 - count\n",
        "\n",
        "a = \"hobby\"\n",
        "a.count('b')"
      ],
      "metadata": {
        "colab": {
          "base_uri": "https://localhost:8080/"
        },
        "id": "-9Dhoq5AHhPB",
        "outputId": "d39c5cff-453f-4ac2-c390-2f4daba08c40"
      },
      "execution_count": 145,
      "outputs": [
        {
          "output_type": "execute_result",
          "data": {
            "text/plain": [
              "2"
            ]
          },
          "metadata": {},
          "execution_count": 145
        }
      ]
    },
    {
      "cell_type": "code",
      "source": [
        "# 위치 알려주기 1 -find\n",
        "# 문자나 문자열이 존재하지 않으면 -1을 반환함\n",
        "\n",
        "a = \"Python is the best choice\"\n",
        "a.find('b')\n"
      ],
      "metadata": {
        "colab": {
          "base_uri": "https://localhost:8080/"
        },
        "id": "urr9_G4bHmnn",
        "outputId": "d7f36b13-ca59-4413-806c-9f249540bd48"
      },
      "execution_count": 146,
      "outputs": [
        {
          "output_type": "execute_result",
          "data": {
            "text/plain": [
              "14"
            ]
          },
          "metadata": {},
          "execution_count": 146
        }
      ]
    },
    {
      "cell_type": "code",
      "source": [
        "# 위치 알려주기 2 - index\n",
        "# 문자나 문자열이 존재하지 않으면 오류 발생함\n",
        "\n",
        "a = \"Life is too short\"\n",
        "a.index('t')"
      ],
      "metadata": {
        "colab": {
          "base_uri": "https://localhost:8080/"
        },
        "id": "WV4L0GnlH2C0",
        "outputId": "c40d8465-5cbf-41e6-b080-6af3e83ec336"
      },
      "execution_count": 147,
      "outputs": [
        {
          "output_type": "execute_result",
          "data": {
            "text/plain": [
              "8"
            ]
          },
          "metadata": {},
          "execution_count": 147
        }
      ]
    },
    {
      "cell_type": "code",
      "source": [
        "# 문자열 삽입 - join\n",
        "\n",
        "\",\".join('abcd')"
      ],
      "metadata": {
        "colab": {
          "base_uri": "https://localhost:8080/",
          "height": 35
        },
        "id": "GP4x94t1IFt7",
        "outputId": "6bf5a34d-8437-4c24-95c1-4147d09ce1f4"
      },
      "execution_count": 148,
      "outputs": [
        {
          "output_type": "execute_result",
          "data": {
            "text/plain": [
              "'a,b,c,d'"
            ],
            "application/vnd.google.colaboratory.intrinsic+json": {
              "type": "string"
            }
          },
          "metadata": {},
          "execution_count": 148
        }
      ]
    },
    {
      "cell_type": "code",
      "source": [
        "# 소문자를 대문자로 바꾸기 - upper\n",
        "\n",
        "a = \"hi\"\n",
        "a.upper()"
      ],
      "metadata": {
        "colab": {
          "base_uri": "https://localhost:8080/",
          "height": 35
        },
        "id": "QjOIXIt0IRX7",
        "outputId": "e1d80e85-f00f-4d04-b730-de9850ea3130"
      },
      "execution_count": 149,
      "outputs": [
        {
          "output_type": "execute_result",
          "data": {
            "text/plain": [
              "'HI'"
            ],
            "application/vnd.google.colaboratory.intrinsic+json": {
              "type": "string"
            }
          },
          "metadata": {},
          "execution_count": 149
        }
      ]
    },
    {
      "cell_type": "code",
      "source": [
        "# 대문자를 소문자로 바꾸기 - lower\n",
        "\n",
        "a = \"HI\"\n",
        "a.lower()"
      ],
      "metadata": {
        "colab": {
          "base_uri": "https://localhost:8080/",
          "height": 35
        },
        "id": "0Z4dCXZeKRuX",
        "outputId": "0bb4d80c-e490-4c4b-f171-6c38c7bb894f"
      },
      "execution_count": 150,
      "outputs": [
        {
          "output_type": "execute_result",
          "data": {
            "text/plain": [
              "'hi'"
            ],
            "application/vnd.google.colaboratory.intrinsic+json": {
              "type": "string"
            }
          },
          "metadata": {},
          "execution_count": 150
        }
      ]
    },
    {
      "cell_type": "code",
      "source": [
        "# 오른쪽 공백 지우기 - rstrip\n",
        "\n",
        "a = \" hi \"\n",
        "a.rstrip()"
      ],
      "metadata": {
        "id": "MGOQKjT2KYnf",
        "colab": {
          "base_uri": "https://localhost:8080/",
          "height": 35
        },
        "outputId": "ad7116b6-efbd-40cd-ac11-2448b27bd3cc"
      },
      "execution_count": 151,
      "outputs": [
        {
          "output_type": "execute_result",
          "data": {
            "text/plain": [
              "' hi'"
            ],
            "application/vnd.google.colaboratory.intrinsic+json": {
              "type": "string"
            }
          },
          "metadata": {},
          "execution_count": 151
        }
      ]
    },
    {
      "cell_type": "code",
      "source": [
        "# 양쪽 공백 지우기 - strip\n",
        "\n",
        "a = \" hi \"\n",
        "a.strip()"
      ],
      "metadata": {
        "id": "8QDgtNNyKdXO",
        "colab": {
          "base_uri": "https://localhost:8080/",
          "height": 35
        },
        "outputId": "35138fe0-ddda-4562-c5d6-3871f7ae5fe1"
      },
      "execution_count": 152,
      "outputs": [
        {
          "output_type": "execute_result",
          "data": {
            "text/plain": [
              "'hi'"
            ],
            "application/vnd.google.colaboratory.intrinsic+json": {
              "type": "string"
            }
          },
          "metadata": {},
          "execution_count": 152
        }
      ]
    },
    {
      "cell_type": "code",
      "source": [
        "# 문자열 바꾸기 - replace\n",
        "\n",
        "a = \"Life is too short\"\n",
        "a.replace(\"Life\", \"Your leg\")"
      ],
      "metadata": {
        "id": "p58v6ECOKha7",
        "colab": {
          "base_uri": "https://localhost:8080/",
          "height": 35
        },
        "outputId": "5bda9d59-c9d4-4223-8899-0b13d1b0c78a"
      },
      "execution_count": 153,
      "outputs": [
        {
          "output_type": "execute_result",
          "data": {
            "text/plain": [
              "'Your leg is too short'"
            ],
            "application/vnd.google.colaboratory.intrinsic+json": {
              "type": "string"
            }
          },
          "metadata": {},
          "execution_count": 153
        }
      ]
    },
    {
      "cell_type": "code",
      "source": [
        "# 문자열 나누기 - split\n",
        "\n",
        "a = \"Life is too short\"\n",
        "a.split()\n",
        "\n",
        "b = \"a:b:c:d\"\n",
        "b.split(':')\n"
      ],
      "metadata": {
        "colab": {
          "base_uri": "https://localhost:8080/"
        },
        "id": "gSfRBCNRKlMJ",
        "outputId": "a11a14e1-3852-464c-a6ea-9a2ec8e6ec44"
      },
      "execution_count": 154,
      "outputs": [
        {
          "output_type": "execute_result",
          "data": {
            "text/plain": [
              "['a', 'b', 'c', 'd']"
            ]
          },
          "metadata": {},
          "execution_count": 154
        }
      ]
    },
    {
      "cell_type": "code",
      "source": [
        "# 문자열이 알파벳으로만 구성되어 있는지 확인하기 - isalpha\n",
        "# Python3은 숫자 포함되어 있어서 false 반환\n",
        "# hello world는 공백문자가 포함되어있어서 false 반환\n",
        "\n",
        "s = \"Python\"\n",
        "s.isalpha()\n",
        "\n",
        "s = \"Python3\"\n",
        "s.isalpha()\n",
        "\n",
        "s = \"Hello World\"\n",
        "s.isalpha()"
      ],
      "metadata": {
        "colab": {
          "base_uri": "https://localhost:8080/"
        },
        "id": "GekZ0bhUKvUp",
        "outputId": "397139d4-295d-4d1c-c21e-d63c1665be9b"
      },
      "execution_count": 155,
      "outputs": [
        {
          "output_type": "execute_result",
          "data": {
            "text/plain": [
              "False"
            ]
          },
          "metadata": {},
          "execution_count": 155
        }
      ]
    },
    {
      "cell_type": "code",
      "source": [
        "# 문자열이 숫자로만 구성되어 있는지 확인하기 - isdigit\n",
        "# \"1234a\"는 알파벳 a 포함되어있어 false 반환\n",
        "# \"12 34\"는 숫자 사이에 공백이 있어 false 반환\n",
        "\n",
        "s = \"12345\"\n",
        "s.isdigit()\n",
        "\n",
        "s = \"1234a\"\n",
        "s.isdigit()\n",
        "\n",
        "s = \"12 34\"\n",
        "s.isdigit()"
      ],
      "metadata": {
        "id": "2D9SedUJK0N_",
        "colab": {
          "base_uri": "https://localhost:8080/"
        },
        "outputId": "66c90d59-97f5-4933-b0d5-79f890bbc1e1"
      },
      "execution_count": 156,
      "outputs": [
        {
          "output_type": "execute_result",
          "data": {
            "text/plain": [
              "False"
            ]
          },
          "metadata": {},
          "execution_count": 156
        }
      ]
    },
    {
      "cell_type": "code",
      "source": [
        "# 문자열이 특정 문자(열)로 시작하는지 확인하기 - startswith\n",
        "# 지정한 문자열을 시작하면 true / 그렇지 않으면 false\n",
        "\n",
        "s = \"Life is too short\"\n",
        "s.startswith(\"Life\")\n",
        "\n",
        "s.startswith(\"short\")"
      ],
      "metadata": {
        "id": "4bkwtZgHK3jr",
        "colab": {
          "base_uri": "https://localhost:8080/"
        },
        "outputId": "822fd689-14b6-496b-f99c-9463d362e4dc"
      },
      "execution_count": 157,
      "outputs": [
        {
          "output_type": "execute_result",
          "data": {
            "text/plain": [
              "False"
            ]
          },
          "metadata": {},
          "execution_count": 157
        }
      ]
    },
    {
      "cell_type": "markdown",
      "source": [],
      "metadata": {
        "id": "5GbYH2_cnIK-"
      }
    },
    {
      "cell_type": "code",
      "source": [
        "# 문자열이 특정 문자(열)로 끝나는지 확인하기 - endswith\n",
        "# 지정한 문자열을 시작하면 true / 그렇지 않으면 false\n",
        "\n",
        "s = \"Life is too short\"\n",
        "s.endswith(\"short\")\n",
        "\n",
        "s.endswith(\"too\")"
      ],
      "metadata": {
        "id": "uuplr-nyK66p",
        "colab": {
          "base_uri": "https://localhost:8080/"
        },
        "outputId": "9bbe623c-ffff-4f7a-9679-24627a0807e9"
      },
      "execution_count": 158,
      "outputs": [
        {
          "output_type": "execute_result",
          "data": {
            "text/plain": [
              "False"
            ]
          },
          "metadata": {},
          "execution_count": 158
        }
      ]
    },
    {
      "cell_type": "code",
      "source": [
        "# 착각하기 쉬운 문자열 함수\n",
        "# 문자열은 자체의 값을 변경할 수 없는 immutable 자료형이기 때문에\n",
        "# 값을 바꾸고 싶으면 대입문을 사용해야 한다\n",
        "# upper뿐만 아니라 lower, join, lstrip, rstrip, strip, replace, split 함수 모두 적용됨\n",
        "\n",
        "a = a.upper()\n",
        "a"
      ],
      "metadata": {
        "id": "6BT5h-l_MIQR",
        "colab": {
          "base_uri": "https://localhost:8080/",
          "height": 35
        },
        "outputId": "f4df25e7-ef02-4625-b177-d22d108c5021"
      },
      "execution_count": 159,
      "outputs": [
        {
          "output_type": "execute_result",
          "data": {
            "text/plain": [
              "'LIFE IS TOO SHORT'"
            ],
            "application/vnd.google.colaboratory.intrinsic+json": {
              "type": "string"
            }
          },
          "metadata": {},
          "execution_count": 159
        }
      ]
    },
    {
      "cell_type": "code",
      "source": [],
      "metadata": {
        "id": "OquHWxtaVgn_"
      },
      "execution_count": null,
      "outputs": []
    },
    {
      "cell_type": "code",
      "execution_count": null,
      "metadata": {
        "id": "bqiVvfkxqX4_"
      },
      "outputs": [],
      "source": [
        "# 리스트를 만들 때는 대괄호 []로 감싸주고 각 요솟값은 쉼표로 구훕낳ㄴ다\n",
        "# 비어있는 리스트는  a = list()로 생성할 수 있다\n",
        "\n",
        "a = []\n",
        "b = [1, 2, 3]\n",
        "c = ['Life', 'is', 'too', 'short']\n",
        "d = [1, 2, 'Life', 'is']\n",
        "e = [1, 2, ['Life', 'is']]"
      ]
    },
    {
      "cell_type": "code",
      "source": [
        "# 리스트 인덱싱\n",
        "# a[-1]은 리스트 a의 마지막 요솟값\n",
        "\n",
        "a = [1,2,3]\n",
        "\n",
        "a[0] + a[2]"
      ],
      "metadata": {
        "colab": {
          "base_uri": "https://localhost:8080/"
        },
        "id": "1HLhHNfNqtZS",
        "outputId": "f3f34d82-37ab-4f2f-9f32-0770573039a9"
      },
      "execution_count": null,
      "outputs": [
        {
          "output_type": "execute_result",
          "data": {
            "text/plain": [
              "4"
            ]
          },
          "metadata": {},
          "execution_count": 122
        }
      ]
    },
    {
      "cell_type": "code",
      "source": [
        "# 리스트 안에 리스트 포함\n",
        "\n",
        "a = [1, 2, 3, ['a', 'b', 'c']]\n",
        "\n",
        "a[-1]\n",
        "a[-1][0]"
      ],
      "metadata": {
        "colab": {
          "base_uri": "https://localhost:8080/",
          "height": 35
        },
        "id": "Gh7zfCXcqeEV",
        "outputId": "594ccc3f-2d87-4615-cd07-64b64d559dfb"
      },
      "execution_count": null,
      "outputs": [
        {
          "output_type": "execute_result",
          "data": {
            "text/plain": [
              "'a'"
            ],
            "application/vnd.google.colaboratory.intrinsic+json": {
              "type": "string"
            }
          },
          "metadata": {},
          "execution_count": 123
        }
      ]
    },
    {
      "cell_type": "code",
      "source": [
        "# 삼중 리스트 인덱싱\n",
        "# Life 문자열만 끄집어 내기\n",
        "\n",
        "a = [1, 2, ['a', 'b', ['Life', 'is']]]\n",
        "\n",
        "a[2][2][0]"
      ],
      "metadata": {
        "id": "Xbu6u0C_rHAu",
        "colab": {
          "base_uri": "https://localhost:8080/",
          "height": 35
        },
        "outputId": "e472fe83-da73-4b21-eae0-7a0db2155ce8"
      },
      "execution_count": null,
      "outputs": [
        {
          "output_type": "execute_result",
          "data": {
            "text/plain": [
              "'Life'"
            ],
            "application/vnd.google.colaboratory.intrinsic+json": {
              "type": "string"
            }
          },
          "metadata": {},
          "execution_count": 124
        }
      ]
    },
    {
      "cell_type": "code",
      "source": [
        "# 리스트 슬라이싱\n",
        "\n",
        "a = [1, 2, 3, 4, 5]\n",
        "\n",
        "a[0:2]"
      ],
      "metadata": {
        "colab": {
          "base_uri": "https://localhost:8080/"
        },
        "id": "GiQK700UrUhq",
        "outputId": "0dfbea4e-7d36-4c58-9098-c0a7eb4c3364"
      },
      "execution_count": null,
      "outputs": [
        {
          "output_type": "execute_result",
          "data": {
            "text/plain": [
              "[1, 2]"
            ]
          },
          "metadata": {},
          "execution_count": 125
        }
      ]
    },
    {
      "cell_type": "code",
      "source": [
        "# 중첩된 리스트에서 슬라이싱\n",
        "\n",
        "a = [1, 2, 3, ['a', 'b', 'c'], 4, 5]\n",
        "\n",
        "a[2:5]\n",
        "a[3][:2]"
      ],
      "metadata": {
        "colab": {
          "base_uri": "https://localhost:8080/"
        },
        "id": "S3ajx3oUre61",
        "outputId": "4ff43963-0f6d-4df7-fde0-040d1146dd7c"
      },
      "execution_count": null,
      "outputs": [
        {
          "output_type": "execute_result",
          "data": {
            "text/plain": [
              "['a', 'b']"
            ]
          },
          "metadata": {},
          "execution_count": 126
        }
      ]
    },
    {
      "cell_type": "code",
      "source": [
        "# 리스트 연산하기\n",
        "\n",
        "# 리스트 더하기\n",
        "\n",
        "a = [1,2,3]\n",
        "b = [4,5,6]\n",
        "\n",
        "a+b"
      ],
      "metadata": {
        "colab": {
          "base_uri": "https://localhost:8080/"
        },
        "id": "SN0M_WD-rp5r",
        "outputId": "6bd8997b-ab02-4882-bd85-68e6c51e2db0"
      },
      "execution_count": null,
      "outputs": [
        {
          "output_type": "execute_result",
          "data": {
            "text/plain": [
              "[1, 2, 3, 4, 5, 6]"
            ]
          },
          "metadata": {},
          "execution_count": 127
        }
      ]
    },
    {
      "cell_type": "code",
      "source": [
        "# 리스트 반복하기\n",
        "\n",
        "a = [1,2,3]\n",
        "a * 3"
      ],
      "metadata": {
        "id": "53uT5pAcr9W1",
        "colab": {
          "base_uri": "https://localhost:8080/"
        },
        "outputId": "617b82ab-b91c-485c-dc7b-4e6a3f6a941e"
      },
      "execution_count": null,
      "outputs": [
        {
          "output_type": "execute_result",
          "data": {
            "text/plain": [
              "[1, 2, 3, 1, 2, 3, 1, 2, 3]"
            ]
          },
          "metadata": {},
          "execution_count": 128
        }
      ]
    },
    {
      "cell_type": "code",
      "source": [
        "# 리스트 길이 구하기\n",
        "\n",
        "a = [1, 2, 3]\n",
        "len(a)"
      ],
      "metadata": {
        "id": "qNpeiJ-6sArY",
        "colab": {
          "base_uri": "https://localhost:8080/"
        },
        "outputId": "2191fb2f-f141-4f34-a7c0-9fbc60815aad"
      },
      "execution_count": null,
      "outputs": [
        {
          "output_type": "execute_result",
          "data": {
            "text/plain": [
              "3"
            ]
          },
          "metadata": {},
          "execution_count": 129
        }
      ]
    },
    {
      "cell_type": "code",
      "source": [
        "# 초보자가 범하기 쉬운 리스트 연산 오류\n",
        "# 정수와 문자열은 서로 더할 수 없다\n",
        "# 숫자와 문자열을 더해서 '3hi'를 만들고 싶다면 숫자를 문자 '3'으로 바꿔야 한다\n",
        "# str은 정수나 실수를 문자열로 바꿔주는 파이썬의 내장 함수\n",
        "\n",
        "a = [1,2,3]\n",
        "str(a[2]) + \"hi\"\n"
      ],
      "metadata": {
        "colab": {
          "base_uri": "https://localhost:8080/",
          "height": 35
        },
        "id": "OSjdbnWar6aO",
        "outputId": "06512045-badc-46b1-ba94-22231afa4b09"
      },
      "execution_count": null,
      "outputs": [
        {
          "output_type": "execute_result",
          "data": {
            "text/plain": [
              "'3hi'"
            ],
            "application/vnd.google.colaboratory.intrinsic+json": {
              "type": "string"
            }
          },
          "metadata": {},
          "execution_count": 130
        }
      ]
    },
    {
      "cell_type": "code",
      "source": [
        "# 리스트 값 수정\n",
        "\n",
        "a = [1, 2, 3]\n",
        "a[2] = 4\n",
        "a"
      ],
      "metadata": {
        "colab": {
          "base_uri": "https://localhost:8080/"
        },
        "id": "Iu-LZX0GsZUy",
        "outputId": "b162e99f-bb5f-47df-eada-2b80353b2ba3"
      },
      "execution_count": null,
      "outputs": [
        {
          "output_type": "execute_result",
          "data": {
            "text/plain": [
              "[1, 2, 4]"
            ]
          },
          "metadata": {},
          "execution_count": 131
        }
      ]
    },
    {
      "cell_type": "code",
      "source": [
        "# 리스트 요소 삭제하기 - del\n",
        "# del a[x]는 x번째 요솟값을 삭제한다\n",
        "# del 객체 (객체는 파이썬에서 사용되는 모든 자료형을 말함)\n",
        "\n",
        "a = [1, 2, 3]\n",
        "del a[1]\n",
        "a\n",
        "\n",
        "a = [1, 2, 3, 4, 5]\n",
        "del a [2:]\n",
        "a"
      ],
      "metadata": {
        "colab": {
          "base_uri": "https://localhost:8080/"
        },
        "id": "pShwnx2CshXu",
        "outputId": "e521d49f-ad83-44a0-c4b3-0fd2d4bd8b6c"
      },
      "execution_count": null,
      "outputs": [
        {
          "output_type": "execute_result",
          "data": {
            "text/plain": [
              "[1, 2]"
            ]
          },
          "metadata": {},
          "execution_count": 132
        }
      ]
    },
    {
      "cell_type": "code",
      "source": [
        "# 리스트에 요소 추가하기 - append\n",
        "# append의 사전적 의미 = 덧붙이다, 첨부하다\n",
        "# append(x) = 리스트의 맨 마지막에 x를 추가하는 함수\n",
        "# 리스트 안에는 어떤 자료형도 추가 가능함\n",
        "\n",
        "a = [1, 2, 3]\n",
        "a.append(4)\n",
        "a"
      ],
      "metadata": {
        "id": "BvzEPj5NyC5l",
        "colab": {
          "base_uri": "https://localhost:8080/"
        },
        "outputId": "807b3286-c276-4ae7-f7b7-572c754c8f99"
      },
      "execution_count": null,
      "outputs": [
        {
          "output_type": "execute_result",
          "data": {
            "text/plain": [
              "[1, 2, 3, 4]"
            ]
          },
          "metadata": {},
          "execution_count": 133
        }
      ]
    },
    {
      "cell_type": "code",
      "source": [
        "# 리스트에 다시 리스트 추가\n",
        "\n",
        "a.append([5, 6])\n",
        "a"
      ],
      "metadata": {
        "id": "emwVQWSwyU9O",
        "colab": {
          "base_uri": "https://localhost:8080/"
        },
        "outputId": "c0d096ad-a705-4417-e434-30fcba085dcb"
      },
      "execution_count": null,
      "outputs": [
        {
          "output_type": "execute_result",
          "data": {
            "text/plain": [
              "[1, 2, 3, 4, [5, 6]]"
            ]
          },
          "metadata": {},
          "execution_count": 134
        }
      ]
    },
    {
      "cell_type": "code",
      "source": [
        "# 리스트 정렬 - sort\n",
        "# sort 함수는 리스트의 요소를 순서대로 정렬해준다\n",
        "\n",
        "a = [1, 4, 3, 2]\n",
        "a.sort()\n",
        "a"
      ],
      "metadata": {
        "id": "rpLfpdTjyZDc",
        "colab": {
          "base_uri": "https://localhost:8080/"
        },
        "outputId": "3ef3fa08-734e-47d3-ac18-e0358d7ddee0"
      },
      "execution_count": null,
      "outputs": [
        {
          "output_type": "execute_result",
          "data": {
            "text/plain": [
              "[1, 2, 3, 4]"
            ]
          },
          "metadata": {},
          "execution_count": 135
        }
      ]
    },
    {
      "cell_type": "code",
      "source": [
        "# 문자도 알파벳 순서대로 정렬할 수 있다\n",
        "\n",
        "a = ['a', 'c', 'b']\n",
        "a.sort()\n",
        "a"
      ],
      "metadata": {
        "id": "LlgiGE7xyg50",
        "colab": {
          "base_uri": "https://localhost:8080/"
        },
        "outputId": "0021f5c3-4c0d-40b0-85b2-ea2193dfacfa"
      },
      "execution_count": null,
      "outputs": [
        {
          "output_type": "execute_result",
          "data": {
            "text/plain": [
              "['a', 'b', 'c']"
            ]
          },
          "metadata": {},
          "execution_count": 136
        }
      ]
    },
    {
      "cell_type": "code",
      "source": [
        "# 리스트 뒤집기 - reverse\n",
        "# 리스트를 역순으로 뒤집어 줌다\n",
        "# 현재의 리스트를 그대로 거꾸로 뒤집는다\n",
        "\n",
        "\n",
        "a = ['a', 'c', 'b']\n",
        "a.reverse()\n",
        "a"
      ],
      "metadata": {
        "id": "gC9asAAwynoa",
        "colab": {
          "base_uri": "https://localhost:8080/"
        },
        "outputId": "9c39d4d2-4b66-464c-9c7e-4aa3517ab381"
      },
      "execution_count": null,
      "outputs": [
        {
          "output_type": "execute_result",
          "data": {
            "text/plain": [
              "['b', 'c', 'a']"
            ]
          },
          "metadata": {},
          "execution_count": 137
        }
      ]
    },
    {
      "cell_type": "code",
      "source": [
        "# 인덱스 반환 - index\n",
        "# index(x) 함수는 리스트에 x 값이 있으면 x의 인덱스 값(위칫값)을 반환한다\n",
        "\n",
        "a = [1, 2, 3]\n",
        "a.index(3)\n",
        "a.index(1)"
      ],
      "metadata": {
        "colab": {
          "base_uri": "https://localhost:8080/"
        },
        "id": "Cf7RMI2Xyx9O",
        "outputId": "d3825044-3acb-4219-ee53-05ddbfb73563"
      },
      "execution_count": null,
      "outputs": [
        {
          "output_type": "execute_result",
          "data": {
            "text/plain": [
              "0"
            ]
          },
          "metadata": {},
          "execution_count": 138
        }
      ]
    },
    {
      "cell_type": "code",
      "source": [
        "# 리스트에 요소 삽입 - insert\n",
        "# insert(a, b)는 리스트의 a번째 위치에 b를 삽입하는 함수\n",
        "\n",
        "# 첫번째 요소인 a[0] 위치에 4를 삽입하라는 뜻\n",
        "\n",
        "a = [1, 2, 3]\n",
        "a.insert(0, 4)\n",
        "a"
      ],
      "metadata": {
        "id": "vi_RiA3ZzCMz",
        "colab": {
          "base_uri": "https://localhost:8080/"
        },
        "outputId": "7a50b7d1-3a61-4f96-c845-06dc1cbad238"
      },
      "execution_count": null,
      "outputs": [
        {
          "output_type": "execute_result",
          "data": {
            "text/plain": [
              "[4, 1, 2, 3]"
            ]
          },
          "metadata": {},
          "execution_count": 139
        }
      ]
    },
    {
      "cell_type": "code",
      "source": [
        "# 리스트 요소 제거 - remove\n",
        "\n",
        "# a가 3이라는 값을 2개 갖고 있을 경우, 첫번째 3만 제거된다\n",
        "a = [1, 2, 3, 1, 2, 3]\n",
        "a.remove(3)\n",
        "a"
      ],
      "metadata": {
        "id": "I3pcKijlzSdQ",
        "colab": {
          "base_uri": "https://localhost:8080/"
        },
        "outputId": "c92e418d-a927-4117-dbe6-1e6d64e5f3ac"
      },
      "execution_count": null,
      "outputs": [
        {
          "output_type": "execute_result",
          "data": {
            "text/plain": [
              "[1, 2, 1, 2, 3]"
            ]
          },
          "metadata": {},
          "execution_count": 140
        }
      ]
    },
    {
      "cell_type": "code",
      "source": [
        "# 리스트 요소 끄집어 내기 - pop\n",
        "# pop()은 리스트의 맨 마지막 요소를 반환하고 그 요소는 삭제한다\n",
        "\n",
        "a = [1, 2, 3]\n",
        "a.pop()\n",
        "a"
      ],
      "metadata": {
        "colab": {
          "base_uri": "https://localhost:8080/"
        },
        "id": "CBCKIHuQzcOB",
        "outputId": "71815c3a-d314-40fd-db50-70a5a5316f77"
      },
      "execution_count": null,
      "outputs": [
        {
          "output_type": "execute_result",
          "data": {
            "text/plain": [
              "[1, 2]"
            ]
          },
          "metadata": {},
          "execution_count": 141
        }
      ]
    },
    {
      "cell_type": "code",
      "source": [
        "# pop(x)는 리스트의 x번째 요소를 반환하고 그 요소는 삭제한다\n",
        "\n",
        "a = [1, 2, 3]\n",
        "a.pop(1)\n",
        "a"
      ],
      "metadata": {
        "id": "VIC6wsEJzlEo",
        "colab": {
          "base_uri": "https://localhost:8080/"
        },
        "outputId": "eb17b9e6-609c-453c-cf69-f2bf0d78000c"
      },
      "execution_count": null,
      "outputs": [
        {
          "output_type": "execute_result",
          "data": {
            "text/plain": [
              "[1, 3]"
            ]
          },
          "metadata": {},
          "execution_count": 142
        }
      ]
    },
    {
      "cell_type": "code",
      "source": [
        "# 리스트에 포함된 요소 x의 개수 세기 - count\n",
        "# count(x)는 리스트 안에 x가 몇 개 있는지 조사하여 그 개수를 반환하는 함수\n",
        "\n",
        "a = [1, 2, 3, 1]\n",
        "a.count(1)"
      ],
      "metadata": {
        "id": "yI9Uz2KMzq-E",
        "colab": {
          "base_uri": "https://localhost:8080/"
        },
        "outputId": "dc2dd0bd-7b37-4939-bb17-5ac4a8dc187c"
      },
      "execution_count": null,
      "outputs": [
        {
          "output_type": "execute_result",
          "data": {
            "text/plain": [
              "2"
            ]
          },
          "metadata": {},
          "execution_count": 143
        }
      ]
    },
    {
      "cell_type": "code",
      "source": [
        "# 리스트 확장 - extend\n",
        "# extend(x)에서 x에는 리스트만 올 수 있으며 원래의 a 리스트에 x 리스트를 더하게 된다\n",
        "\n",
        "# a.extend([4, 5])는 a += [4, 5]와 동일하다.\n",
        "a = [1, 2, 3]\n",
        "a.extend([4, 5])\n",
        "a\n",
        "\n",
        "b = [6, 7]\n",
        "a.extend(b)\n",
        "a"
      ],
      "metadata": {
        "colab": {
          "base_uri": "https://localhost:8080/"
        },
        "id": "aCN-izJ5zwLe",
        "outputId": "5ec073b0-6e31-4ddf-d7cb-8db218bd22de"
      },
      "execution_count": null,
      "outputs": [
        {
          "output_type": "execute_result",
          "data": {
            "text/plain": [
              "[1, 2, 3, 4, 5, 6, 7]"
            ]
          },
          "metadata": {},
          "execution_count": 144
        }
      ]
    },
    {
      "cell_type": "code",
      "source": [
        "# 듀플 자료형\n",
        "\n",
        "# 리스트와 차이점\n",
        "# 리스트는 [], 튜플은 ()\n",
        "# 리스트는 요솟값의 생성, 삭제, 수정이 가능/  튜플은 요솟값을 바꿀 수 없다\n",
        "# 수시로 그 값을 변화시켜야할 경우라면 리스트\n",
        "# 프로그램이 실행되는 동안 요솟값이 항상 변하지 않기를 바란다거나 값이 바뀔까 걱정하고 싶지 않다면 주저하지 말고 튜플\n",
        "# 튜플은 요솟값을 변경할수 없기 때문에 sort, insert, remove, pop과 같은 내장 함수가 없다\n",
        "\n",
        "t1 = ()\n",
        "t2 = (1,)\n",
        "t3 = (1, 2, 3)\n",
        "t4 = 1, 2, 3\n",
        "t5 = ('a', 'b', ('ab', 'cd'))\n",
        "\n",
        "# t2 = (1,)처럼 단지 1개의 요소만을 가질 때는 요소 뒤에 쉼표(,)를 반드시 붙여야 한다\n",
        "# t4 = 1, 2, 3처럼 소괄호(())를 생략해도 된다\n"
      ],
      "metadata": {
        "id": "Y7zCFYyXz9Us"
      },
      "execution_count": null,
      "outputs": []
    },
    {
      "cell_type": "code",
      "source": [
        "# 튜플 요솟값 삭제, 수정 불가\n",
        "\n",
        "# 튜플 인덱싱\n",
        "\n",
        "t1 = (1, 2, 'a', 'b')\n",
        "t1[0]"
      ],
      "metadata": {
        "id": "tUuctdiX0ZBt",
        "colab": {
          "base_uri": "https://localhost:8080/"
        },
        "outputId": "3390218e-e817-42a0-86ae-0b6020bc232e"
      },
      "execution_count": null,
      "outputs": [
        {
          "output_type": "execute_result",
          "data": {
            "text/plain": [
              "1"
            ]
          },
          "metadata": {},
          "execution_count": 146
        }
      ]
    },
    {
      "cell_type": "code",
      "source": [
        "# 튜플 슬라이싱\n",
        "\n",
        "t1 = (1, 2, 'a', 'b')\n",
        "t1[1:]"
      ],
      "metadata": {
        "id": "fkhIkWE-0l1a",
        "colab": {
          "base_uri": "https://localhost:8080/"
        },
        "outputId": "6b87cdbb-c030-4218-e7ee-138ac79d38a7"
      },
      "execution_count": null,
      "outputs": [
        {
          "output_type": "execute_result",
          "data": {
            "text/plain": [
              "(2, 'a', 'b')"
            ]
          },
          "metadata": {},
          "execution_count": 147
        }
      ]
    },
    {
      "cell_type": "code",
      "source": [
        "# 튜플 더하기\n",
        "\n",
        "t1 = (1, 2, 'a', 'b')\n",
        "t2 = (3, 4)\n",
        "t3 = t1 + t2\n",
        "t3"
      ],
      "metadata": {
        "id": "59Jfuobc0qiq",
        "colab": {
          "base_uri": "https://localhost:8080/"
        },
        "outputId": "2c6a4b2c-47e1-4bef-f0b4-c65a7a0c2a98"
      },
      "execution_count": null,
      "outputs": [
        {
          "output_type": "execute_result",
          "data": {
            "text/plain": [
              "(1, 2, 'a', 'b', 3, 4)"
            ]
          },
          "metadata": {},
          "execution_count": 148
        }
      ]
    },
    {
      "cell_type": "code",
      "source": [
        "# 튜플 곱하기\n",
        "\n",
        "t2 = (3, 4)\n",
        "t3 = t2 * 3\n",
        "t3"
      ],
      "metadata": {
        "id": "AO3DcPBo0vaU",
        "colab": {
          "base_uri": "https://localhost:8080/"
        },
        "outputId": "cfa6c08a-e240-4051-d543-c74f5c79ecd6"
      },
      "execution_count": null,
      "outputs": [
        {
          "output_type": "execute_result",
          "data": {
            "text/plain": [
              "(3, 4, 3, 4, 3, 4)"
            ]
          },
          "metadata": {},
          "execution_count": 149
        }
      ]
    },
    {
      "cell_type": "code",
      "source": [
        "# 튜플 길이 구하기\n",
        "\n",
        "t1 = (1, 2, 'a', 'b')\n",
        "len(t1)"
      ],
      "metadata": {
        "id": "3_Dzy36K0ykO",
        "colab": {
          "base_uri": "https://localhost:8080/"
        },
        "outputId": "3e3ddc8e-b71e-45f8-e58a-084fbe2c604b"
      },
      "execution_count": null,
      "outputs": [
        {
          "output_type": "execute_result",
          "data": {
            "text/plain": [
              "4"
            ]
          },
          "metadata": {},
          "execution_count": 150
        }
      ]
    },
    {
      "cell_type": "code",
      "source": [
        "# 딕셔너리 자료형 (java의 map과 같은 개념)\n",
        "\n",
        "#‘연관 배열(associative array)’또는 ‘해시(hash)’라고도 한다\n",
        "# Key와 Value를 한 쌍으로 가지는 자료형\n",
        "# key = \"baseball\"이라면 value = \"야구\"\n",
        "# 순차적으로(sequential) 해당 요솟값을 구하지 않고 Key를 통해 Value를 얻는다\n",
        "# 각각의 요소는 Key: Value 형태로 이루어져 있고 쉼표(,)로 구분되어 있다\n",
        "\n",
        "# 딕셔너리 쌍 추가하기\n",
        "\n",
        "a = {1: 'a'}\n",
        "a[2] = 'b'\n",
        "a\n",
        "\n",
        "a['name'] = 'pey'\n",
        "a\n",
        "\n",
        "a[3] = [1, 2, 3]\n",
        "a\n",
        "\n",
        "# 딕셔너리 요소 삭제하기\n",
        "\n",
        "del a[1]\n",
        "a\n",
        "\n"
      ],
      "metadata": {
        "colab": {
          "base_uri": "https://localhost:8080/"
        },
        "id": "NmxZJL1L06Eq",
        "outputId": "cf9c3fbd-a047-4d79-ca95-989c6aebeb76"
      },
      "execution_count": null,
      "outputs": [
        {
          "output_type": "execute_result",
          "data": {
            "text/plain": [
              "{2: 'b', 'name': 'pey', 3: [1, 2, 3]}"
            ]
          },
          "metadata": {},
          "execution_count": 151
        }
      ]
    },
    {
      "cell_type": "code",
      "source": [
        "# 딕셔너리에서 Key를 사용해 Value 얻기\n",
        "# 어떤 Key의 Value를 얻기 위해서는 '딕셔너리_변수_이름[Key]'를 사용해야 한다\n",
        "\n",
        "grade = {'pey': 10, 'julliet': 99}\n",
        "grade['pey']\n",
        "grade['julliet']"
      ],
      "metadata": {
        "colab": {
          "base_uri": "https://localhost:8080/"
        },
        "id": "CkH_mZDW2BQF",
        "outputId": "ccf11bcb-ad6b-4124-82c6-46bf8e42fb19"
      },
      "execution_count": null,
      "outputs": [
        {
          "output_type": "execute_result",
          "data": {
            "text/plain": [
              "99"
            ]
          },
          "metadata": {},
          "execution_count": 152
        }
      ]
    },
    {
      "cell_type": "code",
      "source": [
        "# a[1]이 의미하는 것은 리스트나 튜플의 a[1]과는 전혀 다르다\n",
        "# 딕셔너리 변수에서 [] 안의 숫자 1은 두 번째 요소를 나타내는 것이 아니라 Key에 해당하는 1을 나타낸다\n",
        "# a[1]은 딕셔너리 {1: 'a', 2: 'b'}에서 Key가 1인 것의 Value인 'a'를 반환한다\n",
        "\n",
        "a = {1:'a', 2:'b'}\n",
        "a[1]"
      ],
      "metadata": {
        "id": "TJ-HsgD02NEU",
        "colab": {
          "base_uri": "https://localhost:8080/",
          "height": 35
        },
        "outputId": "0fddeb71-de92-4c57-b7cc-e87e2a71fe7f"
      },
      "execution_count": null,
      "outputs": [
        {
          "output_type": "execute_result",
          "data": {
            "text/plain": [
              "'a'"
            ],
            "application/vnd.google.colaboratory.intrinsic+json": {
              "type": "string"
            }
          },
          "metadata": {},
          "execution_count": 153
        }
      ]
    },
    {
      "cell_type": "code",
      "source": [
        "# 딕셔너리 a는 a[Key]로 Key에 해당하는 Value를 얻는다\n",
        "\n",
        "a = {'a': 1, 'b': 2}\n",
        "a['a']\n",
        "a['b']\n",
        "\n",
        "dic = {'name':'pey', 'phone':'010-9999-1234', 'birth': '1118'}\n",
        "dic['name']\n",
        "dic['phone']\n",
        "dic['birth']"
      ],
      "metadata": {
        "colab": {
          "base_uri": "https://localhost:8080/",
          "height": 35
        },
        "id": "CrJzNQrP2cSc",
        "outputId": "a7259188-aea5-400b-e0b2-ee92591ad16e"
      },
      "execution_count": null,
      "outputs": [
        {
          "output_type": "execute_result",
          "data": {
            "text/plain": [
              "'1118'"
            ],
            "application/vnd.google.colaboratory.intrinsic+json": {
              "type": "string"
            }
          },
          "metadata": {},
          "execution_count": 154
        }
      ]
    },
    {
      "cell_type": "code",
      "source": [
        "# 딕셔너리 만들 때 주의할 사항\n",
        "# Key는 고유한 값이므로 중복되는 Key 값을 설정해 놓으면 하나를 제외한 나머지 것들이 모두 무시된다\n",
        "# Key에 리스트는 쓸 수 없다\n",
        "# Value에는 변하는 값이든, 변하지 않는 값이든 아무 값이나 넣을 수 있다\n",
        "\n",
        "\n",
        "a = {1:'a', 1:'b'}\n",
        "a"
      ],
      "metadata": {
        "colab": {
          "base_uri": "https://localhost:8080/"
        },
        "id": "AUFoS7ec2n_O",
        "outputId": "c1d1c05c-c5df-43ac-f4af-6b16fea7440c"
      },
      "execution_count": null,
      "outputs": [
        {
          "output_type": "execute_result",
          "data": {
            "text/plain": [
              "{1: 'b'}"
            ]
          },
          "metadata": {},
          "execution_count": 155
        }
      ]
    },
    {
      "cell_type": "code",
      "source": [
        "# 딕셔너리 관련 함수\n",
        "\n",
        "# Key 리스트 만들기 - keys\n",
        "\n",
        "# 반환값으로 리스트가 필요한 경우에는 list(a.keys())를 사용하면 된다\n",
        "# dict_keys, dict_values, dict_items 객체는 리스트로 변환하지 않더라도 기본적인 반복 구문(예: for 문)에서 사용할 수 있다\n",
        "\n",
        "\n",
        "a = {'name': 'pey', 'phone': '010-9999-1234', 'birth': '1118'}\n",
        "a.keys()"
      ],
      "metadata": {
        "colab": {
          "base_uri": "https://localhost:8080/"
        },
        "id": "YcrbgQzL29qi",
        "outputId": "2b1de26a-d169-4977-8dd8-0b40e48071e7"
      },
      "execution_count": null,
      "outputs": [
        {
          "output_type": "execute_result",
          "data": {
            "text/plain": [
              "dict_keys(['name', 'phone', 'birth'])"
            ]
          },
          "metadata": {},
          "execution_count": 156
        }
      ]
    },
    {
      "cell_type": "code",
      "source": [
        "# dict_keys 객체\n",
        "\n",
        "# 리스트를 사용하는 것과 별 차이는 없다\n",
        "# 리스트 고유의 append, insert, pop, remove, sort 함수는 수행할 수 없다\n",
        "\n",
        "for k in a.keys():\n",
        "  print(k)\n",
        "\n",
        "# dict_keys 객체를 리스트로 변환할 때\n",
        "\n",
        "list(a.keys())"
      ],
      "metadata": {
        "colab": {
          "base_uri": "https://localhost:8080/"
        },
        "id": "QrxeJD9C3WuK",
        "outputId": "9ddf0bbb-31fa-411f-e4eb-aa498e5eaf81"
      },
      "execution_count": null,
      "outputs": [
        {
          "output_type": "stream",
          "name": "stdout",
          "text": [
            "name\n",
            "phone\n",
            "birth\n"
          ]
        },
        {
          "output_type": "execute_result",
          "data": {
            "text/plain": [
              "['name', 'phone', 'birth']"
            ]
          },
          "metadata": {},
          "execution_count": 157
        }
      ]
    },
    {
      "cell_type": "code",
      "source": [
        "# Key, Value 쌍 얻기 - items\n",
        "\n",
        "a.items()"
      ],
      "metadata": {
        "colab": {
          "base_uri": "https://localhost:8080/"
        },
        "id": "CVjafQ4d4Cdx",
        "outputId": "f8d85fa4-85b4-4e47-b05f-5591e6871636"
      },
      "execution_count": null,
      "outputs": [
        {
          "output_type": "execute_result",
          "data": {
            "text/plain": [
              "dict_items([('name', 'pey'), ('phone', '010-9999-1234'), ('birth', '1118')])"
            ]
          },
          "metadata": {},
          "execution_count": 158
        }
      ]
    },
    {
      "cell_type": "code",
      "source": [
        "# Key: Value 쌍 모두 지우기 - clear\n",
        "# clear 함수는 딕셔너리 안의 모든 요소를 삭제한다\n",
        "# 빈 리스트 [], 빈 튜플을 ()로 표현하는 것과 마찬가지로 빈 딕셔너리도 {}로 표현한다\n",
        "\n",
        "a.clear()\n",
        "a"
      ],
      "metadata": {
        "colab": {
          "base_uri": "https://localhost:8080/"
        },
        "id": "hlLgKl5N4JJw",
        "outputId": "3267f635-e0ef-4faa-8ba1-418ee2fd840a"
      },
      "execution_count": null,
      "outputs": [
        {
          "output_type": "execute_result",
          "data": {
            "text/plain": [
              "{}"
            ]
          },
          "metadata": {},
          "execution_count": 159
        }
      ]
    },
    {
      "cell_type": "code",
      "source": [
        "# Key로 Value 얻기 - get\n",
        "\n",
        "a = {'name': 'pey', 'phone': '010-9999-1234', 'birth': '1118'}\n",
        "a.get('name')\n",
        "a.get('phone')"
      ],
      "metadata": {
        "id": "PN7i8io44aqJ",
        "colab": {
          "base_uri": "https://localhost:8080/",
          "height": 35
        },
        "outputId": "767a5216-e355-4083-d04b-f293439056ba"
      },
      "execution_count": null,
      "outputs": [
        {
          "output_type": "execute_result",
          "data": {
            "text/plain": [
              "'010-9999-1234'"
            ],
            "application/vnd.google.colaboratory.intrinsic+json": {
              "type": "string"
            }
          },
          "metadata": {},
          "execution_count": 160
        }
      ]
    },
    {
      "cell_type": "code",
      "source": [
        "# None은 '거짓'이라는 뜻\n",
        "\n",
        "a = {'name':'pey', 'phone':'010-9999-1234', 'birth': '1118'}\n",
        "a.get('nokey')\n",
        "\n",
        "# 딕셔너리 안에 찾으려는 Key가 없을 경우, 미리 정해 둔 디폴트 값을 대신 가져오게 하고 싶을 때는 get(x, '디폴트 값')을 사용\n",
        "\n",
        "a.get('nokey', '정보없음')"
      ],
      "metadata": {
        "colab": {
          "base_uri": "https://localhost:8080/",
          "height": 35
        },
        "id": "pDEHGgoJ4f3A",
        "outputId": "0ecdf10e-217e-4c52-cac6-0c8446c836e9"
      },
      "execution_count": null,
      "outputs": [
        {
          "output_type": "execute_result",
          "data": {
            "text/plain": [
              "'정보없음'"
            ],
            "application/vnd.google.colaboratory.intrinsic+json": {
              "type": "string"
            }
          },
          "metadata": {},
          "execution_count": 161
        }
      ]
    },
    {
      "cell_type": "code",
      "source": [
        "# 해당 Key가 딕셔너리 안에 있는지 조사하기 - in\n",
        "\n",
        "a = {'name':'pey', 'phone':'010-9999-1234', 'birth': '1118'}\n",
        "'name' in a\n",
        "'email' in a"
      ],
      "metadata": {
        "colab": {
          "base_uri": "https://localhost:8080/"
        },
        "id": "Od63dfEz4wnw",
        "outputId": "f3d8145f-c02c-4e39-b0bb-ce9647a5dadc"
      },
      "execution_count": null,
      "outputs": [
        {
          "output_type": "execute_result",
          "data": {
            "text/plain": [
              "False"
            ]
          },
          "metadata": {},
          "execution_count": 162
        }
      ]
    },
    {
      "cell_type": "code",
      "source": [
        "# Key로 Value 얻기 - pop\n",
        "# pop(x) 함수는 딕셔너리에서 Key가 x인 항목을 삭제한 후 그 Value를 반환\n",
        "# get 함수와 달리 pop은 해당 항목을 딕셔너리에서 삭제한다는 차이가 있다\n",
        "# 존재하지 않는 Key에 대해서는 디폴트 값을 지정할 수 있다.\n",
        "\n",
        "a = {'name':'pey', 'phone':'010-9999-1234', 'birth': '1118'}\n",
        "phone = a.pop('phone')\n",
        "phone\n",
        "a\n",
        "\n",
        "email = a.pop('email', '정보없음')\n",
        "email\n"
      ],
      "metadata": {
        "colab": {
          "base_uri": "https://localhost:8080/",
          "height": 35
        },
        "id": "EhAOSjek42hk",
        "outputId": "3080874f-caa0-4e40-e582-37106ec49c28"
      },
      "execution_count": null,
      "outputs": [
        {
          "output_type": "execute_result",
          "data": {
            "text/plain": [
              "'정보없음'"
            ],
            "application/vnd.google.colaboratory.intrinsic+json": {
              "type": "string"
            }
          },
          "metadata": {},
          "execution_count": 163
        }
      ]
    },
    {
      "cell_type": "code",
      "source": [
        "# 집합 자료형\n",
        "\n",
        "# set 키워드를 사용\n",
        "# set()의 괄호 안에 리스트를 입력\n",
        "\n",
        "s1 = set([1, 2, 3])\n",
        "s1\n",
        "\n",
        "# set()의 괄호 안에 문자열을 입력\n",
        "s2 = set(\"Hello\")\n",
        "s2\n",
        "\n",
        "# set()의 괄호 안에 중괄호({})를 사용\n",
        "s3 = {1, 2, 3}\n",
        "s3\n",
        "\n",
        "s4 = {'a', 'b', 'c'}\n",
        "s4\n",
        "\n",
        "# 비어 있는 집합 자료형은 s = set()\n",
        "# s = {}로 만들면 딕셔너리가 된다"
      ],
      "metadata": {
        "id": "ahYxrIz85GBk",
        "colab": {
          "base_uri": "https://localhost:8080/"
        },
        "outputId": "dde67fac-7845-4184-c58d-69dbc2264cf1"
      },
      "execution_count": null,
      "outputs": [
        {
          "output_type": "execute_result",
          "data": {
            "text/plain": [
              "{'a', 'b', 'c'}"
            ]
          },
          "metadata": {},
          "execution_count": 164
        }
      ]
    },
    {
      "cell_type": "code",
      "source": [
        "# 집합 자료형의 특징\n",
        "\n",
        "# 중복을 허용하지 않는다\n",
        "# 순서가 없다(Unordered)\n",
        "\n",
        "# 집합은 중복을 허용하지 않는 특징 때문에 데이터의 중복을 제거하기 위한 필터로 종종 사용\n",
        "\n",
        "# 집합 자료형은 순서가 없기(unordered) 때문에 인덱싱을 통해 요솟값을 얻을 수 없다\n",
        "#집합 자료형에 저장된 값을 인덱싱으로 접근하려면 다음과 같이 리스트나 튜플로 변환한 후에 해야 한다\n",
        "\n",
        "s1 = set([1, 2, 3])\n",
        "l1 = list(s1)\n",
        "l1\n",
        "l1[0]\n",
        "\n",
        "t1 = tuple(s1)\n",
        "t1\n",
        "t1[0]"
      ],
      "metadata": {
        "colab": {
          "base_uri": "https://localhost:8080/"
        },
        "id": "y8dQ_irq5oVC",
        "outputId": "535a911f-b6c9-4ad4-d672-9bf7802c14f8"
      },
      "execution_count": null,
      "outputs": [
        {
          "output_type": "execute_result",
          "data": {
            "text/plain": [
              "1"
            ]
          },
          "metadata": {},
          "execution_count": 165
        }
      ]
    },
    {
      "cell_type": "code",
      "source": [
        "# 교집합 구하기 - &, intersection 함수\n",
        "\n",
        "s1 = set([1, 2, 3, 4, 5, 6])\n",
        "s2 = set([4, 5, 6, 7, 8, 9])\n",
        "\n",
        "s1 & s2\n",
        "\n",
        "# intersection 함수\n",
        "s1.intersection(s2)"
      ],
      "metadata": {
        "colab": {
          "base_uri": "https://localhost:8080/"
        },
        "id": "qfFsAWPs5_OX",
        "outputId": "73a9bd14-6186-4cc1-ad0b-c55d583b545c"
      },
      "execution_count": null,
      "outputs": [
        {
          "output_type": "execute_result",
          "data": {
            "text/plain": [
              "{4, 5, 6}"
            ]
          },
          "metadata": {},
          "execution_count": 166
        }
      ]
    },
    {
      "cell_type": "code",
      "source": [
        "# 합집합 구하기 - |, union 함수\n",
        "\n",
        "s1 = set([1, 2, 3, 4, 5, 6])\n",
        "s2 = set([4, 5, 6, 7, 8, 9])\n",
        "\n",
        "s1 | s2\n",
        "\n",
        "# union 함수\n",
        "s1.union(s2)"
      ],
      "metadata": {
        "id": "q0aZzCS_6KWS",
        "colab": {
          "base_uri": "https://localhost:8080/"
        },
        "outputId": "2f1dc431-c8cb-4468-c277-9289bc3c689c"
      },
      "execution_count": null,
      "outputs": [
        {
          "output_type": "execute_result",
          "data": {
            "text/plain": [
              "{1, 2, 3, 4, 5, 6, 7, 8, 9}"
            ]
          },
          "metadata": {},
          "execution_count": 167
        }
      ]
    },
    {
      "cell_type": "code",
      "source": [
        "# 차집합 구하기 - -(빼기), difference 함수\n",
        "\n",
        "s1 = set([1, 2, 3, 4, 5, 6])\n",
        "s2 = set([4, 5, 6, 7, 8, 9])\n",
        "\n",
        "s1 - s2\n",
        "s2 - s1\n",
        "\n",
        "# difference 함수\n",
        "s1.difference(s2)\n",
        "s2.difference(s1)"
      ],
      "metadata": {
        "id": "8Ixt559P6f1C",
        "colab": {
          "base_uri": "https://localhost:8080/"
        },
        "outputId": "1219df25-8cf5-4543-e6de-0c085839ff56"
      },
      "execution_count": null,
      "outputs": [
        {
          "output_type": "execute_result",
          "data": {
            "text/plain": [
              "{7, 8, 9}"
            ]
          },
          "metadata": {},
          "execution_count": 168
        }
      ]
    },
    {
      "cell_type": "code",
      "source": [
        "# 집합 자료형 관련 함수\n",
        "# 값 1개 추가하기 - add\n",
        "\n",
        "s1 = set([1, 2, 3])\n",
        "s1.add(4)\n",
        "s1"
      ],
      "metadata": {
        "colab": {
          "base_uri": "https://localhost:8080/"
        },
        "id": "k7vSuwEQ9At3",
        "outputId": "db792786-d85a-4c88-e7e1-a287d0d599ce"
      },
      "execution_count": null,
      "outputs": [
        {
          "output_type": "execute_result",
          "data": {
            "text/plain": [
              "{1, 2, 3, 4}"
            ]
          },
          "metadata": {},
          "execution_count": 169
        }
      ]
    },
    {
      "cell_type": "code",
      "source": [
        "# 값 여러 개 추가하기 - update\n",
        "\n",
        "s1 = set([1, 2, 3])\n",
        "s1.update([4, 5, 6])\n",
        "s1"
      ],
      "metadata": {
        "id": "psVR3Suk9H2y",
        "colab": {
          "base_uri": "https://localhost:8080/"
        },
        "outputId": "6c54ed06-655d-4049-cba6-a83a3fd359f7"
      },
      "execution_count": null,
      "outputs": [
        {
          "output_type": "execute_result",
          "data": {
            "text/plain": [
              "{1, 2, 3, 4, 5, 6}"
            ]
          },
          "metadata": {},
          "execution_count": 170
        }
      ]
    },
    {
      "cell_type": "code",
      "source": [
        "# 특정 값 제거하기 - remove\n",
        "\n",
        "s1 = set([1, 2, 3])\n",
        "s1.remove(2)\n",
        "s1"
      ],
      "metadata": {
        "id": "mXFeno4l9LsE",
        "colab": {
          "base_uri": "https://localhost:8080/"
        },
        "outputId": "3b1e4ba4-659e-44b7-9106-869df0a2b50c"
      },
      "execution_count": null,
      "outputs": [
        {
          "output_type": "execute_result",
          "data": {
            "text/plain": [
              "{1, 3}"
            ]
          },
          "metadata": {},
          "execution_count": 171
        }
      ]
    },
    {
      "cell_type": "code",
      "source": [
        "# 특정 값 제거하기 - discard\n",
        "# remove와 비슷하지만 존재하지 않는 값을 제거하려 할 때 오류가 발생하지 않는다\n",
        "\n",
        "s1 = set([1, 2, 3])\n",
        "s1.discard(2)\n",
        "s1\n",
        "s1.discard(4)  # 없는 값이어도 오류가 발생하지 않음\n",
        "s1"
      ],
      "metadata": {
        "id": "DDHyzGCf9O-K",
        "colab": {
          "base_uri": "https://localhost:8080/"
        },
        "outputId": "fb762e53-6d3d-441b-d222-f248ab54a017"
      },
      "execution_count": null,
      "outputs": [
        {
          "output_type": "execute_result",
          "data": {
            "text/plain": [
              "{1, 3}"
            ]
          },
          "metadata": {},
          "execution_count": 172
        }
      ]
    },
    {
      "cell_type": "code",
      "source": [
        "# 모든 값 제거하기 - clear\n",
        "\n",
        "s1 = set([1, 2, 3])\n",
        "s1.clear()\n",
        "s1"
      ],
      "metadata": {
        "id": "oRk5Bcyt9XjK",
        "colab": {
          "base_uri": "https://localhost:8080/"
        },
        "outputId": "a9943612-e531-47b9-c068-bb99a921f515"
      },
      "execution_count": null,
      "outputs": [
        {
          "output_type": "execute_result",
          "data": {
            "text/plain": [
              "set()"
            ]
          },
          "metadata": {},
          "execution_count": 173
        }
      ]
    },
    {
      "cell_type": "code",
      "source": [
        "# 불 자료형\n",
        "# 불(bool) 자료형이란 참(True)과 거짓(False)을 나타내는 자료형\n",
        "# True: 참 / False: 거짓\n",
        "# True나 False는 파이썬의 예약어\n",
        "# true, false와 같이 작성하면 안 되고 첫 문자를 항상 대문자로 작성\n",
        "\n",
        "a = True\n",
        "b = False\n",
        "\n",
        "# type(x)는 x의 자료형을 확인하는 파이썬의 내장 함수\n",
        "\n",
        "type(a)\n",
        "type(b)"
      ],
      "metadata": {
        "colab": {
          "base_uri": "https://localhost:8080/"
        },
        "id": "XOE75HzY9beY",
        "outputId": "68723543-9662-4ee5-ff2c-6532e3d038bc"
      },
      "execution_count": null,
      "outputs": [
        {
          "output_type": "execute_result",
          "data": {
            "text/plain": [
              "bool"
            ]
          },
          "metadata": {},
          "execution_count": 174
        }
      ]
    },
    {
      "cell_type": "code",
      "source": [
        "# 불 자료형은 조건문의 리턴값으로도 사용된다\n",
        "\n",
        "1 == 1\n",
        "2 > 1\n",
        "2 < 1"
      ],
      "metadata": {
        "id": "mVlZ-6QX91WZ",
        "colab": {
          "base_uri": "https://localhost:8080/"
        },
        "outputId": "04d485f1-6e04-4784-bb36-85ba8cb8a5da"
      },
      "execution_count": null,
      "outputs": [
        {
          "output_type": "execute_result",
          "data": {
            "text/plain": [
              "False"
            ]
          },
          "metadata": {},
          "execution_count": 175
        }
      ]
    },
    {
      "cell_type": "code",
      "source": [
        "# 자료형의 참과 거짓\n",
        "\n",
        "\n",
        "# 값\t참 or 거짓\n",
        "# \"python\"\t참\n",
        "# \"\"\t거짓\n",
        "# [1, 2, 3]\t참\n",
        "# []\t거짓\n",
        "# (1, 2, 3)\t참\n",
        "# ()\t거짓\n",
        "# {'a': 1}\t참\n",
        "# {}\t거짓\n",
        "# 1\t참\n",
        "# 0\t거짓\n",
        "# None\t거짓\n",
        "\n",
        "# 문자열, 리스트, 튜플, 딕셔너리 등의 값이 비어 있으면(\"\", [], (), {}) 거짓\n",
        "# 숫자에서는 그 값이 0일 때 거짓\n",
        "\n",
        "a = [1, 2, 3, 4]\n",
        "while a:\n",
        "     print(a.pop())\n",
        "\n",
        "# while 조건문:\n",
        "#    수행할_문장\n",
        "# a가 참인 경우, a.pop()를 계속 실행하여 출력하라\n",
        "# a.pop() 함수는 리스트 a의 마지막 요소를 끄집어 내는 함수이므로 리스트 안에 요소가 존재하는 한(a가 참인 동안) 마지막 요소를 계속 끄집어 낼 것이다\n",
        "# 더 이상 끄집어 낼 것이 없으면 a가 빈 리스트([])가 되어 거짓\n",
        "# while 문에서 조건문이 거짓이 되므로 while 문을 빠져나가게 된다"
      ],
      "metadata": {
        "colab": {
          "base_uri": "https://localhost:8080/"
        },
        "id": "m28UnHW097xC",
        "outputId": "ab42092a-89ca-4a72-dc61-f6fb9ca4566d"
      },
      "execution_count": null,
      "outputs": [
        {
          "output_type": "stream",
          "name": "stdout",
          "text": [
            "4\n",
            "3\n",
            "2\n",
            "1\n"
          ]
        }
      ]
    },
    {
      "cell_type": "code",
      "source": [
        "# if문\n",
        "\n",
        "if []:\n",
        "     print(\"참\")\n",
        "else:\n",
        "     print(\"거짓\")\n",
        "\n",
        "if [1, 2, 3]:\n",
        "     print(\"참\")\n",
        "else:\n",
        "     print(\"거짓\")\n",
        "# 만약 [1, 2, 3]이 참이면 \"참\"이라는 문자열을 출력하고, 그렇지 않으면 \"거짓\"이라는 문자열을 출력하라\n"
      ],
      "metadata": {
        "colab": {
          "base_uri": "https://localhost:8080/"
        },
        "id": "ftRwkfkS-f7X",
        "outputId": "1185eca6-46bd-44de-9672-2ad0fc155bc9"
      },
      "execution_count": null,
      "outputs": [
        {
          "output_type": "stream",
          "name": "stdout",
          "text": [
            "거짓\n",
            "참\n"
          ]
        }
      ]
    },
    {
      "cell_type": "code",
      "source": [
        "# 불 연산\n",
        "\n",
        "# 'python' 문자열은 비어 있지 않으므로 bool 연산의 결과로 불 자료형인 True를 반환한다\n",
        "bool('python')\n",
        "\n",
        "# '' 문자열은 비어 있으므로 bool 연산의 결과로 불 자료형인 False를 반환한다\n",
        "bool('')\n",
        "\n",
        "\n",
        "bool([1, 2, 3])\n",
        "\n",
        "bool([])\n",
        "\n",
        "bool(0)\n",
        "\n",
        "bool(3)"
      ],
      "metadata": {
        "colab": {
          "base_uri": "https://localhost:8080/"
        },
        "id": "nu3qzbSW-w2q",
        "outputId": "e18c0f9f-a51e-41e6-db26-fadc90ef75e4"
      },
      "execution_count": null,
      "outputs": [
        {
          "output_type": "execute_result",
          "data": {
            "text/plain": [
              "True"
            ]
          },
          "metadata": {},
          "execution_count": 178
        }
      ]
    },
    {
      "cell_type": "code",
      "source": [
        "# 논리 연산자\n",
        "\n",
        "# 불 자료형에서는 and, or, not과 같은 논리 연산자를 사용할 수 있다\n",
        "\n",
        "# and 연산자\n",
        "\n",
        "# and 연산자는 양쪽 조건이 모두 참일 때만 True를 반환한다\n",
        "\n",
        "True and True\n",
        "\n",
        "True and False\n",
        "\n",
        "False and True\n",
        "\n",
        "False and False\n"
      ],
      "metadata": {
        "id": "wIW7RoqP_BWQ",
        "colab": {
          "base_uri": "https://localhost:8080/"
        },
        "outputId": "663f508c-e94b-4b5c-9cfc-ee9c65f6036e"
      },
      "execution_count": null,
      "outputs": [
        {
          "output_type": "execute_result",
          "data": {
            "text/plain": [
              "False"
            ]
          },
          "metadata": {},
          "execution_count": 179
        }
      ]
    },
    {
      "cell_type": "code",
      "source": [
        "# or 연산자\n",
        "\n",
        "# or 연산자는 양쪽 조건 중 하나라도 참이면 True를 반환한다\n",
        "\n",
        "True or True\n",
        "\n",
        "True or False\n",
        "\n",
        "False or True\n",
        "\n",
        "False or False\n"
      ],
      "metadata": {
        "id": "4Ds18rM0_NYk",
        "colab": {
          "base_uri": "https://localhost:8080/"
        },
        "outputId": "b878e9cc-3269-4d1d-ab93-b3b71a634db6"
      },
      "execution_count": null,
      "outputs": [
        {
          "output_type": "execute_result",
          "data": {
            "text/plain": [
              "False"
            ]
          },
          "metadata": {},
          "execution_count": 180
        }
      ]
    },
    {
      "cell_type": "code",
      "source": [
        "# not 연산자\n",
        "\n",
        "# not 연산자는 조건의 참/거짓을 뒤바꾼다\n",
        "\n",
        "not True\n",
        "\n",
        "not False\n",
        "\n",
        "not 1\n",
        "\n",
        "not 0"
      ],
      "metadata": {
        "id": "e94ihCx4_V7S",
        "colab": {
          "base_uri": "https://localhost:8080/"
        },
        "outputId": "d2590ae4-0573-4bc2-d34e-9e0c51199185"
      },
      "execution_count": null,
      "outputs": [
        {
          "output_type": "execute_result",
          "data": {
            "text/plain": [
              "True"
            ]
          },
          "metadata": {},
          "execution_count": 181
        }
      ]
    },
    {
      "cell_type": "code",
      "source": [
        "# 실제 활용 예제\n",
        "\n",
        "x = 5\n",
        "y = 10\n",
        "x > 0 and y > 0\n",
        "\n",
        "x > 10 or y > 5\n",
        "\n",
        "not (x > y)"
      ],
      "metadata": {
        "id": "aLvuW1Mx_czW",
        "colab": {
          "base_uri": "https://localhost:8080/"
        },
        "outputId": "100fc77e-31ed-4149-8b11-f04bffae1ad3"
      },
      "execution_count": null,
      "outputs": [
        {
          "output_type": "execute_result",
          "data": {
            "text/plain": [
              "True"
            ]
          },
          "metadata": {},
          "execution_count": 182
        }
      ]
    },
    {
      "cell_type": "code",
      "source": [],
      "metadata": {
        "id": "9uHiBSqdVkTG"
      },
      "execution_count": null,
      "outputs": []
    },
    {
      "cell_type": "code",
      "execution_count": null,
      "metadata": {
        "id": "VhMX22DPHthK"
      },
      "outputs": [],
      "source": [
        "# 변수\n",
        "\n",
        "a = 1\n",
        "b = \"python\"\n",
        "c = [1, 2, 3]\n",
        "\n",
        "# 변수_이름 = 변수에_저장할_값\n",
        "\n",
        "# 변수명 규칙\n",
        "# 1. 영문자, 숫자, 언더스코어(_)만 사용\n",
        "# 2. 숫자로 시작할 수 없다\n",
        "# 3. 예약어는 사용할 수 없다\n",
        "# 4. 대소문자를 구분한다\n",
        "\n",
        "# 올바른 변수명 예시\n",
        "\n",
        "user_name = \"gildong\"\n",
        "userName = \"gildong\"  # 카멜 케이스\n",
        "_private = \"비공개\"\n",
        "count1 = 10\n",
        "\n",
        "# 잘못된 변수명 예시\n",
        "# 1name = \"홍길동\"    # 숫자로 시작 (오류)\n",
        "# user-name = \"홍길동\"  # 하이픈 사용 (오류)\n",
        "# if = 10             # 예약어 사용 (오류)"
      ]
    },
    {
      "cell_type": "code",
      "source": [
        "# 파이썬 예약어\n",
        "# 변수명으로 사용할 수 없다\n",
        "\n",
        "# False\n",
        "# None\n",
        "# True\n",
        "# and\n",
        "# as\n",
        "# assert\n",
        "# break\n",
        "# class\n",
        "# continue\n",
        "# def\n",
        "# del\n",
        "# elif\n",
        "# else\n",
        "# except\n",
        "# finally\n",
        "# for\n",
        "# from\n",
        "# global\n",
        "# if\n",
        "# import\n",
        "# in\n",
        "# is\n",
        "# lambda\n",
        "# nonlocal\n",
        "# not\n",
        "# or\n",
        "# pass\n",
        "# raise\n",
        "# return\n",
        "# try\n",
        "# while\n",
        "# with\n",
        "# yield\n",
        "\n",
        "# 의미가 명확한 이름을 사용한다\n",
        "# snake_case (단어 사이에 언더스코어)를 권장한다\n",
        "# 너무 짧거나 긴 이름은 피한다\n",
        "\n",
        "# 좋은 예\n",
        "student_name = \"김철수\"\n",
        "total_score = 95\n",
        "user_age = 20\n",
        "\n",
        "# 피해야 할 예\n",
        "a = \"김철수\"  # 의미 불명확\n",
        "studentNameFromKorea = \"김철수\"  # 너무 긴 이름"
      ],
      "metadata": {
        "id": "PaLUD4WNIKc7"
      },
      "execution_count": null,
      "outputs": []
    },
    {
      "cell_type": "code",
      "source": [
        "# 변수\n",
        "# 파이썬에서 사용하는 변수는 객체를 가리키는 것\n",
        "\n",
        "# 객체\n",
        "# 자료형의 데이터(값)와 같은 것을 의미하는 말\n",
        "\n",
        "a = [1, 2, 3]\n",
        "# [1, 2, 3] 값을 가지는 리스트 데이터(객체)가 자동으로 메모리에 생성\n",
        "# 변수 a는 [1, 2, 3] 리스트가 저장된 메모리의 주소를 가리키게 된다\n",
        "# 메모리 = 컴퓨터가 프로그램에서 사용하는 데이터를 기억하는 공간\n",
        "\n",
        "a = [1, 2, 3]\n",
        "id(a)\n",
        "# id는 변수가 가리키고 있는 객체의 주소 값을 반환하는 파이썬의 내장 함수\n",
        "\n"
      ],
      "metadata": {
        "colab": {
          "base_uri": "https://localhost:8080/"
        },
        "id": "fBk-7TAnL1mF",
        "outputId": "4ff7685a-1470-4d51-a62e-ae186528fb6f"
      },
      "execution_count": null,
      "outputs": [
        {
          "output_type": "execute_result",
          "data": {
            "text/plain": [
              "134355872305344"
            ]
          },
          "metadata": {},
          "execution_count": 3
        }
      ]
    },
    {
      "cell_type": "code",
      "source": [
        "# 리스트를 복사하고자 할 때\n",
        "\n",
        "a = [1, 2, 3]\n",
        "b = a\n",
        "\n",
        "a is b\n",
        "\n",
        "a[1] = 4\n",
        "a\n",
        "b\n",
        "\n"
      ],
      "metadata": {
        "colab": {
          "base_uri": "https://localhost:8080/"
        },
        "id": "EoigdjFBMQzl",
        "outputId": "3d860707-3c84-4128-b2a6-2e30e7008f8f"
      },
      "execution_count": null,
      "outputs": [
        {
          "output_type": "execute_result",
          "data": {
            "text/plain": [
              "[1, 4, 3]"
            ]
          },
          "metadata": {},
          "execution_count": 4
        }
      ]
    },
    {
      "cell_type": "code",
      "source": [
        "# [:] 이용하기\n",
        "\n",
        "a = [1, 2, 3]\n",
        "b = a[:]\n",
        "a[1] = 4\n",
        "a\n",
        "b"
      ],
      "metadata": {
        "colab": {
          "base_uri": "https://localhost:8080/"
        },
        "id": "_C64EXzYMkCh",
        "outputId": "74a9f81b-10c6-4b0c-f99d-d6f886e05b79"
      },
      "execution_count": null,
      "outputs": [
        {
          "output_type": "execute_result",
          "data": {
            "text/plain": [
              "[1, 2, 3]"
            ]
          },
          "metadata": {},
          "execution_count": 5
        }
      ]
    },
    {
      "cell_type": "code",
      "source": [
        "# copy 모듈 이용하기\n",
        "\n",
        "from copy import copy\n",
        "a = [1, 2, 3]\n",
        "b = copy(a)\n",
        "\n",
        "# b = copy(a)는 b = a[:]과 동일\n",
        "\n",
        "b is a\n",
        "# b와 a가 가리키는 객체는 서로 다르다\n",
        "\n",
        "# copy 함수 사용하기\n",
        "# 리스트 자료형의 자체 함수인 copy 함수를 사용해도 copy 모듈을 사용하는 것과 동일\n",
        "\n",
        "a = [1, 2, 3]\n",
        "b = a.copy()\n",
        "b is a"
      ],
      "metadata": {
        "colab": {
          "base_uri": "https://localhost:8080/"
        },
        "id": "rhw7kKNuMoPz",
        "outputId": "b3480cd3-9eee-4046-921e-248695093169"
      },
      "execution_count": null,
      "outputs": [
        {
          "output_type": "execute_result",
          "data": {
            "text/plain": [
              "False"
            ]
          },
          "metadata": {},
          "execution_count": 6
        }
      ]
    },
    {
      "cell_type": "code",
      "source": [
        "# 변수를 만드는 여러 가지 방법\n",
        "\n",
        "# 튜플로 a, b에 값을 대입\n",
        "# 튜플은 괄호 생략 가능\n",
        "a, b = ('python', 'life')\n",
        "\n",
        "# 다음 예문과 동일\n",
        "(a, b) = 'python', 'life'\n",
        "\n",
        "# 리스트로 변수\n",
        "[a, b] = ['python', 'life']\n",
        "\n",
        "# 여러 개의 변수에 같은 값을 대입 가능\n",
        "a = b = 'python'\n",
        "\n",
        "# 두 변수의 값을 매우 간단하게 바꿀 수 있다\n",
        "a = 3\n",
        "b = 5\n",
        "a, b = b, a\n",
        "a\n",
        "b\n",
        "\n",
        "# a에 값 3, b에는 값 5가 대입되어 있었지만 a, b = b, a 문장을 수행한 후에는 그 값이 서로 바뀌었다"
      ],
      "metadata": {
        "colab": {
          "base_uri": "https://localhost:8080/"
        },
        "id": "GZ-va1TfM8mV",
        "outputId": "07a55ef9-0493-45ca-c289-3262d6f6ae7f"
      },
      "execution_count": null,
      "outputs": [
        {
          "output_type": "execute_result",
          "data": {
            "text/plain": [
              "3"
            ]
          },
          "metadata": {},
          "execution_count": 7
        }
      ]
    }
  ]
}