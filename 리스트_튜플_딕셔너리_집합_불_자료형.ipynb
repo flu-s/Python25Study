{
  "nbformat": 4,
  "nbformat_minor": 0,
  "metadata": {
    "colab": {
      "provenance": [],
      "authorship_tag": "ABX9TyMwCrV/lI2Y9BF1ocazugrw",
      "include_colab_link": true
    },
    "kernelspec": {
      "name": "python3",
      "display_name": "Python 3"
    },
    "language_info": {
      "name": "python"
    }
  },
  "cells": [
    {
      "cell_type": "markdown",
      "metadata": {
        "id": "view-in-github",
        "colab_type": "text"
      },
      "source": [
        "<a href=\"https://colab.research.google.com/github/flu-s/Python25Study/blob/main/%EB%A6%AC%EC%8A%A4%ED%8A%B8_%ED%8A%9C%ED%94%8C_%EB%94%95%EC%85%94%EB%84%88%EB%A6%AC_%EC%A7%91%ED%95%A9_%EB%B6%88_%EC%9E%90%EB%A3%8C%ED%98%95.ipynb\" target=\"_parent\"><img src=\"https://colab.research.google.com/assets/colab-badge.svg\" alt=\"Open In Colab\"/></a>"
      ]
    },
    {
      "cell_type": "code",
      "execution_count": null,
      "metadata": {
        "id": "bqiVvfkxqX4_"
      },
      "outputs": [],
      "source": [
        "# 리스트를 만들 때는 대괄호 []로 감싸주고 각 요솟값은 쉼표로 구훕낳ㄴ다\n",
        "# 비어있는 리스트는  a = list()로 생성할 수 있다\n",
        "\n",
        "a = []\n",
        "b = [1, 2, 3]\n",
        "c = ['Life', 'is', 'too', 'short']\n",
        "d = [1, 2, 'Life', 'is']\n",
        "e = [1, 2, ['Life', 'is']]"
      ]
    },
    {
      "cell_type": "code",
      "source": [
        "# 리스트 인덱싱\n",
        "# a[-1]은 리스트 a의 마지막 요솟값\n",
        "\n",
        "a = [1,2,3]\n",
        "\n",
        "a[0] + a[2]"
      ],
      "metadata": {
        "colab": {
          "base_uri": "https://localhost:8080/"
        },
        "id": "1HLhHNfNqtZS",
        "outputId": "fdd4cb8d-8db0-40de-fcf5-aebcc88d3711"
      },
      "execution_count": 2,
      "outputs": [
        {
          "output_type": "execute_result",
          "data": {
            "text/plain": [
              "4"
            ]
          },
          "metadata": {},
          "execution_count": 2
        }
      ]
    },
    {
      "cell_type": "code",
      "source": [
        "# 리스트 안에 리스트 포함\n",
        "\n",
        "a = [1, 2, 3, ['a', 'b', 'c']]\n",
        "\n",
        "a[-1]\n",
        "a[-1][0]"
      ],
      "metadata": {
        "colab": {
          "base_uri": "https://localhost:8080/",
          "height": 35
        },
        "id": "Gh7zfCXcqeEV",
        "outputId": "d2f8e04b-33fb-459d-88c2-7be60343e27a"
      },
      "execution_count": 4,
      "outputs": [
        {
          "output_type": "execute_result",
          "data": {
            "text/plain": [
              "'a'"
            ],
            "application/vnd.google.colaboratory.intrinsic+json": {
              "type": "string"
            }
          },
          "metadata": {},
          "execution_count": 4
        }
      ]
    },
    {
      "cell_type": "code",
      "source": [
        "# 삼중 리스트 인덱싱\n",
        "# Life 문자열만 끄집어 내기\n",
        "\n",
        "a = [1, 2, ['a', 'b', ['Life', 'is']]]\n",
        "\n",
        "a[2][2][0]"
      ],
      "metadata": {
        "id": "Xbu6u0C_rHAu"
      },
      "execution_count": null,
      "outputs": []
    },
    {
      "cell_type": "code",
      "source": [
        "# 리스트 슬라이싱\n",
        "\n",
        "a = [1, 2, 3, 4, 5]\n",
        "\n",
        "a[0:2]"
      ],
      "metadata": {
        "colab": {
          "base_uri": "https://localhost:8080/"
        },
        "id": "GiQK700UrUhq",
        "outputId": "aad96dc7-eb31-4035-c2c3-3aa08dfe7628"
      },
      "execution_count": 5,
      "outputs": [
        {
          "output_type": "execute_result",
          "data": {
            "text/plain": [
              "[1, 2]"
            ]
          },
          "metadata": {},
          "execution_count": 5
        }
      ]
    },
    {
      "cell_type": "code",
      "source": [
        "# 중첩된 리스트에서 슬라이싱\n",
        "\n",
        "a = [1, 2, 3, ['a', 'b', 'c'], 4, 5]\n",
        "\n",
        "a[2:5]\n",
        "a[3][:2]"
      ],
      "metadata": {
        "colab": {
          "base_uri": "https://localhost:8080/"
        },
        "id": "S3ajx3oUre61",
        "outputId": "2117b64a-ecef-41ff-ca06-30ba04cada82"
      },
      "execution_count": 7,
      "outputs": [
        {
          "output_type": "execute_result",
          "data": {
            "text/plain": [
              "['a', 'b']"
            ]
          },
          "metadata": {},
          "execution_count": 7
        }
      ]
    },
    {
      "cell_type": "code",
      "source": [
        "# 리스트 연산하기\n",
        "\n",
        "# 리스트 더하기\n",
        "\n",
        "a = [1,2,3]\n",
        "b = [4,5,6]\n",
        "\n",
        "a+b"
      ],
      "metadata": {
        "colab": {
          "base_uri": "https://localhost:8080/"
        },
        "id": "SN0M_WD-rp5r",
        "outputId": "e944893a-871d-4863-c0be-1fbe2fa580f9"
      },
      "execution_count": 8,
      "outputs": [
        {
          "output_type": "execute_result",
          "data": {
            "text/plain": [
              "[1, 2, 3, 4, 5, 6]"
            ]
          },
          "metadata": {},
          "execution_count": 8
        }
      ]
    },
    {
      "cell_type": "code",
      "source": [
        "# 리스트 반복하기\n",
        "\n",
        "a = [1,2,3]\n",
        "a * 3"
      ],
      "metadata": {
        "id": "53uT5pAcr9W1"
      },
      "execution_count": null,
      "outputs": []
    },
    {
      "cell_type": "code",
      "source": [
        "# 리스트 길이 구하기\n",
        "\n",
        "a = [1, 2, 3]\n",
        "len(a)"
      ],
      "metadata": {
        "id": "qNpeiJ-6sArY"
      },
      "execution_count": null,
      "outputs": []
    },
    {
      "cell_type": "code",
      "source": [
        "# 초보자가 범하기 쉬운 리스트 연산 오류\n",
        "# 정수와 문자열은 서로 더할 수 없다\n",
        "# 숫자와 문자열을 더해서 '3hi'를 만들고 싶다면 숫자를 문자 '3'으로 바꿔야 한다\n",
        "# str은 정수나 실수를 문자열로 바꿔주는 파이썬의 내장 함수\n",
        "\n",
        "a = [1,2,3]\n",
        "str(a[2]) + \"hi\"\n"
      ],
      "metadata": {
        "colab": {
          "base_uri": "https://localhost:8080/",
          "height": 35
        },
        "id": "OSjdbnWar6aO",
        "outputId": "16ec3f5a-f39c-4e99-e849-1660b80aa662"
      },
      "execution_count": 10,
      "outputs": [
        {
          "output_type": "execute_result",
          "data": {
            "text/plain": [
              "'3hi'"
            ],
            "application/vnd.google.colaboratory.intrinsic+json": {
              "type": "string"
            }
          },
          "metadata": {},
          "execution_count": 10
        }
      ]
    },
    {
      "cell_type": "code",
      "source": [
        "# 리스트 값 수정\n",
        "\n",
        "a = [1, 2, 3]\n",
        "a[2] = 4\n",
        "a"
      ],
      "metadata": {
        "colab": {
          "base_uri": "https://localhost:8080/"
        },
        "id": "Iu-LZX0GsZUy",
        "outputId": "cd63abe4-b3aa-4cc0-f502-5c2627fb86f8"
      },
      "execution_count": 16,
      "outputs": [
        {
          "output_type": "execute_result",
          "data": {
            "text/plain": [
              "[1, 2, 4]"
            ]
          },
          "metadata": {},
          "execution_count": 16
        }
      ]
    },
    {
      "cell_type": "code",
      "source": [
        "# 리스트 요소 삭제하기 - del\n",
        "# del a[x]는 x번째 요솟값을 삭제한다\n",
        "# del 객체 (객체는 파이썬에서 사용되는 모든 자료형을 말함)\n",
        "\n",
        "a = [1, 2, 3]\n",
        "del a[1]\n",
        "a\n",
        "\n",
        "a = [1, 2, 3, 4, 5]\n",
        "del a [2:]\n",
        "a"
      ],
      "metadata": {
        "colab": {
          "base_uri": "https://localhost:8080/"
        },
        "id": "pShwnx2CshXu",
        "outputId": "ba920479-5592-4fd5-dc29-195e6b8fe603"
      },
      "execution_count": 18,
      "outputs": [
        {
          "output_type": "execute_result",
          "data": {
            "text/plain": [
              "[1, 2]"
            ]
          },
          "metadata": {},
          "execution_count": 18
        }
      ]
    },
    {
      "cell_type": "code",
      "source": [
        "# 리스트에 요소 추가하기 - append\n",
        "# append의 사전적 의미 = 덧붙이다, 첨부하다\n",
        "# append(x) = 리스트의 맨 마지막에 x를 추가하는 함수\n",
        "# 리스트 안에는 어떤 자료형도 추가 가능함\n",
        "\n",
        "a = [1, 2, 3]\n",
        "a.append(4)\n",
        "a"
      ],
      "metadata": {
        "id": "BvzEPj5NyC5l"
      },
      "execution_count": null,
      "outputs": []
    },
    {
      "cell_type": "code",
      "source": [
        "# 리스트에 다시 리스트 추가\n",
        "\n",
        "a.append([5, 6])\n",
        "a"
      ],
      "metadata": {
        "id": "emwVQWSwyU9O"
      },
      "execution_count": null,
      "outputs": []
    },
    {
      "cell_type": "code",
      "source": [
        "# 리스트 정렬 - sort\n",
        "# sort 함수는 리스트의 요소를 순서대로 정렬해준다\n",
        "\n",
        "a = [1, 4, 3, 2]\n",
        "a.sort()\n",
        "a"
      ],
      "metadata": {
        "id": "rpLfpdTjyZDc"
      },
      "execution_count": null,
      "outputs": []
    },
    {
      "cell_type": "code",
      "source": [
        "# 문자도 알파벳 순서대로 정렬할 수 있다\n",
        "\n",
        "a = ['a', 'c', 'b']\n",
        "a.sort()\n",
        "a"
      ],
      "metadata": {
        "id": "LlgiGE7xyg50"
      },
      "execution_count": null,
      "outputs": []
    },
    {
      "cell_type": "code",
      "source": [
        "# 리스트 뒤집기 - reverse\n",
        "# 리스트를 역순으로 뒤집어 줌다\n",
        "# 현재의 리스트를 그대로 거꾸로 뒤집는다\n",
        "\n",
        "\n",
        "a = ['a', 'c', 'b']\n",
        "a.reverse()\n",
        "a"
      ],
      "metadata": {
        "id": "gC9asAAwynoa"
      },
      "execution_count": null,
      "outputs": []
    },
    {
      "cell_type": "code",
      "source": [
        "# 인덱스 반환 - index\n",
        "# index(x) 함수는 리스트에 x 값이 있으면 x의 인덱스 값(위칫값)을 반환한다\n",
        "\n",
        "a = [1, 2, 3]\n",
        "a.index(3)\n",
        "a.index(1)"
      ],
      "metadata": {
        "colab": {
          "base_uri": "https://localhost:8080/"
        },
        "id": "Cf7RMI2Xyx9O",
        "outputId": "a5a7a78f-1154-4051-9019-89687ea4eea1"
      },
      "execution_count": 19,
      "outputs": [
        {
          "output_type": "execute_result",
          "data": {
            "text/plain": [
              "0"
            ]
          },
          "metadata": {},
          "execution_count": 19
        }
      ]
    },
    {
      "cell_type": "code",
      "source": [
        "# 리스트에 요소 삽입 - insert\n",
        "# insert(a, b)는 리스트의 a번째 위치에 b를 삽입하는 함수\n",
        "\n",
        "# 첫번째 요소인 a[0] 위치에 4를 삽입하라는 뜻\n",
        "\n",
        "a = [1, 2, 3]\n",
        "a.insert(0, 4)\n",
        "a"
      ],
      "metadata": {
        "id": "vi_RiA3ZzCMz"
      },
      "execution_count": null,
      "outputs": []
    },
    {
      "cell_type": "code",
      "source": [
        "# 리스트 요소 제거 - remove\n",
        "\n",
        "# a가 3이라는 값을 2개 갖고 있을 경우, 첫번째 3만 제거된다\n",
        "a = [1, 2, 3, 1, 2, 3]\n",
        "a.remove(3)\n",
        "a"
      ],
      "metadata": {
        "id": "I3pcKijlzSdQ"
      },
      "execution_count": null,
      "outputs": []
    },
    {
      "cell_type": "code",
      "source": [
        "# 리스트 요소 끄집어 내기 - pop\n",
        "# pop()은 리스트의 맨 마지막 요소를 반환하고 그 요소는 삭제한다\n",
        "\n",
        "a = [1, 2, 3]\n",
        "a.pop()\n",
        "a"
      ],
      "metadata": {
        "colab": {
          "base_uri": "https://localhost:8080/"
        },
        "id": "CBCKIHuQzcOB",
        "outputId": "7969250d-c8a6-4321-bc46-9546c261e073"
      },
      "execution_count": 20,
      "outputs": [
        {
          "output_type": "execute_result",
          "data": {
            "text/plain": [
              "[1, 2]"
            ]
          },
          "metadata": {},
          "execution_count": 20
        }
      ]
    },
    {
      "cell_type": "code",
      "source": [
        "# pop(x)는 리스트의 x번째 요소를 반환하고 그 요소는 삭제한다\n",
        "\n",
        "a = [1, 2, 3]\n",
        "a.pop(1)\n",
        "a"
      ],
      "metadata": {
        "id": "VIC6wsEJzlEo"
      },
      "execution_count": null,
      "outputs": []
    },
    {
      "cell_type": "code",
      "source": [
        "# 리스트에 포함된 요소 x의 개수 세기 - count\n",
        "# count(x)는 리스트 안에 x가 몇 개 있는지 조사하여 그 개수를 반환하는 함수\n",
        "\n",
        "a = [1, 2, 3, 1]\n",
        "a.count(1)"
      ],
      "metadata": {
        "id": "yI9Uz2KMzq-E"
      },
      "execution_count": null,
      "outputs": []
    },
    {
      "cell_type": "code",
      "source": [
        "# 리스트 확장 - extend\n",
        "# extend(x)에서 x에는 리스트만 올 수 있으며 원래의 a 리스트에 x 리스트를 더하게 된다\n",
        "\n",
        "# a.extend([4, 5])는 a += [4, 5]와 동일하다.\n",
        "a = [1, 2, 3]\n",
        "a.extend([4, 5])\n",
        "a\n",
        "\n",
        "b = [6, 7]\n",
        "a.extend(b)\n",
        "a"
      ],
      "metadata": {
        "colab": {
          "base_uri": "https://localhost:8080/"
        },
        "id": "aCN-izJ5zwLe",
        "outputId": "fc8873f7-d5b0-445f-e623-e44406eb8355"
      },
      "execution_count": 21,
      "outputs": [
        {
          "output_type": "execute_result",
          "data": {
            "text/plain": [
              "[1, 2, 3, 4, 5, 6, 7]"
            ]
          },
          "metadata": {},
          "execution_count": 21
        }
      ]
    },
    {
      "cell_type": "code",
      "source": [
        "# 듀플 자료형\n",
        "\n",
        "# 리스트와 차이점\n",
        "# 리스트는 [], 튜플은 ()\n",
        "# 리스트는 요솟값의 생성, 삭제, 수정이 가능/  튜플은 요솟값을 바꿀 수 없다\n",
        "# 수시로 그 값을 변화시켜야할 경우라면 리스트\n",
        "# 프로그램이 실행되는 동안 요솟값이 항상 변하지 않기를 바란다거나 값이 바뀔까 걱정하고 싶지 않다면 주저하지 말고 튜플\n",
        "# 튜플은 요솟값을 변경할수 없기 때문에 sort, insert, remove, pop과 같은 내장 함수가 없다\n",
        "\n",
        "t1 = ()\n",
        "t2 = (1,)\n",
        "t3 = (1, 2, 3)\n",
        "t4 = 1, 2, 3\n",
        "t5 = ('a', 'b', ('ab', 'cd'))\n",
        "\n",
        "# t2 = (1,)처럼 단지 1개의 요소만을 가질 때는 요소 뒤에 쉼표(,)를 반드시 붙여야 한다\n",
        "# t4 = 1, 2, 3처럼 소괄호(())를 생략해도 된다\n"
      ],
      "metadata": {
        "id": "Y7zCFYyXz9Us"
      },
      "execution_count": null,
      "outputs": []
    },
    {
      "cell_type": "code",
      "source": [
        "# 튜플 요솟값 삭제, 수정 불가\n",
        "\n",
        "# 튜플 인덱싱\n",
        "\n",
        "t1 = (1, 2, 'a', 'b')\n",
        "t1[0]"
      ],
      "metadata": {
        "id": "tUuctdiX0ZBt"
      },
      "execution_count": null,
      "outputs": []
    },
    {
      "cell_type": "code",
      "source": [
        "# 튜플 슬라이싱\n",
        "\n",
        "t1 = (1, 2, 'a', 'b')\n",
        "t1[1:]"
      ],
      "metadata": {
        "id": "fkhIkWE-0l1a"
      },
      "execution_count": null,
      "outputs": []
    },
    {
      "cell_type": "code",
      "source": [
        "# 튜플 더하기\n",
        "\n",
        "t1 = (1, 2, 'a', 'b')\n",
        "t2 = (3, 4)\n",
        "t3 = t1 + t2\n",
        "t3"
      ],
      "metadata": {
        "id": "59Jfuobc0qiq"
      },
      "execution_count": null,
      "outputs": []
    },
    {
      "cell_type": "code",
      "source": [
        "# 튜플 곱하기\n",
        "\n",
        "t2 = (3, 4)\n",
        "t3 = t2 * 3\n",
        "t3"
      ],
      "metadata": {
        "id": "AO3DcPBo0vaU"
      },
      "execution_count": null,
      "outputs": []
    },
    {
      "cell_type": "code",
      "source": [
        "# 튜플 길이 구하기\n",
        "\n",
        "t1 = (1, 2, 'a', 'b')\n",
        "len(t1)"
      ],
      "metadata": {
        "id": "3_Dzy36K0ykO"
      },
      "execution_count": null,
      "outputs": []
    },
    {
      "cell_type": "code",
      "source": [
        "# 딕셔너리 자료형 (java의 map과 같은 개념)\n",
        "\n",
        "#‘연관 배열(associative array)’또는 ‘해시(hash)’라고도 한다\n",
        "# Key와 Value를 한 쌍으로 가지는 자료형\n",
        "# key = \"baseball\"이라면 value = \"야구\"\n",
        "# 순차적으로(sequential) 해당 요솟값을 구하지 않고 Key를 통해 Value를 얻는다\n",
        "# 각각의 요소는 Key: Value 형태로 이루어져 있고 쉼표(,)로 구분되어 있다\n",
        "\n",
        "# 딕셔너리 쌍 추가하기\n",
        "\n",
        "a = {1: 'a'}\n",
        "a[2] = 'b'\n",
        "a\n",
        "\n",
        "a['name'] = 'pey'\n",
        "a\n",
        "\n",
        "a[3] = [1, 2, 3]\n",
        "a\n",
        "\n",
        "# 딕셔너리 요소 삭제하기\n",
        "\n",
        "del a[1]\n",
        "a\n",
        "\n"
      ],
      "metadata": {
        "colab": {
          "base_uri": "https://localhost:8080/"
        },
        "id": "NmxZJL1L06Eq",
        "outputId": "9b7f5d16-1054-4cda-fd1f-fa637cce9824"
      },
      "execution_count": 25,
      "outputs": [
        {
          "output_type": "execute_result",
          "data": {
            "text/plain": [
              "{2: 'b', 'name': 'pey', 3: [1, 2, 3]}"
            ]
          },
          "metadata": {},
          "execution_count": 25
        }
      ]
    },
    {
      "cell_type": "code",
      "source": [
        "# 딕셔너리에서 Key를 사용해 Value 얻기\n",
        "# 어떤 Key의 Value를 얻기 위해서는 '딕셔너리_변수_이름[Key]'를 사용해야 한다\n",
        "\n",
        "grade = {'pey': 10, 'julliet': 99}\n",
        "grade['pey']\n",
        "grade['julliet']"
      ],
      "metadata": {
        "colab": {
          "base_uri": "https://localhost:8080/"
        },
        "id": "CkH_mZDW2BQF",
        "outputId": "4a9ac662-e21d-428a-abf3-0ab80283f876"
      },
      "execution_count": 27,
      "outputs": [
        {
          "output_type": "execute_result",
          "data": {
            "text/plain": [
              "99"
            ]
          },
          "metadata": {},
          "execution_count": 27
        }
      ]
    },
    {
      "cell_type": "code",
      "source": [
        "# a[1]이 의미하는 것은 리스트나 튜플의 a[1]과는 전혀 다르다\n",
        "# 딕셔너리 변수에서 [] 안의 숫자 1은 두 번째 요소를 나타내는 것이 아니라 Key에 해당하는 1을 나타낸다\n",
        "# a[1]은 딕셔너리 {1: 'a', 2: 'b'}에서 Key가 1인 것의 Value인 'a'를 반환한다\n",
        "\n",
        "a = {1:'a', 2:'b'}\n",
        "a[1]"
      ],
      "metadata": {
        "id": "TJ-HsgD02NEU"
      },
      "execution_count": null,
      "outputs": []
    },
    {
      "cell_type": "code",
      "source": [
        "# 딕셔너리 a는 a[Key]로 Key에 해당하는 Value를 얻는다\n",
        "\n",
        "a = {'a': 1, 'b': 2}\n",
        "a['a']\n",
        "a['b']\n",
        "\n",
        "dic = {'name':'pey', 'phone':'010-9999-1234', 'birth': '1118'}\n",
        "dic['name']\n",
        "dic['phone']\n",
        "dic['birth']"
      ],
      "metadata": {
        "colab": {
          "base_uri": "https://localhost:8080/"
        },
        "id": "CrJzNQrP2cSc",
        "outputId": "f1096f47-ccac-4a9f-f2af-8b3eaaadcedf"
      },
      "execution_count": 28,
      "outputs": [
        {
          "output_type": "execute_result",
          "data": {
            "text/plain": [
              "2"
            ]
          },
          "metadata": {},
          "execution_count": 28
        }
      ]
    },
    {
      "cell_type": "code",
      "source": [
        "# 딕셔너리 만들 때 주의할 사항\n",
        "# Key는 고유한 값이므로 중복되는 Key 값을 설정해 놓으면 하나를 제외한 나머지 것들이 모두 무시된다\n",
        "# Key에 리스트는 쓸 수 없다\n",
        "# Value에는 변하는 값이든, 변하지 않는 값이든 아무 값이나 넣을 수 있다\n",
        "\n",
        "\n",
        "a = {1:'a', 1:'b'}\n",
        "a"
      ],
      "metadata": {
        "colab": {
          "base_uri": "https://localhost:8080/"
        },
        "id": "AUFoS7ec2n_O",
        "outputId": "50686802-5915-414c-bff7-b43d5aaf439f"
      },
      "execution_count": 29,
      "outputs": [
        {
          "output_type": "execute_result",
          "data": {
            "text/plain": [
              "{1: 'b'}"
            ]
          },
          "metadata": {},
          "execution_count": 29
        }
      ]
    },
    {
      "cell_type": "code",
      "source": [
        "# 딕셔너리 관련 함수\n",
        "\n",
        "# Key 리스트 만들기 - keys\n",
        "\n",
        "# 반환값으로 리스트가 필요한 경우에는 list(a.keys())를 사용하면 된다\n",
        "# dict_keys, dict_values, dict_items 객체는 리스트로 변환하지 않더라도 기본적인 반복 구문(예: for 문)에서 사용할 수 있다\n",
        "\n",
        "\n",
        "a = {'name': 'pey', 'phone': '010-9999-1234', 'birth': '1118'}\n",
        "a.keys()"
      ],
      "metadata": {
        "colab": {
          "base_uri": "https://localhost:8080/"
        },
        "id": "YcrbgQzL29qi",
        "outputId": "bc9ec2a2-ae84-4d74-f5e6-5a33108605fa"
      },
      "execution_count": 30,
      "outputs": [
        {
          "output_type": "execute_result",
          "data": {
            "text/plain": [
              "dict_keys(['name', 'phone', 'birth'])"
            ]
          },
          "metadata": {},
          "execution_count": 30
        }
      ]
    },
    {
      "cell_type": "code",
      "source": [
        "# dict_keys 객체\n",
        "\n",
        "# 리스트를 사용하는 것과 별 차이는 없다\n",
        "# 리스트 고유의 append, insert, pop, remove, sort 함수는 수행할 수 없다\n",
        "\n",
        "for k in a.keys():\n",
        "  print(k)\n",
        "\n",
        "# dict_keys 객체를 리스트로 변환할 때\n",
        "\n",
        "list(a.keys())"
      ],
      "metadata": {
        "colab": {
          "base_uri": "https://localhost:8080/"
        },
        "id": "QrxeJD9C3WuK",
        "outputId": "7028c8ae-7c93-4afa-cde8-12e8b9d85674"
      },
      "execution_count": 35,
      "outputs": [
        {
          "output_type": "stream",
          "name": "stdout",
          "text": [
            "name\n",
            "phone\n",
            "birth\n"
          ]
        },
        {
          "output_type": "execute_result",
          "data": {
            "text/plain": [
              "['name', 'phone', 'birth']"
            ]
          },
          "metadata": {},
          "execution_count": 35
        }
      ]
    },
    {
      "cell_type": "code",
      "source": [
        "# Key, Value 쌍 얻기 - items\n",
        "\n",
        "a.items()"
      ],
      "metadata": {
        "colab": {
          "base_uri": "https://localhost:8080/"
        },
        "id": "CVjafQ4d4Cdx",
        "outputId": "259a8a8a-680d-45b0-a778-edf61b143342"
      },
      "execution_count": 36,
      "outputs": [
        {
          "output_type": "execute_result",
          "data": {
            "text/plain": [
              "dict_items([('name', 'pey'), ('phone', '010-9999-1234'), ('birth', '1118')])"
            ]
          },
          "metadata": {},
          "execution_count": 36
        }
      ]
    },
    {
      "cell_type": "code",
      "source": [
        "# Key: Value 쌍 모두 지우기 - clear\n",
        "# clear 함수는 딕셔너리 안의 모든 요소를 삭제한다\n",
        "# 빈 리스트 [], 빈 튜플을 ()로 표현하는 것과 마찬가지로 빈 딕셔너리도 {}로 표현한다\n",
        "\n",
        "a.clear()\n",
        "a"
      ],
      "metadata": {
        "colab": {
          "base_uri": "https://localhost:8080/"
        },
        "id": "hlLgKl5N4JJw",
        "outputId": "fcd8a414-d06f-4dff-ff79-d4d762bdcd4e"
      },
      "execution_count": 37,
      "outputs": [
        {
          "output_type": "execute_result",
          "data": {
            "text/plain": [
              "{}"
            ]
          },
          "metadata": {},
          "execution_count": 37
        }
      ]
    },
    {
      "cell_type": "code",
      "source": [
        "# Key로 Value 얻기 - get\n",
        "\n",
        "a = {'name': 'pey', 'phone': '010-9999-1234', 'birth': '1118'}\n",
        "a.get('name')\n",
        "a.get('phone')"
      ],
      "metadata": {
        "id": "PN7i8io44aqJ"
      },
      "execution_count": null,
      "outputs": []
    },
    {
      "cell_type": "code",
      "source": [
        "# None은 '거짓'이라는 뜻\n",
        "\n",
        "a = {'name':'pey', 'phone':'010-9999-1234', 'birth': '1118'}\n",
        "a.get('nokey')\n",
        "\n",
        "# 딕셔너리 안에 찾으려는 Key가 없을 경우, 미리 정해 둔 디폴트 값을 대신 가져오게 하고 싶을 때는 get(x, '디폴트 값')을 사용\n",
        "\n",
        "a.get('nokey', '정보없음')"
      ],
      "metadata": {
        "colab": {
          "base_uri": "https://localhost:8080/",
          "height": 35
        },
        "id": "pDEHGgoJ4f3A",
        "outputId": "3fbc5101-032b-4ea3-dd7c-fea272d6f452"
      },
      "execution_count": 38,
      "outputs": [
        {
          "output_type": "execute_result",
          "data": {
            "text/plain": [
              "'정보없음'"
            ],
            "application/vnd.google.colaboratory.intrinsic+json": {
              "type": "string"
            }
          },
          "metadata": {},
          "execution_count": 38
        }
      ]
    },
    {
      "cell_type": "code",
      "source": [
        "# 해당 Key가 딕셔너리 안에 있는지 조사하기 - in\n",
        "\n",
        "a = {'name':'pey', 'phone':'010-9999-1234', 'birth': '1118'}\n",
        "'name' in a\n",
        "'email' in a"
      ],
      "metadata": {
        "colab": {
          "base_uri": "https://localhost:8080/"
        },
        "id": "Od63dfEz4wnw",
        "outputId": "dd120ef8-6240-463b-b94a-cf246218d7fa"
      },
      "execution_count": 39,
      "outputs": [
        {
          "output_type": "execute_result",
          "data": {
            "text/plain": [
              "False"
            ]
          },
          "metadata": {},
          "execution_count": 39
        }
      ]
    },
    {
      "cell_type": "code",
      "source": [
        "# Key로 Value 얻기 - pop\n",
        "# pop(x) 함수는 딕셔너리에서 Key가 x인 항목을 삭제한 후 그 Value를 반환\n",
        "# get 함수와 달리 pop은 해당 항목을 딕셔너리에서 삭제한다는 차이가 있다\n",
        "# 존재하지 않는 Key에 대해서는 디폴트 값을 지정할 수 있다.\n",
        "\n",
        "a = {'name':'pey', 'phone':'010-9999-1234', 'birth': '1118'}\n",
        "phone = a.pop('phone')\n",
        "phone\n",
        "a\n",
        "\n",
        "email = a.pop('email', '정보없음')\n",
        "email\n"
      ],
      "metadata": {
        "colab": {
          "base_uri": "https://localhost:8080/",
          "height": 35
        },
        "id": "EhAOSjek42hk",
        "outputId": "754b6c01-6e90-4337-e620-18e080216b69"
      },
      "execution_count": 42,
      "outputs": [
        {
          "output_type": "execute_result",
          "data": {
            "text/plain": [
              "'정보없음'"
            ],
            "application/vnd.google.colaboratory.intrinsic+json": {
              "type": "string"
            }
          },
          "metadata": {},
          "execution_count": 42
        }
      ]
    },
    {
      "cell_type": "code",
      "source": [
        "# 집합 자료형\n",
        "\n",
        "# set 키워드를 사용\n",
        "# set()의 괄호 안에 리스트를 입력\n",
        "\n",
        "s1 = set([1, 2, 3])\n",
        "s1\n",
        "\n",
        "# set()의 괄호 안에 문자열을 입력\n",
        "s2 = set(\"Hello\")\n",
        "s2\n",
        "\n",
        "# set()의 괄호 안에 중괄호({})를 사용\n",
        "s3 = {1, 2, 3}\n",
        "s3\n",
        "\n",
        "s4 = {'a', 'b', 'c'}\n",
        "s4\n",
        "\n",
        "# 비어 있는 집합 자료형은 s = set()\n",
        "# s = {}로 만들면 딕셔너리가 된다"
      ],
      "metadata": {
        "id": "ahYxrIz85GBk"
      },
      "execution_count": null,
      "outputs": []
    },
    {
      "cell_type": "code",
      "source": [
        "# 집합 자료형의 특징\n",
        "\n",
        "# 중복을 허용하지 않는다\n",
        "# 순서가 없다(Unordered)\n",
        "\n",
        "# 집합은 중복을 허용하지 않는 특징 때문에 데이터의 중복을 제거하기 위한 필터로 종종 사용\n",
        "\n",
        "# 집합 자료형은 순서가 없기(unordered) 때문에 인덱싱을 통해 요솟값을 얻을 수 없다\n",
        "#집합 자료형에 저장된 값을 인덱싱으로 접근하려면 다음과 같이 리스트나 튜플로 변환한 후에 해야 한다\n",
        "\n",
        "s1 = set([1, 2, 3])\n",
        "l1 = list(s1)\n",
        "l1\n",
        "l1[0]\n",
        "\n",
        "t1 = tuple(s1)\n",
        "t1\n",
        "t1[0]"
      ],
      "metadata": {
        "colab": {
          "base_uri": "https://localhost:8080/"
        },
        "id": "y8dQ_irq5oVC",
        "outputId": "67bfceed-5f47-4c4a-87a2-5a95d6635598"
      },
      "execution_count": 44,
      "outputs": [
        {
          "output_type": "execute_result",
          "data": {
            "text/plain": [
              "1"
            ]
          },
          "metadata": {},
          "execution_count": 44
        }
      ]
    },
    {
      "cell_type": "code",
      "source": [
        "# 교집합 구하기 - &, intersection 함수\n",
        "\n",
        "s1 = set([1, 2, 3, 4, 5, 6])\n",
        "s2 = set([4, 5, 6, 7, 8, 9])\n",
        "\n",
        "s1 & s2\n",
        "\n",
        "# intersection 함수\n",
        "s1.intersection(s2)"
      ],
      "metadata": {
        "colab": {
          "base_uri": "https://localhost:8080/"
        },
        "id": "qfFsAWPs5_OX",
        "outputId": "6483820f-ae07-415a-f189-863658150bd0"
      },
      "execution_count": 45,
      "outputs": [
        {
          "output_type": "execute_result",
          "data": {
            "text/plain": [
              "{4, 5, 6}"
            ]
          },
          "metadata": {},
          "execution_count": 45
        }
      ]
    },
    {
      "cell_type": "code",
      "source": [
        "# 합집합 구하기 - |, union 함수\n",
        "\n",
        "s1 = set([1, 2, 3, 4, 5, 6])\n",
        "s2 = set([4, 5, 6, 7, 8, 9])\n",
        "\n",
        "s1 | s2\n",
        "\n",
        "# union 함수\n",
        "s1.union(s2)"
      ],
      "metadata": {
        "id": "q0aZzCS_6KWS"
      },
      "execution_count": null,
      "outputs": []
    },
    {
      "cell_type": "code",
      "source": [
        "# 차집합 구하기 - -(빼기), difference 함수\n",
        "\n",
        "s1 = set([1, 2, 3, 4, 5, 6])\n",
        "s2 = set([4, 5, 6, 7, 8, 9])\n",
        "\n",
        "s1 - s2\n",
        "s2 - s1\n",
        "\n",
        "# difference 함수\n",
        "s1.difference(s2)\n",
        "s2.difference(s1)"
      ],
      "metadata": {
        "id": "8Ixt559P6f1C"
      },
      "execution_count": null,
      "outputs": []
    },
    {
      "cell_type": "code",
      "source": [
        "# 집합 자료형 관련 함수\n",
        "# 값 1개 추가하기 - add\n",
        "\n",
        "s1 = set([1, 2, 3])\n",
        "s1.add(4)\n",
        "s1"
      ],
      "metadata": {
        "colab": {
          "base_uri": "https://localhost:8080/"
        },
        "id": "k7vSuwEQ9At3",
        "outputId": "fa994ca5-5760-4a89-e73b-e06047b4b0d6"
      },
      "execution_count": 46,
      "outputs": [
        {
          "output_type": "execute_result",
          "data": {
            "text/plain": [
              "{1, 2, 3, 4}"
            ]
          },
          "metadata": {},
          "execution_count": 46
        }
      ]
    },
    {
      "cell_type": "code",
      "source": [
        "# 값 여러 개 추가하기 - update\n",
        "\n",
        "s1 = set([1, 2, 3])\n",
        "s1.update([4, 5, 6])\n",
        "s1"
      ],
      "metadata": {
        "id": "psVR3Suk9H2y"
      },
      "execution_count": null,
      "outputs": []
    },
    {
      "cell_type": "code",
      "source": [
        "# 특정 값 제거하기 - remove\n",
        "\n",
        "s1 = set([1, 2, 3])\n",
        "s1.remove(2)\n",
        "s1"
      ],
      "metadata": {
        "id": "mXFeno4l9LsE"
      },
      "execution_count": null,
      "outputs": []
    },
    {
      "cell_type": "code",
      "source": [
        "# 특정 값 제거하기 - discard\n",
        "# remove와 비슷하지만 존재하지 않는 값을 제거하려 할 때 오류가 발생하지 않는다\n",
        "\n",
        "s1 = set([1, 2, 3])\n",
        "s1.discard(2)\n",
        "s1\n",
        "s1.discard(4)  # 없는 값이어도 오류가 발생하지 않음\n",
        "s1"
      ],
      "metadata": {
        "id": "DDHyzGCf9O-K"
      },
      "execution_count": null,
      "outputs": []
    },
    {
      "cell_type": "code",
      "source": [
        "# 모든 값 제거하기 - clear\n",
        "\n",
        "s1 = set([1, 2, 3])\n",
        "s1.clear()\n",
        "s1"
      ],
      "metadata": {
        "id": "oRk5Bcyt9XjK"
      },
      "execution_count": null,
      "outputs": []
    },
    {
      "cell_type": "code",
      "source": [
        "# 불 자료형\n",
        "# 불(bool) 자료형이란 참(True)과 거짓(False)을 나타내는 자료형\n",
        "# True: 참 / False: 거짓\n",
        "# True나 False는 파이썬의 예약어\n",
        "# true, false와 같이 작성하면 안 되고 첫 문자를 항상 대문자로 작성\n",
        "\n",
        "a = True\n",
        "b = False\n",
        "\n",
        "# type(x)는 x의 자료형을 확인하는 파이썬의 내장 함수\n",
        "\n",
        "type(a)\n",
        "type(b)"
      ],
      "metadata": {
        "colab": {
          "base_uri": "https://localhost:8080/"
        },
        "id": "XOE75HzY9beY",
        "outputId": "b2441c1d-84ca-4996-f7be-a7d2eae6948e"
      },
      "execution_count": 48,
      "outputs": [
        {
          "output_type": "execute_result",
          "data": {
            "text/plain": [
              "bool"
            ]
          },
          "metadata": {},
          "execution_count": 48
        }
      ]
    },
    {
      "cell_type": "code",
      "source": [
        "# 불 자료형은 조건문의 리턴값으로도 사용된다\n",
        "\n",
        "1 == 1\n",
        "2 > 1\n",
        "2 < 1"
      ],
      "metadata": {
        "id": "mVlZ-6QX91WZ"
      },
      "execution_count": null,
      "outputs": []
    },
    {
      "cell_type": "code",
      "source": [
        "# 자료형의 참과 거짓\n",
        "\n",
        "\n",
        "# 값\t참 or 거짓\n",
        "# \"python\"\t참\n",
        "# \"\"\t거짓\n",
        "# [1, 2, 3]\t참\n",
        "# []\t거짓\n",
        "# (1, 2, 3)\t참\n",
        "# ()\t거짓\n",
        "# {'a': 1}\t참\n",
        "# {}\t거짓\n",
        "# 1\t참\n",
        "# 0\t거짓\n",
        "# None\t거짓\n",
        "\n",
        "# 문자열, 리스트, 튜플, 딕셔너리 등의 값이 비어 있으면(\"\", [], (), {}) 거짓\n",
        "# 숫자에서는 그 값이 0일 때 거짓\n",
        "\n",
        "a = [1, 2, 3, 4]\n",
        "while a:\n",
        "     print(a.pop())\n",
        "\n",
        "# while 조건문:\n",
        "#    수행할_문장\n",
        "# a가 참인 경우, a.pop()를 계속 실행하여 출력하라\n",
        "# a.pop() 함수는 리스트 a의 마지막 요소를 끄집어 내는 함수이므로 리스트 안에 요소가 존재하는 한(a가 참인 동안) 마지막 요소를 계속 끄집어 낼 것이다\n",
        "# 더 이상 끄집어 낼 것이 없으면 a가 빈 리스트([])가 되어 거짓\n",
        "# while 문에서 조건문이 거짓이 되므로 while 문을 빠져나가게 된다"
      ],
      "metadata": {
        "colab": {
          "base_uri": "https://localhost:8080/"
        },
        "id": "m28UnHW097xC",
        "outputId": "fd665bcc-968f-4280-ad40-7ac3da4a0f10"
      },
      "execution_count": 49,
      "outputs": [
        {
          "output_type": "stream",
          "name": "stdout",
          "text": [
            "4\n",
            "3\n",
            "2\n",
            "1\n"
          ]
        }
      ]
    },
    {
      "cell_type": "code",
      "source": [
        "# if문\n",
        "\n",
        "if []:\n",
        "     print(\"참\")\n",
        "else:\n",
        "     print(\"거짓\")\n",
        "\n",
        "if [1, 2, 3]:\n",
        "     print(\"참\")\n",
        "else:\n",
        "     print(\"거짓\")\n",
        "# 만약 [1, 2, 3]이 참이면 \"참\"이라는 문자열을 출력하고, 그렇지 않으면 \"거짓\"이라는 문자열을 출력하라\n",
        ""
      ],
      "metadata": {
        "colab": {
          "base_uri": "https://localhost:8080/"
        },
        "id": "ftRwkfkS-f7X",
        "outputId": "39f49cbf-4383-4c0e-f216-9a2813249322"
      },
      "execution_count": 52,
      "outputs": [
        {
          "output_type": "stream",
          "name": "stdout",
          "text": [
            "거짓\n"
          ]
        }
      ]
    },
    {
      "cell_type": "code",
      "source": [
        "# 불 연산\n",
        "\n",
        "# 'python' 문자열은 비어 있지 않으므로 bool 연산의 결과로 불 자료형인 True를 반환한다\n",
        "bool('python')\n",
        "\n",
        "# '' 문자열은 비어 있으므로 bool 연산의 결과로 불 자료형인 False를 반환한다\n",
        "bool('')\n",
        "\n",
        "\n",
        "bool([1, 2, 3])\n",
        "\n",
        "bool([])\n",
        "\n",
        "bool(0)\n",
        "\n",
        "bool(3)"
      ],
      "metadata": {
        "colab": {
          "base_uri": "https://localhost:8080/"
        },
        "id": "nu3qzbSW-w2q",
        "outputId": "874999c0-d6c2-451c-b5e5-a987a4a44552"
      },
      "execution_count": 53,
      "outputs": [
        {
          "output_type": "execute_result",
          "data": {
            "text/plain": [
              "True"
            ]
          },
          "metadata": {},
          "execution_count": 53
        }
      ]
    },
    {
      "cell_type": "code",
      "source": [
        "# 논리 연산자\n",
        "\n",
        "# 불 자료형에서는 and, or, not과 같은 논리 연산자를 사용할 수 있다\n",
        "\n",
        "# and 연산자\n",
        "\n",
        "# and 연산자는 양쪽 조건이 모두 참일 때만 True를 반환한다\n",
        "\n",
        "True and True\n",
        "\n",
        "True and False\n",
        "\n",
        "False and True\n",
        "\n",
        "False and False\n"
      ],
      "metadata": {
        "id": "wIW7RoqP_BWQ"
      },
      "execution_count": null,
      "outputs": []
    },
    {
      "cell_type": "code",
      "source": [
        "# or 연산자\n",
        "\n",
        "# or 연산자는 양쪽 조건 중 하나라도 참이면 True를 반환한다\n",
        "\n",
        "True or True\n",
        "\n",
        "True or False\n",
        "\n",
        "False or True\n",
        "\n",
        "False or False\n"
      ],
      "metadata": {
        "id": "4Ds18rM0_NYk"
      },
      "execution_count": null,
      "outputs": []
    },
    {
      "cell_type": "code",
      "source": [
        "# not 연산자\n",
        "\n",
        "# not 연산자는 조건의 참/거짓을 뒤바꾼다\n",
        "\n",
        "not True\n",
        "\n",
        "not False\n",
        "\n",
        "not 1\n",
        "\n",
        "not 0"
      ],
      "metadata": {
        "id": "e94ihCx4_V7S"
      },
      "execution_count": null,
      "outputs": []
    },
    {
      "cell_type": "code",
      "source": [
        "# 실제 활용 예제\n",
        "\n",
        "x = 5\n",
        "y = 10\n",
        "x > 0 and y > 0\n",
        "\n",
        "x > 10 or y > 5\n",
        "\n",
        "not (x > y)"
      ],
      "metadata": {
        "id": "aLvuW1Mx_czW"
      },
      "execution_count": null,
      "outputs": []
    }
  ]
}