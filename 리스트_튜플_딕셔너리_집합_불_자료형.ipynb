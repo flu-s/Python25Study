{
  "nbformat": 4,
  "nbformat_minor": 0,
  "metadata": {
    "colab": {
      "provenance": [],
      "authorship_tag": "ABX9TyMwCrV/lI2Y9BF1ocazugrw",
      "include_colab_link": true
    },
    "kernelspec": {
      "name": "python3",
      "display_name": "Python 3"
    },
    "language_info": {
      "name": "python"
    }
  },
  "cells": [
    {
      "cell_type": "markdown",
      "metadata": {
        "id": "view-in-github",
        "colab_type": "text"
      },
      "source": [
        "<a href=\"https://colab.research.google.com/github/flu-s/Python25Study/blob/main/%EB%A6%AC%EC%8A%A4%ED%8A%B8_%ED%8A%9C%ED%94%8C_%EB%94%95%EC%85%94%EB%84%88%EB%A6%AC_%EC%A7%91%ED%95%A9_%EB%B6%88_%EC%9E%90%EB%A3%8C%ED%98%95.ipynb\" target=\"_parent\"><img src=\"https://colab.research.google.com/assets/colab-badge.svg\" alt=\"Open In Colab\"/></a>"
      ]
    },
    {
      "cell_type": "code",
      "execution_count": 59,
      "metadata": {
        "id": "bqiVvfkxqX4_"
      },
      "outputs": [],
      "source": [
        "# 리스트를 만들 때는 대괄호 []로 감싸주고 각 요솟값은 쉼표로 구훕낳ㄴ다\n",
        "# 비어있는 리스트는  a = list()로 생성할 수 있다\n",
        "\n",
        "a = []\n",
        "b = [1, 2, 3]\n",
        "c = ['Life', 'is', 'too', 'short']\n",
        "d = [1, 2, 'Life', 'is']\n",
        "e = [1, 2, ['Life', 'is']]"
      ]
    },
    {
      "cell_type": "code",
      "source": [
        "# 리스트 인덱싱\n",
        "# a[-1]은 리스트 a의 마지막 요솟값\n",
        "\n",
        "a = [1,2,3]\n",
        "\n",
        "a[0] + a[2]"
      ],
      "metadata": {
        "colab": {
          "base_uri": "https://localhost:8080/"
        },
        "id": "1HLhHNfNqtZS",
        "outputId": "eaa44911-b103-4c0f-d7a8-c46e605fc6ea"
      },
      "execution_count": 60,
      "outputs": [
        {
          "output_type": "execute_result",
          "data": {
            "text/plain": [
              "4"
            ]
          },
          "metadata": {},
          "execution_count": 60
        }
      ]
    },
    {
      "cell_type": "code",
      "source": [
        "# 리스트 안에 리스트 포함\n",
        "\n",
        "a = [1, 2, 3, ['a', 'b', 'c']]\n",
        "\n",
        "a[-1]\n",
        "a[-1][0]"
      ],
      "metadata": {
        "colab": {
          "base_uri": "https://localhost:8080/",
          "height": 35
        },
        "id": "Gh7zfCXcqeEV",
        "outputId": "8235a3bc-1dd9-470a-f1d9-d5dfb5840c37"
      },
      "execution_count": 61,
      "outputs": [
        {
          "output_type": "execute_result",
          "data": {
            "text/plain": [
              "'a'"
            ],
            "application/vnd.google.colaboratory.intrinsic+json": {
              "type": "string"
            }
          },
          "metadata": {},
          "execution_count": 61
        }
      ]
    },
    {
      "cell_type": "code",
      "source": [
        "# 삼중 리스트 인덱싱\n",
        "# Life 문자열만 끄집어 내기\n",
        "\n",
        "a = [1, 2, ['a', 'b', ['Life', 'is']]]\n",
        "\n",
        "a[2][2][0]"
      ],
      "metadata": {
        "id": "Xbu6u0C_rHAu",
        "colab": {
          "base_uri": "https://localhost:8080/",
          "height": 35
        },
        "outputId": "f4c29452-a8aa-4bd5-b257-3b6b96948433"
      },
      "execution_count": 62,
      "outputs": [
        {
          "output_type": "execute_result",
          "data": {
            "text/plain": [
              "'Life'"
            ],
            "application/vnd.google.colaboratory.intrinsic+json": {
              "type": "string"
            }
          },
          "metadata": {},
          "execution_count": 62
        }
      ]
    },
    {
      "cell_type": "code",
      "source": [
        "# 리스트 슬라이싱\n",
        "\n",
        "a = [1, 2, 3, 4, 5]\n",
        "\n",
        "a[0:2]"
      ],
      "metadata": {
        "colab": {
          "base_uri": "https://localhost:8080/"
        },
        "id": "GiQK700UrUhq",
        "outputId": "3b95e106-5412-4bf4-f810-1b52093df81a"
      },
      "execution_count": 63,
      "outputs": [
        {
          "output_type": "execute_result",
          "data": {
            "text/plain": [
              "[1, 2]"
            ]
          },
          "metadata": {},
          "execution_count": 63
        }
      ]
    },
    {
      "cell_type": "code",
      "source": [
        "# 중첩된 리스트에서 슬라이싱\n",
        "\n",
        "a = [1, 2, 3, ['a', 'b', 'c'], 4, 5]\n",
        "\n",
        "a[2:5]\n",
        "a[3][:2]"
      ],
      "metadata": {
        "colab": {
          "base_uri": "https://localhost:8080/"
        },
        "id": "S3ajx3oUre61",
        "outputId": "db0a290a-6e12-4133-ca0f-b315cc43dd7f"
      },
      "execution_count": 64,
      "outputs": [
        {
          "output_type": "execute_result",
          "data": {
            "text/plain": [
              "['a', 'b']"
            ]
          },
          "metadata": {},
          "execution_count": 64
        }
      ]
    },
    {
      "cell_type": "code",
      "source": [
        "# 리스트 연산하기\n",
        "\n",
        "# 리스트 더하기\n",
        "\n",
        "a = [1,2,3]\n",
        "b = [4,5,6]\n",
        "\n",
        "a+b"
      ],
      "metadata": {
        "colab": {
          "base_uri": "https://localhost:8080/"
        },
        "id": "SN0M_WD-rp5r",
        "outputId": "b7b2b0a7-7368-4149-9748-f716e7121e6f"
      },
      "execution_count": 65,
      "outputs": [
        {
          "output_type": "execute_result",
          "data": {
            "text/plain": [
              "[1, 2, 3, 4, 5, 6]"
            ]
          },
          "metadata": {},
          "execution_count": 65
        }
      ]
    },
    {
      "cell_type": "code",
      "source": [
        "# 리스트 반복하기\n",
        "\n",
        "a = [1,2,3]\n",
        "a * 3"
      ],
      "metadata": {
        "id": "53uT5pAcr9W1",
        "colab": {
          "base_uri": "https://localhost:8080/"
        },
        "outputId": "cd495740-c64a-4d0b-9d69-d2b5dc856c04"
      },
      "execution_count": 66,
      "outputs": [
        {
          "output_type": "execute_result",
          "data": {
            "text/plain": [
              "[1, 2, 3, 1, 2, 3, 1, 2, 3]"
            ]
          },
          "metadata": {},
          "execution_count": 66
        }
      ]
    },
    {
      "cell_type": "code",
      "source": [
        "# 리스트 길이 구하기\n",
        "\n",
        "a = [1, 2, 3]\n",
        "len(a)"
      ],
      "metadata": {
        "id": "qNpeiJ-6sArY",
        "colab": {
          "base_uri": "https://localhost:8080/"
        },
        "outputId": "866f0d08-e0e3-49b3-a103-55301c3e4ac4"
      },
      "execution_count": 67,
      "outputs": [
        {
          "output_type": "execute_result",
          "data": {
            "text/plain": [
              "3"
            ]
          },
          "metadata": {},
          "execution_count": 67
        }
      ]
    },
    {
      "cell_type": "code",
      "source": [
        "# 초보자가 범하기 쉬운 리스트 연산 오류\n",
        "# 정수와 문자열은 서로 더할 수 없다\n",
        "# 숫자와 문자열을 더해서 '3hi'를 만들고 싶다면 숫자를 문자 '3'으로 바꿔야 한다\n",
        "# str은 정수나 실수를 문자열로 바꿔주는 파이썬의 내장 함수\n",
        "\n",
        "a = [1,2,3]\n",
        "str(a[2]) + \"hi\"\n"
      ],
      "metadata": {
        "colab": {
          "base_uri": "https://localhost:8080/",
          "height": 35
        },
        "id": "OSjdbnWar6aO",
        "outputId": "25593eb0-e4ec-4ba2-a1ba-fde0e3597fc5"
      },
      "execution_count": 68,
      "outputs": [
        {
          "output_type": "execute_result",
          "data": {
            "text/plain": [
              "'3hi'"
            ],
            "application/vnd.google.colaboratory.intrinsic+json": {
              "type": "string"
            }
          },
          "metadata": {},
          "execution_count": 68
        }
      ]
    },
    {
      "cell_type": "code",
      "source": [
        "# 리스트 값 수정\n",
        "\n",
        "a = [1, 2, 3]\n",
        "a[2] = 4\n",
        "a"
      ],
      "metadata": {
        "colab": {
          "base_uri": "https://localhost:8080/"
        },
        "id": "Iu-LZX0GsZUy",
        "outputId": "ff60d760-c82a-4acc-f4ef-dca77f51d1d0"
      },
      "execution_count": 69,
      "outputs": [
        {
          "output_type": "execute_result",
          "data": {
            "text/plain": [
              "[1, 2, 4]"
            ]
          },
          "metadata": {},
          "execution_count": 69
        }
      ]
    },
    {
      "cell_type": "code",
      "source": [
        "# 리스트 요소 삭제하기 - del\n",
        "# del a[x]는 x번째 요솟값을 삭제한다\n",
        "# del 객체 (객체는 파이썬에서 사용되는 모든 자료형을 말함)\n",
        "\n",
        "a = [1, 2, 3]\n",
        "del a[1]\n",
        "a\n",
        "\n",
        "a = [1, 2, 3, 4, 5]\n",
        "del a [2:]\n",
        "a"
      ],
      "metadata": {
        "colab": {
          "base_uri": "https://localhost:8080/"
        },
        "id": "pShwnx2CshXu",
        "outputId": "5e84a32d-8cbb-40d2-adc5-7d85f3f0996b"
      },
      "execution_count": 70,
      "outputs": [
        {
          "output_type": "execute_result",
          "data": {
            "text/plain": [
              "[1, 2]"
            ]
          },
          "metadata": {},
          "execution_count": 70
        }
      ]
    },
    {
      "cell_type": "code",
      "source": [
        "# 리스트에 요소 추가하기 - append\n",
        "# append의 사전적 의미 = 덧붙이다, 첨부하다\n",
        "# append(x) = 리스트의 맨 마지막에 x를 추가하는 함수\n",
        "# 리스트 안에는 어떤 자료형도 추가 가능함\n",
        "\n",
        "a = [1, 2, 3]\n",
        "a.append(4)\n",
        "a"
      ],
      "metadata": {
        "id": "BvzEPj5NyC5l",
        "colab": {
          "base_uri": "https://localhost:8080/"
        },
        "outputId": "9ec73e42-a028-4c84-ce29-2a0bd46b3d11"
      },
      "execution_count": 71,
      "outputs": [
        {
          "output_type": "execute_result",
          "data": {
            "text/plain": [
              "[1, 2, 3, 4]"
            ]
          },
          "metadata": {},
          "execution_count": 71
        }
      ]
    },
    {
      "cell_type": "code",
      "source": [
        "# 리스트에 다시 리스트 추가\n",
        "\n",
        "a.append([5, 6])\n",
        "a"
      ],
      "metadata": {
        "id": "emwVQWSwyU9O",
        "colab": {
          "base_uri": "https://localhost:8080/"
        },
        "outputId": "cf5b57c7-71bb-4d58-9fe7-a5f9ff05f423"
      },
      "execution_count": 72,
      "outputs": [
        {
          "output_type": "execute_result",
          "data": {
            "text/plain": [
              "[1, 2, 3, 4, [5, 6]]"
            ]
          },
          "metadata": {},
          "execution_count": 72
        }
      ]
    },
    {
      "cell_type": "code",
      "source": [
        "# 리스트 정렬 - sort\n",
        "# sort 함수는 리스트의 요소를 순서대로 정렬해준다\n",
        "\n",
        "a = [1, 4, 3, 2]\n",
        "a.sort()\n",
        "a"
      ],
      "metadata": {
        "id": "rpLfpdTjyZDc",
        "colab": {
          "base_uri": "https://localhost:8080/"
        },
        "outputId": "6ca4a046-c3f9-4088-f924-9921ae6438e1"
      },
      "execution_count": 73,
      "outputs": [
        {
          "output_type": "execute_result",
          "data": {
            "text/plain": [
              "[1, 2, 3, 4]"
            ]
          },
          "metadata": {},
          "execution_count": 73
        }
      ]
    },
    {
      "cell_type": "code",
      "source": [
        "# 문자도 알파벳 순서대로 정렬할 수 있다\n",
        "\n",
        "a = ['a', 'c', 'b']\n",
        "a.sort()\n",
        "a"
      ],
      "metadata": {
        "id": "LlgiGE7xyg50",
        "colab": {
          "base_uri": "https://localhost:8080/"
        },
        "outputId": "e847742f-62b2-430c-a08b-9e22d1735650"
      },
      "execution_count": 74,
      "outputs": [
        {
          "output_type": "execute_result",
          "data": {
            "text/plain": [
              "['a', 'b', 'c']"
            ]
          },
          "metadata": {},
          "execution_count": 74
        }
      ]
    },
    {
      "cell_type": "code",
      "source": [
        "# 리스트 뒤집기 - reverse\n",
        "# 리스트를 역순으로 뒤집어 줌다\n",
        "# 현재의 리스트를 그대로 거꾸로 뒤집는다\n",
        "\n",
        "\n",
        "a = ['a', 'c', 'b']\n",
        "a.reverse()\n",
        "a"
      ],
      "metadata": {
        "id": "gC9asAAwynoa",
        "colab": {
          "base_uri": "https://localhost:8080/"
        },
        "outputId": "97050788-b0cc-41ed-c933-ee5a190bff6b"
      },
      "execution_count": 75,
      "outputs": [
        {
          "output_type": "execute_result",
          "data": {
            "text/plain": [
              "['b', 'c', 'a']"
            ]
          },
          "metadata": {},
          "execution_count": 75
        }
      ]
    },
    {
      "cell_type": "code",
      "source": [
        "# 인덱스 반환 - index\n",
        "# index(x) 함수는 리스트에 x 값이 있으면 x의 인덱스 값(위칫값)을 반환한다\n",
        "\n",
        "a = [1, 2, 3]\n",
        "a.index(3)\n",
        "a.index(1)"
      ],
      "metadata": {
        "colab": {
          "base_uri": "https://localhost:8080/"
        },
        "id": "Cf7RMI2Xyx9O",
        "outputId": "26953d0c-ca22-4755-8771-a989c1f27b8a"
      },
      "execution_count": 76,
      "outputs": [
        {
          "output_type": "execute_result",
          "data": {
            "text/plain": [
              "0"
            ]
          },
          "metadata": {},
          "execution_count": 76
        }
      ]
    },
    {
      "cell_type": "code",
      "source": [
        "# 리스트에 요소 삽입 - insert\n",
        "# insert(a, b)는 리스트의 a번째 위치에 b를 삽입하는 함수\n",
        "\n",
        "# 첫번째 요소인 a[0] 위치에 4를 삽입하라는 뜻\n",
        "\n",
        "a = [1, 2, 3]\n",
        "a.insert(0, 4)\n",
        "a"
      ],
      "metadata": {
        "id": "vi_RiA3ZzCMz",
        "colab": {
          "base_uri": "https://localhost:8080/"
        },
        "outputId": "96a5b339-d8d2-4c34-9859-f99f7431360f"
      },
      "execution_count": 77,
      "outputs": [
        {
          "output_type": "execute_result",
          "data": {
            "text/plain": [
              "[4, 1, 2, 3]"
            ]
          },
          "metadata": {},
          "execution_count": 77
        }
      ]
    },
    {
      "cell_type": "code",
      "source": [
        "# 리스트 요소 제거 - remove\n",
        "\n",
        "# a가 3이라는 값을 2개 갖고 있을 경우, 첫번째 3만 제거된다\n",
        "a = [1, 2, 3, 1, 2, 3]\n",
        "a.remove(3)\n",
        "a"
      ],
      "metadata": {
        "id": "I3pcKijlzSdQ",
        "colab": {
          "base_uri": "https://localhost:8080/"
        },
        "outputId": "801d5217-efe5-42b2-e9f9-43108297510e"
      },
      "execution_count": 78,
      "outputs": [
        {
          "output_type": "execute_result",
          "data": {
            "text/plain": [
              "[1, 2, 1, 2, 3]"
            ]
          },
          "metadata": {},
          "execution_count": 78
        }
      ]
    },
    {
      "cell_type": "code",
      "source": [
        "# 리스트 요소 끄집어 내기 - pop\n",
        "# pop()은 리스트의 맨 마지막 요소를 반환하고 그 요소는 삭제한다\n",
        "\n",
        "a = [1, 2, 3]\n",
        "a.pop()\n",
        "a"
      ],
      "metadata": {
        "colab": {
          "base_uri": "https://localhost:8080/"
        },
        "id": "CBCKIHuQzcOB",
        "outputId": "5e206919-667a-4bab-bac3-bbe0ecbbc6fe"
      },
      "execution_count": 79,
      "outputs": [
        {
          "output_type": "execute_result",
          "data": {
            "text/plain": [
              "[1, 2]"
            ]
          },
          "metadata": {},
          "execution_count": 79
        }
      ]
    },
    {
      "cell_type": "code",
      "source": [
        "# pop(x)는 리스트의 x번째 요소를 반환하고 그 요소는 삭제한다\n",
        "\n",
        "a = [1, 2, 3]\n",
        "a.pop(1)\n",
        "a"
      ],
      "metadata": {
        "id": "VIC6wsEJzlEo",
        "colab": {
          "base_uri": "https://localhost:8080/"
        },
        "outputId": "13bfd540-d78b-4f00-d517-9167f81680d7"
      },
      "execution_count": 80,
      "outputs": [
        {
          "output_type": "execute_result",
          "data": {
            "text/plain": [
              "[1, 3]"
            ]
          },
          "metadata": {},
          "execution_count": 80
        }
      ]
    },
    {
      "cell_type": "code",
      "source": [
        "# 리스트에 포함된 요소 x의 개수 세기 - count\n",
        "# count(x)는 리스트 안에 x가 몇 개 있는지 조사하여 그 개수를 반환하는 함수\n",
        "\n",
        "a = [1, 2, 3, 1]\n",
        "a.count(1)"
      ],
      "metadata": {
        "id": "yI9Uz2KMzq-E",
        "colab": {
          "base_uri": "https://localhost:8080/"
        },
        "outputId": "210ee22c-91a1-42d0-ad63-802cde1595ed"
      },
      "execution_count": 81,
      "outputs": [
        {
          "output_type": "execute_result",
          "data": {
            "text/plain": [
              "2"
            ]
          },
          "metadata": {},
          "execution_count": 81
        }
      ]
    },
    {
      "cell_type": "code",
      "source": [
        "# 리스트 확장 - extend\n",
        "# extend(x)에서 x에는 리스트만 올 수 있으며 원래의 a 리스트에 x 리스트를 더하게 된다\n",
        "\n",
        "# a.extend([4, 5])는 a += [4, 5]와 동일하다.\n",
        "a = [1, 2, 3]\n",
        "a.extend([4, 5])\n",
        "a\n",
        "\n",
        "b = [6, 7]\n",
        "a.extend(b)\n",
        "a"
      ],
      "metadata": {
        "colab": {
          "base_uri": "https://localhost:8080/"
        },
        "id": "aCN-izJ5zwLe",
        "outputId": "05944169-bf03-4a83-90b3-82d8824f1356"
      },
      "execution_count": 82,
      "outputs": [
        {
          "output_type": "execute_result",
          "data": {
            "text/plain": [
              "[1, 2, 3, 4, 5, 6, 7]"
            ]
          },
          "metadata": {},
          "execution_count": 82
        }
      ]
    },
    {
      "cell_type": "code",
      "source": [
        "# 듀플 자료형\n",
        "\n",
        "# 리스트와 차이점\n",
        "# 리스트는 [], 튜플은 ()\n",
        "# 리스트는 요솟값의 생성, 삭제, 수정이 가능/  튜플은 요솟값을 바꿀 수 없다\n",
        "# 수시로 그 값을 변화시켜야할 경우라면 리스트\n",
        "# 프로그램이 실행되는 동안 요솟값이 항상 변하지 않기를 바란다거나 값이 바뀔까 걱정하고 싶지 않다면 주저하지 말고 튜플\n",
        "# 튜플은 요솟값을 변경할수 없기 때문에 sort, insert, remove, pop과 같은 내장 함수가 없다\n",
        "\n",
        "t1 = ()\n",
        "t2 = (1,)\n",
        "t3 = (1, 2, 3)\n",
        "t4 = 1, 2, 3\n",
        "t5 = ('a', 'b', ('ab', 'cd'))\n",
        "\n",
        "# t2 = (1,)처럼 단지 1개의 요소만을 가질 때는 요소 뒤에 쉼표(,)를 반드시 붙여야 한다\n",
        "# t4 = 1, 2, 3처럼 소괄호(())를 생략해도 된다\n"
      ],
      "metadata": {
        "id": "Y7zCFYyXz9Us"
      },
      "execution_count": 83,
      "outputs": []
    },
    {
      "cell_type": "code",
      "source": [
        "# 튜플 요솟값 삭제, 수정 불가\n",
        "\n",
        "# 튜플 인덱싱\n",
        "\n",
        "t1 = (1, 2, 'a', 'b')\n",
        "t1[0]"
      ],
      "metadata": {
        "id": "tUuctdiX0ZBt",
        "colab": {
          "base_uri": "https://localhost:8080/"
        },
        "outputId": "99605c56-078d-425e-b311-41dddd6e1cb0"
      },
      "execution_count": 84,
      "outputs": [
        {
          "output_type": "execute_result",
          "data": {
            "text/plain": [
              "1"
            ]
          },
          "metadata": {},
          "execution_count": 84
        }
      ]
    },
    {
      "cell_type": "code",
      "source": [
        "# 튜플 슬라이싱\n",
        "\n",
        "t1 = (1, 2, 'a', 'b')\n",
        "t1[1:]"
      ],
      "metadata": {
        "id": "fkhIkWE-0l1a",
        "colab": {
          "base_uri": "https://localhost:8080/"
        },
        "outputId": "0b28f26e-5e16-44aa-93e6-385f23ae53ea"
      },
      "execution_count": 85,
      "outputs": [
        {
          "output_type": "execute_result",
          "data": {
            "text/plain": [
              "(2, 'a', 'b')"
            ]
          },
          "metadata": {},
          "execution_count": 85
        }
      ]
    },
    {
      "cell_type": "code",
      "source": [
        "# 튜플 더하기\n",
        "\n",
        "t1 = (1, 2, 'a', 'b')\n",
        "t2 = (3, 4)\n",
        "t3 = t1 + t2\n",
        "t3"
      ],
      "metadata": {
        "id": "59Jfuobc0qiq",
        "colab": {
          "base_uri": "https://localhost:8080/"
        },
        "outputId": "cc474ab4-664e-4c23-8f26-165c3e459405"
      },
      "execution_count": 86,
      "outputs": [
        {
          "output_type": "execute_result",
          "data": {
            "text/plain": [
              "(1, 2, 'a', 'b', 3, 4)"
            ]
          },
          "metadata": {},
          "execution_count": 86
        }
      ]
    },
    {
      "cell_type": "code",
      "source": [
        "# 튜플 곱하기\n",
        "\n",
        "t2 = (3, 4)\n",
        "t3 = t2 * 3\n",
        "t3"
      ],
      "metadata": {
        "id": "AO3DcPBo0vaU",
        "colab": {
          "base_uri": "https://localhost:8080/"
        },
        "outputId": "5e059fcb-2a73-439d-fbe9-de02f1b9e407"
      },
      "execution_count": 87,
      "outputs": [
        {
          "output_type": "execute_result",
          "data": {
            "text/plain": [
              "(3, 4, 3, 4, 3, 4)"
            ]
          },
          "metadata": {},
          "execution_count": 87
        }
      ]
    },
    {
      "cell_type": "code",
      "source": [
        "# 튜플 길이 구하기\n",
        "\n",
        "t1 = (1, 2, 'a', 'b')\n",
        "len(t1)"
      ],
      "metadata": {
        "id": "3_Dzy36K0ykO",
        "colab": {
          "base_uri": "https://localhost:8080/"
        },
        "outputId": "5104e0ad-f36c-4349-ce25-9d117f947f4f"
      },
      "execution_count": 88,
      "outputs": [
        {
          "output_type": "execute_result",
          "data": {
            "text/plain": [
              "4"
            ]
          },
          "metadata": {},
          "execution_count": 88
        }
      ]
    },
    {
      "cell_type": "code",
      "source": [
        "# 딕셔너리 자료형 (java의 map과 같은 개념)\n",
        "\n",
        "#‘연관 배열(associative array)’또는 ‘해시(hash)’라고도 한다\n",
        "# Key와 Value를 한 쌍으로 가지는 자료형\n",
        "# key = \"baseball\"이라면 value = \"야구\"\n",
        "# 순차적으로(sequential) 해당 요솟값을 구하지 않고 Key를 통해 Value를 얻는다\n",
        "# 각각의 요소는 Key: Value 형태로 이루어져 있고 쉼표(,)로 구분되어 있다\n",
        "\n",
        "# 딕셔너리 쌍 추가하기\n",
        "\n",
        "a = {1: 'a'}\n",
        "a[2] = 'b'\n",
        "a\n",
        "\n",
        "a['name'] = 'pey'\n",
        "a\n",
        "\n",
        "a[3] = [1, 2, 3]\n",
        "a\n",
        "\n",
        "# 딕셔너리 요소 삭제하기\n",
        "\n",
        "del a[1]\n",
        "a\n",
        "\n"
      ],
      "metadata": {
        "colab": {
          "base_uri": "https://localhost:8080/"
        },
        "id": "NmxZJL1L06Eq",
        "outputId": "9e064905-0852-438c-b01a-9dd9740a7bae"
      },
      "execution_count": 89,
      "outputs": [
        {
          "output_type": "execute_result",
          "data": {
            "text/plain": [
              "{2: 'b', 'name': 'pey', 3: [1, 2, 3]}"
            ]
          },
          "metadata": {},
          "execution_count": 89
        }
      ]
    },
    {
      "cell_type": "code",
      "source": [
        "# 딕셔너리에서 Key를 사용해 Value 얻기\n",
        "# 어떤 Key의 Value를 얻기 위해서는 '딕셔너리_변수_이름[Key]'를 사용해야 한다\n",
        "\n",
        "grade = {'pey': 10, 'julliet': 99}\n",
        "grade['pey']\n",
        "grade['julliet']"
      ],
      "metadata": {
        "colab": {
          "base_uri": "https://localhost:8080/"
        },
        "id": "CkH_mZDW2BQF",
        "outputId": "b4659a79-8df1-493b-b753-6758c4db1288"
      },
      "execution_count": 90,
      "outputs": [
        {
          "output_type": "execute_result",
          "data": {
            "text/plain": [
              "99"
            ]
          },
          "metadata": {},
          "execution_count": 90
        }
      ]
    },
    {
      "cell_type": "code",
      "source": [
        "# a[1]이 의미하는 것은 리스트나 튜플의 a[1]과는 전혀 다르다\n",
        "# 딕셔너리 변수에서 [] 안의 숫자 1은 두 번째 요소를 나타내는 것이 아니라 Key에 해당하는 1을 나타낸다\n",
        "# a[1]은 딕셔너리 {1: 'a', 2: 'b'}에서 Key가 1인 것의 Value인 'a'를 반환한다\n",
        "\n",
        "a = {1:'a', 2:'b'}\n",
        "a[1]"
      ],
      "metadata": {
        "id": "TJ-HsgD02NEU",
        "colab": {
          "base_uri": "https://localhost:8080/",
          "height": 35
        },
        "outputId": "795ba6af-b25b-4a5f-de22-9eb91740a47e"
      },
      "execution_count": 91,
      "outputs": [
        {
          "output_type": "execute_result",
          "data": {
            "text/plain": [
              "'a'"
            ],
            "application/vnd.google.colaboratory.intrinsic+json": {
              "type": "string"
            }
          },
          "metadata": {},
          "execution_count": 91
        }
      ]
    },
    {
      "cell_type": "code",
      "source": [
        "# 딕셔너리 a는 a[Key]로 Key에 해당하는 Value를 얻는다\n",
        "\n",
        "a = {'a': 1, 'b': 2}\n",
        "a['a']\n",
        "a['b']\n",
        "\n",
        "dic = {'name':'pey', 'phone':'010-9999-1234', 'birth': '1118'}\n",
        "dic['name']\n",
        "dic['phone']\n",
        "dic['birth']"
      ],
      "metadata": {
        "colab": {
          "base_uri": "https://localhost:8080/",
          "height": 35
        },
        "id": "CrJzNQrP2cSc",
        "outputId": "926f4864-08e9-4b12-9f42-884faaac8759"
      },
      "execution_count": 92,
      "outputs": [
        {
          "output_type": "execute_result",
          "data": {
            "text/plain": [
              "'1118'"
            ],
            "application/vnd.google.colaboratory.intrinsic+json": {
              "type": "string"
            }
          },
          "metadata": {},
          "execution_count": 92
        }
      ]
    },
    {
      "cell_type": "code",
      "source": [
        "# 딕셔너리 만들 때 주의할 사항\n",
        "# Key는 고유한 값이므로 중복되는 Key 값을 설정해 놓으면 하나를 제외한 나머지 것들이 모두 무시된다\n",
        "# Key에 리스트는 쓸 수 없다\n",
        "# Value에는 변하는 값이든, 변하지 않는 값이든 아무 값이나 넣을 수 있다\n",
        "\n",
        "\n",
        "a = {1:'a', 1:'b'}\n",
        "a"
      ],
      "metadata": {
        "colab": {
          "base_uri": "https://localhost:8080/"
        },
        "id": "AUFoS7ec2n_O",
        "outputId": "d8d80f32-2dae-41d4-aae7-e856ac2dc753"
      },
      "execution_count": 93,
      "outputs": [
        {
          "output_type": "execute_result",
          "data": {
            "text/plain": [
              "{1: 'b'}"
            ]
          },
          "metadata": {},
          "execution_count": 93
        }
      ]
    },
    {
      "cell_type": "code",
      "source": [
        "# 딕셔너리 관련 함수\n",
        "\n",
        "# Key 리스트 만들기 - keys\n",
        "\n",
        "# 반환값으로 리스트가 필요한 경우에는 list(a.keys())를 사용하면 된다\n",
        "# dict_keys, dict_values, dict_items 객체는 리스트로 변환하지 않더라도 기본적인 반복 구문(예: for 문)에서 사용할 수 있다\n",
        "\n",
        "\n",
        "a = {'name': 'pey', 'phone': '010-9999-1234', 'birth': '1118'}\n",
        "a.keys()"
      ],
      "metadata": {
        "colab": {
          "base_uri": "https://localhost:8080/"
        },
        "id": "YcrbgQzL29qi",
        "outputId": "9181697a-52ac-4753-a6ec-cae05846b20f"
      },
      "execution_count": 94,
      "outputs": [
        {
          "output_type": "execute_result",
          "data": {
            "text/plain": [
              "dict_keys(['name', 'phone', 'birth'])"
            ]
          },
          "metadata": {},
          "execution_count": 94
        }
      ]
    },
    {
      "cell_type": "code",
      "source": [
        "# dict_keys 객체\n",
        "\n",
        "# 리스트를 사용하는 것과 별 차이는 없다\n",
        "# 리스트 고유의 append, insert, pop, remove, sort 함수는 수행할 수 없다\n",
        "\n",
        "for k in a.keys():\n",
        "  print(k)\n",
        "\n",
        "# dict_keys 객체를 리스트로 변환할 때\n",
        "\n",
        "list(a.keys())"
      ],
      "metadata": {
        "colab": {
          "base_uri": "https://localhost:8080/"
        },
        "id": "QrxeJD9C3WuK",
        "outputId": "5fca6fbd-f1f9-4d02-e7ab-9863c5f9f1b4"
      },
      "execution_count": 95,
      "outputs": [
        {
          "output_type": "stream",
          "name": "stdout",
          "text": [
            "name\n",
            "phone\n",
            "birth\n"
          ]
        },
        {
          "output_type": "execute_result",
          "data": {
            "text/plain": [
              "['name', 'phone', 'birth']"
            ]
          },
          "metadata": {},
          "execution_count": 95
        }
      ]
    },
    {
      "cell_type": "code",
      "source": [
        "# Key, Value 쌍 얻기 - items\n",
        "\n",
        "a.items()"
      ],
      "metadata": {
        "colab": {
          "base_uri": "https://localhost:8080/"
        },
        "id": "CVjafQ4d4Cdx",
        "outputId": "6598a8c6-a084-4be1-812e-e05d82a8ce83"
      },
      "execution_count": 96,
      "outputs": [
        {
          "output_type": "execute_result",
          "data": {
            "text/plain": [
              "dict_items([('name', 'pey'), ('phone', '010-9999-1234'), ('birth', '1118')])"
            ]
          },
          "metadata": {},
          "execution_count": 96
        }
      ]
    },
    {
      "cell_type": "code",
      "source": [
        "# Key: Value 쌍 모두 지우기 - clear\n",
        "# clear 함수는 딕셔너리 안의 모든 요소를 삭제한다\n",
        "# 빈 리스트 [], 빈 튜플을 ()로 표현하는 것과 마찬가지로 빈 딕셔너리도 {}로 표현한다\n",
        "\n",
        "a.clear()\n",
        "a"
      ],
      "metadata": {
        "colab": {
          "base_uri": "https://localhost:8080/"
        },
        "id": "hlLgKl5N4JJw",
        "outputId": "8266bcbe-32b0-42e0-c1b5-64a565652fca"
      },
      "execution_count": 97,
      "outputs": [
        {
          "output_type": "execute_result",
          "data": {
            "text/plain": [
              "{}"
            ]
          },
          "metadata": {},
          "execution_count": 97
        }
      ]
    },
    {
      "cell_type": "code",
      "source": [
        "# Key로 Value 얻기 - get\n",
        "\n",
        "a = {'name': 'pey', 'phone': '010-9999-1234', 'birth': '1118'}\n",
        "a.get('name')\n",
        "a.get('phone')"
      ],
      "metadata": {
        "id": "PN7i8io44aqJ",
        "colab": {
          "base_uri": "https://localhost:8080/",
          "height": 35
        },
        "outputId": "b48fe823-0ba0-443a-ba71-6cae739ea497"
      },
      "execution_count": 98,
      "outputs": [
        {
          "output_type": "execute_result",
          "data": {
            "text/plain": [
              "'010-9999-1234'"
            ],
            "application/vnd.google.colaboratory.intrinsic+json": {
              "type": "string"
            }
          },
          "metadata": {},
          "execution_count": 98
        }
      ]
    },
    {
      "cell_type": "code",
      "source": [
        "# None은 '거짓'이라는 뜻\n",
        "\n",
        "a = {'name':'pey', 'phone':'010-9999-1234', 'birth': '1118'}\n",
        "a.get('nokey')\n",
        "\n",
        "# 딕셔너리 안에 찾으려는 Key가 없을 경우, 미리 정해 둔 디폴트 값을 대신 가져오게 하고 싶을 때는 get(x, '디폴트 값')을 사용\n",
        "\n",
        "a.get('nokey', '정보없음')"
      ],
      "metadata": {
        "colab": {
          "base_uri": "https://localhost:8080/",
          "height": 35
        },
        "id": "pDEHGgoJ4f3A",
        "outputId": "c2f765e3-0881-4738-856c-5a7570392e5c"
      },
      "execution_count": 99,
      "outputs": [
        {
          "output_type": "execute_result",
          "data": {
            "text/plain": [
              "'정보없음'"
            ],
            "application/vnd.google.colaboratory.intrinsic+json": {
              "type": "string"
            }
          },
          "metadata": {},
          "execution_count": 99
        }
      ]
    },
    {
      "cell_type": "code",
      "source": [
        "# 해당 Key가 딕셔너리 안에 있는지 조사하기 - in\n",
        "\n",
        "a = {'name':'pey', 'phone':'010-9999-1234', 'birth': '1118'}\n",
        "'name' in a\n",
        "'email' in a"
      ],
      "metadata": {
        "colab": {
          "base_uri": "https://localhost:8080/"
        },
        "id": "Od63dfEz4wnw",
        "outputId": "25a9c95f-6bd9-4dd5-a1c7-4ff7d58e2764"
      },
      "execution_count": 100,
      "outputs": [
        {
          "output_type": "execute_result",
          "data": {
            "text/plain": [
              "False"
            ]
          },
          "metadata": {},
          "execution_count": 100
        }
      ]
    },
    {
      "cell_type": "code",
      "source": [
        "# Key로 Value 얻기 - pop\n",
        "# pop(x) 함수는 딕셔너리에서 Key가 x인 항목을 삭제한 후 그 Value를 반환\n",
        "# get 함수와 달리 pop은 해당 항목을 딕셔너리에서 삭제한다는 차이가 있다\n",
        "# 존재하지 않는 Key에 대해서는 디폴트 값을 지정할 수 있다.\n",
        "\n",
        "a = {'name':'pey', 'phone':'010-9999-1234', 'birth': '1118'}\n",
        "phone = a.pop('phone')\n",
        "phone\n",
        "a\n",
        "\n",
        "email = a.pop('email', '정보없음')\n",
        "email\n"
      ],
      "metadata": {
        "colab": {
          "base_uri": "https://localhost:8080/",
          "height": 35
        },
        "id": "EhAOSjek42hk",
        "outputId": "2f8aa5c5-1de4-405c-d330-9728d6dc1be9"
      },
      "execution_count": 101,
      "outputs": [
        {
          "output_type": "execute_result",
          "data": {
            "text/plain": [
              "'정보없음'"
            ],
            "application/vnd.google.colaboratory.intrinsic+json": {
              "type": "string"
            }
          },
          "metadata": {},
          "execution_count": 101
        }
      ]
    },
    {
      "cell_type": "code",
      "source": [
        "# 집합 자료형\n",
        "\n",
        "# set 키워드를 사용\n",
        "# set()의 괄호 안에 리스트를 입력\n",
        "\n",
        "s1 = set([1, 2, 3])\n",
        "s1\n",
        "\n",
        "# set()의 괄호 안에 문자열을 입력\n",
        "s2 = set(\"Hello\")\n",
        "s2\n",
        "\n",
        "# set()의 괄호 안에 중괄호({})를 사용\n",
        "s3 = {1, 2, 3}\n",
        "s3\n",
        "\n",
        "s4 = {'a', 'b', 'c'}\n",
        "s4\n",
        "\n",
        "# 비어 있는 집합 자료형은 s = set()\n",
        "# s = {}로 만들면 딕셔너리가 된다"
      ],
      "metadata": {
        "id": "ahYxrIz85GBk",
        "colab": {
          "base_uri": "https://localhost:8080/"
        },
        "outputId": "fe201b6f-cacd-4c3c-9976-fadfdb675237"
      },
      "execution_count": 102,
      "outputs": [
        {
          "output_type": "execute_result",
          "data": {
            "text/plain": [
              "{'a', 'b', 'c'}"
            ]
          },
          "metadata": {},
          "execution_count": 102
        }
      ]
    },
    {
      "cell_type": "code",
      "source": [
        "# 집합 자료형의 특징\n",
        "\n",
        "# 중복을 허용하지 않는다\n",
        "# 순서가 없다(Unordered)\n",
        "\n",
        "# 집합은 중복을 허용하지 않는 특징 때문에 데이터의 중복을 제거하기 위한 필터로 종종 사용\n",
        "\n",
        "# 집합 자료형은 순서가 없기(unordered) 때문에 인덱싱을 통해 요솟값을 얻을 수 없다\n",
        "#집합 자료형에 저장된 값을 인덱싱으로 접근하려면 다음과 같이 리스트나 튜플로 변환한 후에 해야 한다\n",
        "\n",
        "s1 = set([1, 2, 3])\n",
        "l1 = list(s1)\n",
        "l1\n",
        "l1[0]\n",
        "\n",
        "t1 = tuple(s1)\n",
        "t1\n",
        "t1[0]"
      ],
      "metadata": {
        "colab": {
          "base_uri": "https://localhost:8080/"
        },
        "id": "y8dQ_irq5oVC",
        "outputId": "60129dc5-0854-4ff0-c57f-a573ddd997ee"
      },
      "execution_count": 103,
      "outputs": [
        {
          "output_type": "execute_result",
          "data": {
            "text/plain": [
              "1"
            ]
          },
          "metadata": {},
          "execution_count": 103
        }
      ]
    },
    {
      "cell_type": "code",
      "source": [
        "# 교집합 구하기 - &, intersection 함수\n",
        "\n",
        "s1 = set([1, 2, 3, 4, 5, 6])\n",
        "s2 = set([4, 5, 6, 7, 8, 9])\n",
        "\n",
        "s1 & s2\n",
        "\n",
        "# intersection 함수\n",
        "s1.intersection(s2)"
      ],
      "metadata": {
        "colab": {
          "base_uri": "https://localhost:8080/"
        },
        "id": "qfFsAWPs5_OX",
        "outputId": "01893d4d-7f9b-4177-a303-81f56dd5a9e1"
      },
      "execution_count": 104,
      "outputs": [
        {
          "output_type": "execute_result",
          "data": {
            "text/plain": [
              "{4, 5, 6}"
            ]
          },
          "metadata": {},
          "execution_count": 104
        }
      ]
    },
    {
      "cell_type": "code",
      "source": [
        "# 합집합 구하기 - |, union 함수\n",
        "\n",
        "s1 = set([1, 2, 3, 4, 5, 6])\n",
        "s2 = set([4, 5, 6, 7, 8, 9])\n",
        "\n",
        "s1 | s2\n",
        "\n",
        "# union 함수\n",
        "s1.union(s2)"
      ],
      "metadata": {
        "id": "q0aZzCS_6KWS",
        "colab": {
          "base_uri": "https://localhost:8080/"
        },
        "outputId": "5ff5a612-06b7-4838-f155-225471cf6086"
      },
      "execution_count": 105,
      "outputs": [
        {
          "output_type": "execute_result",
          "data": {
            "text/plain": [
              "{1, 2, 3, 4, 5, 6, 7, 8, 9}"
            ]
          },
          "metadata": {},
          "execution_count": 105
        }
      ]
    },
    {
      "cell_type": "code",
      "source": [
        "# 차집합 구하기 - -(빼기), difference 함수\n",
        "\n",
        "s1 = set([1, 2, 3, 4, 5, 6])\n",
        "s2 = set([4, 5, 6, 7, 8, 9])\n",
        "\n",
        "s1 - s2\n",
        "s2 - s1\n",
        "\n",
        "# difference 함수\n",
        "s1.difference(s2)\n",
        "s2.difference(s1)"
      ],
      "metadata": {
        "id": "8Ixt559P6f1C",
        "colab": {
          "base_uri": "https://localhost:8080/"
        },
        "outputId": "685951ce-d1db-40a5-d0a6-41a2141da402"
      },
      "execution_count": 106,
      "outputs": [
        {
          "output_type": "execute_result",
          "data": {
            "text/plain": [
              "{7, 8, 9}"
            ]
          },
          "metadata": {},
          "execution_count": 106
        }
      ]
    },
    {
      "cell_type": "code",
      "source": [
        "# 집합 자료형 관련 함수\n",
        "# 값 1개 추가하기 - add\n",
        "\n",
        "s1 = set([1, 2, 3])\n",
        "s1.add(4)\n",
        "s1"
      ],
      "metadata": {
        "colab": {
          "base_uri": "https://localhost:8080/"
        },
        "id": "k7vSuwEQ9At3",
        "outputId": "6e5dc212-4030-4631-dd1b-63712f98ef8b"
      },
      "execution_count": 107,
      "outputs": [
        {
          "output_type": "execute_result",
          "data": {
            "text/plain": [
              "{1, 2, 3, 4}"
            ]
          },
          "metadata": {},
          "execution_count": 107
        }
      ]
    },
    {
      "cell_type": "code",
      "source": [
        "# 값 여러 개 추가하기 - update\n",
        "\n",
        "s1 = set([1, 2, 3])\n",
        "s1.update([4, 5, 6])\n",
        "s1"
      ],
      "metadata": {
        "id": "psVR3Suk9H2y",
        "colab": {
          "base_uri": "https://localhost:8080/"
        },
        "outputId": "ba677f13-e87f-4be6-9e93-d134ea995a22"
      },
      "execution_count": 108,
      "outputs": [
        {
          "output_type": "execute_result",
          "data": {
            "text/plain": [
              "{1, 2, 3, 4, 5, 6}"
            ]
          },
          "metadata": {},
          "execution_count": 108
        }
      ]
    },
    {
      "cell_type": "code",
      "source": [
        "# 특정 값 제거하기 - remove\n",
        "\n",
        "s1 = set([1, 2, 3])\n",
        "s1.remove(2)\n",
        "s1"
      ],
      "metadata": {
        "id": "mXFeno4l9LsE",
        "colab": {
          "base_uri": "https://localhost:8080/"
        },
        "outputId": "49855f9e-0f4e-4d8f-9eb7-b9aec1f27a6a"
      },
      "execution_count": 109,
      "outputs": [
        {
          "output_type": "execute_result",
          "data": {
            "text/plain": [
              "{1, 3}"
            ]
          },
          "metadata": {},
          "execution_count": 109
        }
      ]
    },
    {
      "cell_type": "code",
      "source": [
        "# 특정 값 제거하기 - discard\n",
        "# remove와 비슷하지만 존재하지 않는 값을 제거하려 할 때 오류가 발생하지 않는다\n",
        "\n",
        "s1 = set([1, 2, 3])\n",
        "s1.discard(2)\n",
        "s1\n",
        "s1.discard(4)  # 없는 값이어도 오류가 발생하지 않음\n",
        "s1"
      ],
      "metadata": {
        "id": "DDHyzGCf9O-K",
        "colab": {
          "base_uri": "https://localhost:8080/"
        },
        "outputId": "22866fdc-4a8b-448c-cbd8-cf09e69be4a1"
      },
      "execution_count": 110,
      "outputs": [
        {
          "output_type": "execute_result",
          "data": {
            "text/plain": [
              "{1, 3}"
            ]
          },
          "metadata": {},
          "execution_count": 110
        }
      ]
    },
    {
      "cell_type": "code",
      "source": [
        "# 모든 값 제거하기 - clear\n",
        "\n",
        "s1 = set([1, 2, 3])\n",
        "s1.clear()\n",
        "s1"
      ],
      "metadata": {
        "id": "oRk5Bcyt9XjK",
        "colab": {
          "base_uri": "https://localhost:8080/"
        },
        "outputId": "c363fb97-52b6-4968-bbd7-fec51c0bcd81"
      },
      "execution_count": 111,
      "outputs": [
        {
          "output_type": "execute_result",
          "data": {
            "text/plain": [
              "set()"
            ]
          },
          "metadata": {},
          "execution_count": 111
        }
      ]
    },
    {
      "cell_type": "code",
      "source": [
        "# 불 자료형\n",
        "# 불(bool) 자료형이란 참(True)과 거짓(False)을 나타내는 자료형\n",
        "# True: 참 / False: 거짓\n",
        "# True나 False는 파이썬의 예약어\n",
        "# true, false와 같이 작성하면 안 되고 첫 문자를 항상 대문자로 작성\n",
        "\n",
        "a = True\n",
        "b = False\n",
        "\n",
        "# type(x)는 x의 자료형을 확인하는 파이썬의 내장 함수\n",
        "\n",
        "type(a)\n",
        "type(b)"
      ],
      "metadata": {
        "colab": {
          "base_uri": "https://localhost:8080/"
        },
        "id": "XOE75HzY9beY",
        "outputId": "9673307f-9a0f-42a5-cf6e-ac8e2e8dcaef"
      },
      "execution_count": 112,
      "outputs": [
        {
          "output_type": "execute_result",
          "data": {
            "text/plain": [
              "bool"
            ]
          },
          "metadata": {},
          "execution_count": 112
        }
      ]
    },
    {
      "cell_type": "code",
      "source": [
        "# 불 자료형은 조건문의 리턴값으로도 사용된다\n",
        "\n",
        "1 == 1\n",
        "2 > 1\n",
        "2 < 1"
      ],
      "metadata": {
        "id": "mVlZ-6QX91WZ",
        "colab": {
          "base_uri": "https://localhost:8080/"
        },
        "outputId": "2f46cefc-f91d-415e-b794-837f42d0d5b7"
      },
      "execution_count": 113,
      "outputs": [
        {
          "output_type": "execute_result",
          "data": {
            "text/plain": [
              "False"
            ]
          },
          "metadata": {},
          "execution_count": 113
        }
      ]
    },
    {
      "cell_type": "code",
      "source": [
        "# 자료형의 참과 거짓\n",
        "\n",
        "\n",
        "# 값\t참 or 거짓\n",
        "# \"python\"\t참\n",
        "# \"\"\t거짓\n",
        "# [1, 2, 3]\t참\n",
        "# []\t거짓\n",
        "# (1, 2, 3)\t참\n",
        "# ()\t거짓\n",
        "# {'a': 1}\t참\n",
        "# {}\t거짓\n",
        "# 1\t참\n",
        "# 0\t거짓\n",
        "# None\t거짓\n",
        "\n",
        "# 문자열, 리스트, 튜플, 딕셔너리 등의 값이 비어 있으면(\"\", [], (), {}) 거짓\n",
        "# 숫자에서는 그 값이 0일 때 거짓\n",
        "\n",
        "a = [1, 2, 3, 4]\n",
        "while a:\n",
        "     print(a.pop())\n",
        "\n",
        "# while 조건문:\n",
        "#    수행할_문장\n",
        "# a가 참인 경우, a.pop()를 계속 실행하여 출력하라\n",
        "# a.pop() 함수는 리스트 a의 마지막 요소를 끄집어 내는 함수이므로 리스트 안에 요소가 존재하는 한(a가 참인 동안) 마지막 요소를 계속 끄집어 낼 것이다\n",
        "# 더 이상 끄집어 낼 것이 없으면 a가 빈 리스트([])가 되어 거짓\n",
        "# while 문에서 조건문이 거짓이 되므로 while 문을 빠져나가게 된다"
      ],
      "metadata": {
        "colab": {
          "base_uri": "https://localhost:8080/"
        },
        "id": "m28UnHW097xC",
        "outputId": "0442ea47-44e8-4bde-9771-50dbc8ebd17c"
      },
      "execution_count": 114,
      "outputs": [
        {
          "output_type": "stream",
          "name": "stdout",
          "text": [
            "4\n",
            "3\n",
            "2\n",
            "1\n"
          ]
        }
      ]
    },
    {
      "cell_type": "code",
      "source": [
        "# if문\n",
        "\n",
        "if []:\n",
        "     print(\"참\")\n",
        "else:\n",
        "     print(\"거짓\")\n",
        "\n",
        "if [1, 2, 3]:\n",
        "     print(\"참\")\n",
        "else:\n",
        "     print(\"거짓\")\n",
        "# 만약 [1, 2, 3]이 참이면 \"참\"이라는 문자열을 출력하고, 그렇지 않으면 \"거짓\"이라는 문자열을 출력하라\n"
      ],
      "metadata": {
        "colab": {
          "base_uri": "https://localhost:8080/"
        },
        "id": "ftRwkfkS-f7X",
        "outputId": "1762a874-6a66-42fd-b4c4-50b40c3e9f58"
      },
      "execution_count": 115,
      "outputs": [
        {
          "output_type": "stream",
          "name": "stdout",
          "text": [
            "거짓\n",
            "참\n"
          ]
        }
      ]
    },
    {
      "cell_type": "code",
      "source": [
        "# 불 연산\n",
        "\n",
        "# 'python' 문자열은 비어 있지 않으므로 bool 연산의 결과로 불 자료형인 True를 반환한다\n",
        "bool('python')\n",
        "\n",
        "# '' 문자열은 비어 있으므로 bool 연산의 결과로 불 자료형인 False를 반환한다\n",
        "bool('')\n",
        "\n",
        "\n",
        "bool([1, 2, 3])\n",
        "\n",
        "bool([])\n",
        "\n",
        "bool(0)\n",
        "\n",
        "bool(3)"
      ],
      "metadata": {
        "colab": {
          "base_uri": "https://localhost:8080/"
        },
        "id": "nu3qzbSW-w2q",
        "outputId": "646a0189-d833-4ec4-ee6c-49eeb021a769"
      },
      "execution_count": 116,
      "outputs": [
        {
          "output_type": "execute_result",
          "data": {
            "text/plain": [
              "True"
            ]
          },
          "metadata": {},
          "execution_count": 116
        }
      ]
    },
    {
      "cell_type": "code",
      "source": [
        "# 논리 연산자\n",
        "\n",
        "# 불 자료형에서는 and, or, not과 같은 논리 연산자를 사용할 수 있다\n",
        "\n",
        "# and 연산자\n",
        "\n",
        "# and 연산자는 양쪽 조건이 모두 참일 때만 True를 반환한다\n",
        "\n",
        "True and True\n",
        "\n",
        "True and False\n",
        "\n",
        "False and True\n",
        "\n",
        "False and False\n"
      ],
      "metadata": {
        "id": "wIW7RoqP_BWQ",
        "colab": {
          "base_uri": "https://localhost:8080/"
        },
        "outputId": "44f8f3b4-8136-4911-f283-36d08965bf1a"
      },
      "execution_count": 117,
      "outputs": [
        {
          "output_type": "execute_result",
          "data": {
            "text/plain": [
              "False"
            ]
          },
          "metadata": {},
          "execution_count": 117
        }
      ]
    },
    {
      "cell_type": "code",
      "source": [
        "# or 연산자\n",
        "\n",
        "# or 연산자는 양쪽 조건 중 하나라도 참이면 True를 반환한다\n",
        "\n",
        "True or True\n",
        "\n",
        "True or False\n",
        "\n",
        "False or True\n",
        "\n",
        "False or False\n"
      ],
      "metadata": {
        "id": "4Ds18rM0_NYk",
        "colab": {
          "base_uri": "https://localhost:8080/"
        },
        "outputId": "83ea0478-79f0-4805-b659-fc79311e814f"
      },
      "execution_count": 118,
      "outputs": [
        {
          "output_type": "execute_result",
          "data": {
            "text/plain": [
              "False"
            ]
          },
          "metadata": {},
          "execution_count": 118
        }
      ]
    },
    {
      "cell_type": "code",
      "source": [
        "# not 연산자\n",
        "\n",
        "# not 연산자는 조건의 참/거짓을 뒤바꾼다\n",
        "\n",
        "not True\n",
        "\n",
        "not False\n",
        "\n",
        "not 1\n",
        "\n",
        "not 0"
      ],
      "metadata": {
        "id": "e94ihCx4_V7S",
        "colab": {
          "base_uri": "https://localhost:8080/"
        },
        "outputId": "6da0f9d0-b94e-4b3a-d325-b0ef56073ffb"
      },
      "execution_count": 119,
      "outputs": [
        {
          "output_type": "execute_result",
          "data": {
            "text/plain": [
              "True"
            ]
          },
          "metadata": {},
          "execution_count": 119
        }
      ]
    },
    {
      "cell_type": "code",
      "source": [
        "# 실제 활용 예제\n",
        "\n",
        "x = 5\n",
        "y = 10\n",
        "x > 0 and y > 0\n",
        "\n",
        "x > 10 or y > 5\n",
        "\n",
        "not (x > y)"
      ],
      "metadata": {
        "id": "aLvuW1Mx_czW",
        "colab": {
          "base_uri": "https://localhost:8080/"
        },
        "outputId": "b0fc18a3-97e1-4cf1-f1e4-27b08f895194"
      },
      "execution_count": 120,
      "outputs": [
        {
          "output_type": "execute_result",
          "data": {
            "text/plain": [
              "True"
            ]
          },
          "metadata": {},
          "execution_count": 120
        }
      ]
    }
  ]
}