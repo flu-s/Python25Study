{
  "nbformat": 4,
  "nbformat_minor": 0,
  "metadata": {
    "colab": {
      "provenance": [],
      "authorship_tag": "ABX9TyOs3WM41I8Kc13U4pZ0Q/Of",
      "include_colab_link": true
    },
    "kernelspec": {
      "name": "python3",
      "display_name": "Python 3"
    },
    "language_info": {
      "name": "python"
    }
  },
  "cells": [
    {
      "cell_type": "markdown",
      "metadata": {
        "id": "view-in-github",
        "colab_type": "text"
      },
      "source": [
        "<a href=\"https://colab.research.google.com/github/flu-s/Python25Study/blob/main/%EB%B3%80%EC%88%98.ipynb\" target=\"_parent\"><img src=\"https://colab.research.google.com/assets/colab-badge.svg\" alt=\"Open In Colab\"/></a>"
      ]
    },
    {
      "cell_type": "code",
      "execution_count": 1,
      "metadata": {
        "id": "VhMX22DPHthK"
      },
      "outputs": [],
      "source": [
        "# 변수\n",
        "\n",
        "a = 1\n",
        "b = \"python\"\n",
        "c = [1, 2, 3]\n",
        "\n",
        "# 변수_이름 = 변수에_저장할_값\n",
        "\n",
        "# 변수명 규칙\n",
        "# 1. 영문자, 숫자, 언더스코어(_)만 사용\n",
        "# 2. 숫자로 시작할 수 없다\n",
        "# 3. 예약어는 사용할 수 없다\n",
        "# 4. 대소문자를 구분한다\n",
        "\n",
        "# 올바른 변수명 예시\n",
        "\n",
        "user_name = \"gildong\"\n",
        "userName = \"gildong\"  # 카멜 케이스\n",
        "_private = \"비공개\"\n",
        "count1 = 10\n",
        "\n",
        "# 잘못된 변수명 예시\n",
        "# 1name = \"홍길동\"    # 숫자로 시작 (오류)\n",
        "# user-name = \"홍길동\"  # 하이픈 사용 (오류)\n",
        "# if = 10             # 예약어 사용 (오류)"
      ]
    },
    {
      "cell_type": "code",
      "source": [
        "# 파이썬 예약어\n",
        "# 변수명으로 사용할 수 없다\n",
        "\n",
        "# False\n",
        "# None\n",
        "# True\n",
        "# and\n",
        "# as\n",
        "# assert\n",
        "# break\n",
        "# class\n",
        "# continue\n",
        "# def\n",
        "# del\n",
        "# elif\n",
        "# else\n",
        "# except\n",
        "# finally\n",
        "# for\n",
        "# from\n",
        "# global\n",
        "# if\n",
        "# import\n",
        "# in\n",
        "# is\n",
        "# lambda\n",
        "# nonlocal\n",
        "# not\n",
        "# or\n",
        "# pass\n",
        "# raise\n",
        "# return\n",
        "# try\n",
        "# while\n",
        "# with\n",
        "# yield\n",
        "\n",
        "# 의미가 명확한 이름을 사용한다\n",
        "# snake_case (단어 사이에 언더스코어)를 권장한다\n",
        "# 너무 짧거나 긴 이름은 피한다\n",
        "\n",
        "# 좋은 예\n",
        "student_name = \"김철수\"\n",
        "total_score = 95\n",
        "user_age = 20\n",
        "\n",
        "# 피해야 할 예\n",
        "a = \"김철수\"  # 의미 불명확\n",
        "studentNameFromKorea = \"김철수\"  # 너무 긴 이름"
      ],
      "metadata": {
        "id": "PaLUD4WNIKc7"
      },
      "execution_count": 2,
      "outputs": []
    },
    {
      "cell_type": "code",
      "source": [
        "# 변수\n",
        "# 파이썬에서 사용하는 변수는 객체를 가리키는 것\n",
        "\n",
        "# 객체\n",
        "# 자료형의 데이터(값)와 같은 것을 의미하는 말\n",
        "\n",
        "a = [1, 2, 3]\n",
        "# [1, 2, 3] 값을 가지는 리스트 데이터(객체)가 자동으로 메모리에 생성\n",
        "# 변수 a는 [1, 2, 3] 리스트가 저장된 메모리의 주소를 가리키게 된다\n",
        "# 메모리 = 컴퓨터가 프로그램에서 사용하는 데이터를 기억하는 공간\n",
        "\n",
        "a = [1, 2, 3]\n",
        "id(a)\n",
        "# id는 변수가 가리키고 있는 객체의 주소 값을 반환하는 파이썬의 내장 함수\n",
        "\n"
      ],
      "metadata": {
        "colab": {
          "base_uri": "https://localhost:8080/"
        },
        "id": "fBk-7TAnL1mF",
        "outputId": "4ff7685a-1470-4d51-a62e-ae186528fb6f"
      },
      "execution_count": 3,
      "outputs": [
        {
          "output_type": "execute_result",
          "data": {
            "text/plain": [
              "134355872305344"
            ]
          },
          "metadata": {},
          "execution_count": 3
        }
      ]
    },
    {
      "cell_type": "code",
      "source": [
        "# 리스트를 복사하고자 할 때\n",
        "\n",
        "a = [1, 2, 3]\n",
        "b = a\n",
        "\n",
        "a is b\n",
        "\n",
        "a[1] = 4\n",
        "a\n",
        "b\n",
        "\n"
      ],
      "metadata": {
        "colab": {
          "base_uri": "https://localhost:8080/"
        },
        "id": "EoigdjFBMQzl",
        "outputId": "3d860707-3c84-4128-b2a6-2e30e7008f8f"
      },
      "execution_count": 4,
      "outputs": [
        {
          "output_type": "execute_result",
          "data": {
            "text/plain": [
              "[1, 4, 3]"
            ]
          },
          "metadata": {},
          "execution_count": 4
        }
      ]
    },
    {
      "cell_type": "code",
      "source": [
        "# [:] 이용하기\n",
        "\n",
        "a = [1, 2, 3]\n",
        "b = a[:]\n",
        "a[1] = 4\n",
        "a\n",
        "b"
      ],
      "metadata": {
        "colab": {
          "base_uri": "https://localhost:8080/"
        },
        "id": "_C64EXzYMkCh",
        "outputId": "74a9f81b-10c6-4b0c-f99d-d6f886e05b79"
      },
      "execution_count": 5,
      "outputs": [
        {
          "output_type": "execute_result",
          "data": {
            "text/plain": [
              "[1, 2, 3]"
            ]
          },
          "metadata": {},
          "execution_count": 5
        }
      ]
    },
    {
      "cell_type": "code",
      "source": [
        "# copy 모듈 이용하기\n",
        "\n",
        "from copy import copy\n",
        "a = [1, 2, 3]\n",
        "b = copy(a)\n",
        "\n",
        "# b = copy(a)는 b = a[:]과 동일\n",
        "\n",
        "b is a\n",
        "# b와 a가 가리키는 객체는 서로 다르다\n",
        "\n",
        "# copy 함수 사용하기\n",
        "# 리스트 자료형의 자체 함수인 copy 함수를 사용해도 copy 모듈을 사용하는 것과 동일\n",
        "\n",
        "a = [1, 2, 3]\n",
        "b = a.copy()\n",
        "b is a"
      ],
      "metadata": {
        "colab": {
          "base_uri": "https://localhost:8080/"
        },
        "id": "rhw7kKNuMoPz",
        "outputId": "b3480cd3-9eee-4046-921e-248695093169"
      },
      "execution_count": 6,
      "outputs": [
        {
          "output_type": "execute_result",
          "data": {
            "text/plain": [
              "False"
            ]
          },
          "metadata": {},
          "execution_count": 6
        }
      ]
    },
    {
      "cell_type": "code",
      "source": [
        "# 변수를 만드는 여러 가지 방법\n",
        "\n",
        "# 튜플로 a, b에 값을 대입\n",
        "# 튜플은 괄호 생략 가능\n",
        "a, b = ('python', 'life')\n",
        "\n",
        "# 다음 예문과 동일\n",
        "(a, b) = 'python', 'life'\n",
        "\n",
        "# 리스트로 변수\n",
        "[a, b] = ['python', 'life']\n",
        "\n",
        "# 여러 개의 변수에 같은 값을 대입 가능\n",
        "a = b = 'python'\n",
        "\n",
        "# 두 변수의 값을 매우 간단하게 바꿀 수 있다\n",
        "a = 3\n",
        "b = 5\n",
        "a, b = b, a\n",
        "a\n",
        "b\n",
        "\n",
        "# a에 값 3, b에는 값 5가 대입되어 있었지만 a, b = b, a 문장을 수행한 후에는 그 값이 서로 바뀌었다"
      ],
      "metadata": {
        "colab": {
          "base_uri": "https://localhost:8080/"
        },
        "id": "GZ-va1TfM8mV",
        "outputId": "07a55ef9-0493-45ca-c289-3262d6f6ae7f"
      },
      "execution_count": 7,
      "outputs": [
        {
          "output_type": "execute_result",
          "data": {
            "text/plain": [
              "3"
            ]
          },
          "metadata": {},
          "execution_count": 7
        }
      ]
    }
  ]
}